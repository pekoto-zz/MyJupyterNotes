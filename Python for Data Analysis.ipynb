{
 "cells": [
  {
   "cell_type": "markdown",
   "metadata": {},
   "source": [
    "# Python for Data Analysis"
   ]
  },
  {
   "cell_type": "markdown",
   "metadata": {},
   "source": [
    "Book:\n",
    "http://wesmckinney.com/pages/book.html\n",
    "\n",
    "GitHub:\n",
    "https://github.com/wesm/pydata-book"
   ]
  },
  {
   "cell_type": "markdown",
   "metadata": {},
   "source": [
    "## 0. Terminology\n",
    "\n",
    "* Time series: a series of data points listed in time order\n",
    "* Data munging/wrangling/munge: transforming messy data into a structured format for processing"
   ]
  },
  {
   "cell_type": "markdown",
   "metadata": {},
   "source": [
    "## 1. Libraries Overview\n",
    "\n",
    "* NumPy\n",
    "    * `ndarray` -- fast multidimensional array\n",
    "    * C interop\n",
    "    * Linear algebra operations\n",
    "    * More efficient arrays\n",
    "    \n",
    "    \n",
    "* pandas\n",
    "    * High-level data structures for working with structured data\n",
    "    * In particular `DataFrame` and `Series`\n",
    "    \n",
    "    \n",
    "* matplotlib\n",
    "    * Produces plots and other 2D data visulizations\n",
    "    \n",
    "    \n",
    "* scipi\n",
    "    * Various scientific computing functions\n",
    "    * E.g., statistical tests, etc.\n",
    "    \n",
    "    \n",
    "* scikit-learn\n",
    "    * General-purpose machine learning\n",
    "    \n",
    "    \n",
    "* statsmodels\n",
    "    * Classical statistics and econometric algorithms\n",
    "    \n"
   ]
  },
  {
   "cell_type": "markdown",
   "metadata": {},
   "source": [
    "## 2. Import conventions\n",
    "It's bad practice to import everything, like:\n",
    "`from numpy import *`\n",
    "\n",
    "This will take in a huge package (snigger).\n",
    "\n",
    "Instead, the following import conventions are used:\n",
    "\n",
    "    * `import numpy as np`\n",
    "    * `import matplotlib.pyplot as plt`\n",
    "    * `import pandas as pd`\n",
    "    * `import seaborn as sns`\n",
    "    * `import statsmodel as sm`\n",
    "    \n",
    "This allows you to call, say, `np.arange`, so you can clearly see `.arange` is coming from the `np` package."
   ]
  },
  {
   "cell_type": "markdown",
   "metadata": {},
   "source": [
    "## 3. Python Reminder/Tips\n",
    "This section just contains some points that weren't covered in the previous Python tutorial."
   ]
  },
  {
   "cell_type": "markdown",
   "metadata": {},
   "source": [
    "### 3.1 Object Introspection"
   ]
  },
  {
   "cell_type": "code",
   "execution_count": 39,
   "metadata": {
    "collapsed": true
   },
   "outputs": [],
   "source": [
    "# Use ? to find out information about an object,\n",
    "# or to show a function's docstring\n",
    "\n",
    "my_list = [1, 2, 3]\n",
    "\n",
    "my_list?\n",
    "\n",
    "my_list.insert?"
   ]
  },
  {
   "cell_type": "markdown",
   "metadata": {},
   "source": [
    "### 3.2 %run/%load\n",
    "Use %run or %load (Jupyter) to run a .py script."
   ]
  },
  {
   "cell_type": "code",
   "execution_count": 10,
   "metadata": {
    "collapsed": true
   },
   "outputs": [],
   "source": [
    "# %run test_script.py\n",
    "\n",
    "# %load test_script.py"
   ]
  },
  {
   "cell_type": "markdown",
   "metadata": {},
   "source": [
    "### 3.3 Magic Commands\n",
    "Magic commands are special IPython commands not available in Python itself.\n",
    "\n",
    "They are prefixed by %.\n",
    "\n",
    "E.g., `%timeit`\n",
    "\n",
    "You can use ? with these commands too.\n",
    "\n",
    "Use the following to get a list of magic commands:\n",
    "\n",
    "`%quickref`\n",
    "`%magic`"
   ]
  },
  {
   "cell_type": "code",
   "execution_count": 15,
   "metadata": {},
   "outputs": [
    {
     "name": "stdout",
     "output_type": "stream",
     "text": [
      "Once deleted, variables cannot be recovered. Proceed (y/[n])? n\n",
      "Nothing done.\n",
      "Object `OBJECT` not found\n",
      "NameError: name 'VARIABLE' is not defined\n",
      "Using matplotlib backend: MacOSX\n"
     ]
    },
    {
     "name": "stderr",
     "output_type": "stream",
     "text": [
      "ERROR:tornado.application:Exception in callback functools.partial(<function wrap.<locals>.null_wrapper at 0x10e7e2f28>)\n",
      "Traceback (most recent call last):\n",
      "  File \"/anaconda3/lib/python3.6/site-packages/tornado/ioloop.py\", line 605, in _run_callback\n",
      "    ret = callback()\n",
      "  File \"/anaconda3/lib/python3.6/site-packages/tornado/stack_context.py\", line 277, in null_wrapper\n",
      "    return fn(*args, **kwargs)\n",
      "  File \"/anaconda3/lib/python3.6/site-packages/ipykernel/kernelbase.py\", line 265, in enter_eventloop\n",
      "    self.eventloop(self)\n",
      "  File \"/anaconda3/lib/python3.6/site-packages/ipykernel/eventloops.py\", line 277, in loop_cocoa\n",
      "    show.mainloop()\n",
      "AttributeError: 'function' object has no attribute 'mainloop'\n"
     ]
    }
   ],
   "source": [
    "# Enter debugger\n",
    "%debug?\n",
    "\n",
    "# Delete all defined variables/names\n",
    "%reset\n",
    "\n",
    "# Pretty-print the object and display it via pager\n",
    "%page OBJECT\n",
    "\n",
    "# Delete a variable and attempt to clear al references to it\n",
    "%xdel VARIABLE\n",
    "\n",
    "# Let's you see matplotlibs in Jupyter\n",
    "%matplotlib inline"
   ]
  },
  {
   "cell_type": "markdown",
   "metadata": {},
   "source": [
    "### 3.4 matplotlib in Jupyter"
   ]
  },
  {
   "cell_type": "code",
   "execution_count": 17,
   "metadata": {},
   "outputs": [
    {
     "data": {
      "text/plain": [
       "[<matplotlib.lines.Line2D at 0x10e9c3f98>]"
      ]
     },
     "execution_count": 17,
     "metadata": {},
     "output_type": "execute_result"
    },
    {
     "data": {
      "image/png": "[encoded data removed]",
      "text/plain": [
       "<matplotlib.figure.Figure at 0x10e701438>"
      ]
     },
     "metadata": {},
     "output_type": "display_data"
    }
   ],
   "source": [
    "import numpy as np\n",
    "\n",
    "%matplotlib inline\n",
    "\n",
    "import matplotlib.pyplot as plt\n",
    "\n",
    "plt.plot(np.random.rand(50).cumsum())"
   ]
  },
  {
   "cell_type": "markdown",
   "metadata": {},
   "source": [
    "### 3.5 Keyword Arguments\n",
    "Functions can take keyword arguments."
   ]
  },
  {
   "cell_type": "code",
   "execution_count": 22,
   "metadata": {},
   "outputs": [
    {
     "name": "stdout",
     "output_type": "stream",
     "text": [
      "x is 3, y is 2, and z is 10\n"
     ]
    }
   ],
   "source": [
    "def my_func(x, y, z):\n",
    "    print(\"x is {}, y is {}, and z is {}\".format(x, y, z))\n",
    "    \n",
    "my_func(x=3, z=10, y = 2)"
   ]
  },
  {
   "cell_type": "markdown",
   "metadata": {},
   "source": [
    "### 3.6 Binding\n",
    "Assigning is sometimes referred to as __binding__, and variables that have been assigned may be referred to as __bound variables__."
   ]
  },
  {
   "cell_type": "markdown",
   "metadata": {},
   "source": [
    "### 3.7 Checking conformity\n",
    "As well as using isinstance, you can define a function to check if something implements a certain protocol, throwing an error if it does not."
   ]
  },
  {
   "cell_type": "code",
   "execution_count": 26,
   "metadata": {},
   "outputs": [
    {
     "name": "stdout",
     "output_type": "stream",
     "text": [
      "5\n"
     ]
    }
   ],
   "source": [
    "def isiterable(obj):\n",
    "    try:\n",
    "        iter(obj)\n",
    "        return True\n",
    "    except TypeError:\n",
    "        return False\n",
    "\n",
    "x = 5\n",
    "\n",
    "if not isinstance(x, list) and isiterable(x):\n",
    "    x = list(x)\n",
    "    \n",
    "print(x)"
   ]
  },
  {
   "cell_type": "markdown",
   "metadata": {},
   "source": [
    "### 3.8 Scalar Value Types\n",
    "I.e., primitive types\n",
    "\n",
    "* None\n",
    "* str\n",
    "* bytes\n",
    "* float\n",
    "* bool\n",
    "* int"
   ]
  },
  {
   "cell_type": "markdown",
   "metadata": {},
   "source": [
    "### 3.9 Interpret characters as-is\n",
    "Use r before the string. (I.e., don't interpret the characters as escape characters.) Like @ in C#."
   ]
  },
  {
   "cell_type": "code",
   "execution_count": 28,
   "metadata": {},
   "outputs": [
    {
     "name": "stdout",
     "output_type": "stream",
     "text": [
      "this string\\does not contain\\special characters.\n"
     ]
    }
   ],
   "source": [
    "my_str = r\"this string\\does not contain\\special characters.\"\n",
    "\n",
    "print(my_str)"
   ]
  },
  {
   "cell_type": "markdown",
   "metadata": {},
   "source": [
    "### 3.10 Printing readable date strings\n",
    "Use `.strftime(...)`."
   ]
  },
  {
   "cell_type": "code",
   "execution_count": 33,
   "metadata": {},
   "outputs": [
    {
     "data": {
      "text/plain": [
       "'01/21/17 20:30'"
      ]
     },
     "execution_count": 33,
     "metadata": {},
     "output_type": "execute_result"
    }
   ],
   "source": [
    "from datetime import datetime, date, time\n",
    "\n",
    "dt = datetime(2017, 1, 21, 20, 30, 21)\n",
    "dt.strftime('%m/%d/%y %H:%M')"
   ]
  },
  {
   "cell_type": "markdown",
   "metadata": {},
   "source": [
    "### 3.12 Extracting variables\n",
    "When unpacking variables, you can use the `*rest` keyword to get the remaining arguments. Note, rest here is just an example and can be anything, such as an underscore (_)."
   ]
  },
  {
   "cell_type": "code",
   "execution_count": 35,
   "metadata": {},
   "outputs": [
    {
     "name": "stdout",
     "output_type": "stream",
     "text": [
      "1 2\n",
      "[3, 4, 5]\n"
     ]
    }
   ],
   "source": [
    "my_list = 1, 2, 3, 4, 5\n",
    "\n",
    "a, b, *rest = my_list\n",
    "\n",
    "print(a, b)\n",
    "\n",
    "print(rest)"
   ]
  },
  {
   "cell_type": "markdown",
   "metadata": {},
   "source": [
    "### 3.13 Sort Keys"
   ]
  },
  {
   "cell_type": "code",
   "execution_count": 38,
   "metadata": {},
   "outputs": [
    {
     "name": "stdout",
     "output_type": "stream",
     "text": [
      "['a', 'he', 'ate', 'great', 'hotdog']\n"
     ]
    }
   ],
   "source": [
    "my_list = [\"he\", \"ate\", \"a\", \"great\", \"hotdog\"]\n",
    "\n",
    "my_list.sort(key=len)\n",
    "\n",
    "print(my_list)"
   ]
  },
  {
   "cell_type": "markdown",
   "metadata": {
    "collapsed": true
   },
   "source": [
    "### 3.14 Understanding nested comprehension\n",
    "This is just a nice example."
   ]
  },
  {
   "cell_type": "code",
   "execution_count": 3,
   "metadata": {},
   "outputs": [
    {
     "name": "stdout",
     "output_type": "stream",
     "text": [
      "[1, 2, 3, 4, 5, 6, 7, 8, 9]\n",
      "[1, 2, 3, 4, 5, 6, 7, 8, 9]\n"
     ]
    }
   ],
   "source": [
    "some_tuples = ((1,2,3),(4,5,6),(7,8,9))\n",
    "\n",
    "flattened = [x for tup in some_tuples for x in tup]\n",
    "\n",
    "print(flattened)\n",
    "\n",
    "# This is the same as:\n",
    "\n",
    "flattened = []\n",
    "\n",
    "for tup in some_tuples:\n",
    "    for x in tup:\n",
    "        flattened.append(x)\n",
    "        \n",
    "print(flattened)"
   ]
  },
  {
   "cell_type": "markdown",
   "metadata": {},
   "source": [
    "### 3.15 Using a list of functions to clean strings "
   ]
  },
  {
   "cell_type": "code",
   "execution_count": 8,
   "metadata": {},
   "outputs": [
    {
     "data": {
      "text/plain": [
       "['Alabama', 'Georgia', 'West Virginia']"
      ]
     },
     "execution_count": 8,
     "metadata": {},
     "output_type": "execute_result"
    }
   ],
   "source": [
    "import re\n",
    "\n",
    "# Just another nice example\n",
    "def remove_punctuation(str):\n",
    "    return re.sub(\"[!#?]\", \"\", str)\n",
    "                  \n",
    "                  \n",
    "def clean_strings(strings, ops):\n",
    "    result = []\n",
    "    for value in strings:\n",
    "        for function in ops:\n",
    "            value = function(value)\n",
    "        result.append(value)\n",
    "    return result\n",
    "                  \n",
    "states = [\"    alabama\", \"Georgia!\", \"West Virginia?  \"]\n",
    "clean_ops = [str.strip, remove_punctuation, str.title]              \n",
    "    \n",
    "clean_strings(states, clean_ops)"
   ]
  },
  {
   "cell_type": "markdown",
   "metadata": {},
   "source": [
    "### 3.16 itertools\n",
    "The `itertools` module has a collection for generators, such as groupby, combinations, etc. Similar to LINQ statements in C#."
   ]
  },
  {
   "cell_type": "code",
   "execution_count": 14,
   "metadata": {},
   "outputs": [
    {
     "name": "stdout",
     "output_type": "stream",
     "text": [
      "('A', ['Adam', 'Alan'])\n",
      "('J', ['Jennifer', 'Josie', 'James'])\n"
     ]
    }
   ],
   "source": [
    "import itertools\n",
    "\n",
    "first_letter = lambda x: x[0]\n",
    "\n",
    "names = [\"Adam\", \"Alan\", \"Jennifer\", \"Josie\", \"James\"]\n",
    "\n",
    "for letter, names in itertools.groupby(names, first_letter):\n",
    "    print(letter, list(names)) # Names is a generator"
   ]
  },
  {
   "cell_type": "markdown",
   "metadata": {},
   "source": [
    "## 2. NumPy Basics"
   ]
  },
  {
   "cell_type": "code",
   "execution_count": null,
   "metadata": {
    "collapsed": true
   },
   "outputs": [],
   "source": []
  }
 ],
 "metadata": {
  "kernelspec": {
   "display_name": "Python 3",
   "language": "python",
   "name": "python3"
  },
  "language_info": {
   "codemirror_mode": {
    "name": "ipython",
    "version": 2
   },
   "file_extension": ".py",
   "mimetype": "text/x-python",
   "name": "python",
   "nbconvert_exporter": "python",
   "pygments_lexer": "ipython2",
   "version": "2.7.14"
  }
 },
 "nbformat": 4,
 "nbformat_minor": 2
}
