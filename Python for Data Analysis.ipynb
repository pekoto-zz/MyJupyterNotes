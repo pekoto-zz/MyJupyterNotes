{
 "cells": [
  {
   "cell_type": "markdown",
   "metadata": {},
   "source": [
    "# Python for Data Analysis"
   ]
  },
  {
   "cell_type": "markdown",
   "metadata": {},
   "source": [
    "Book:\n",
    "http://wesmckinney.com/pages/book.html\n",
    "\n",
    "GitHub:\n",
    "https://github.com/wesm/pydata-book"
   ]
  },
  {
   "cell_type": "markdown",
   "metadata": {},
   "source": [
    "## 0. Terminology\n",
    "\n",
    "* Time series: a series of data points listed in time order\n",
    "* Data munging/wrangling/munge: transforming messy data into a structured format for processing\n",
    "* Element-wise: perform on every element (e.g., in an array)\n",
    "* Quantile: A sample divided into equal-sized parts. E.g., a percentile is a quantile that divides a distribution into 100-equal sized parts."
   ]
  },
  {
   "cell_type": "markdown",
   "metadata": {},
   "source": [
    "## 1. Libraries Overview\n",
    "\n",
    "* NumPy\n",
    "    * `ndarray` -- fast multidimensional array\n",
    "    * C interop\n",
    "    * Linear algebra operations\n",
    "    * More efficient arrays\n",
    "    \n",
    "    \n",
    "* pandas\n",
    "    * High-level data structures for working with structured data\n",
    "    * In particular `DataFrame` and `Series`\n",
    "    \n",
    "    \n",
    "* matplotlib\n",
    "    * Produces plots and other 2D data visulizations\n",
    "    \n",
    "    \n",
    "* scipi\n",
    "    * Various scientific computing functions\n",
    "    * E.g., statistical tests, etc.\n",
    "    \n",
    "    \n",
    "* scikit-learn\n",
    "    * General-purpose machine learning\n",
    "    \n",
    "    \n",
    "* statsmodels\n",
    "    * Classical statistics and econometric algorithms\n",
    "    \n"
   ]
  },
  {
   "cell_type": "markdown",
   "metadata": {},
   "source": [
    "## 2. Import conventions\n",
    "It's bad practice to import everything, like:\n",
    "`from numpy import *`\n",
    "\n",
    "This will take in a huge package (snigger).\n",
    "\n",
    "Instead, the following import conventions are used:\n",
    "\n",
    "    * `import numpy as np`\n",
    "    * `import matplotlib.pyplot as plt`\n",
    "    * `import pandas as pd`\n",
    "    * `import seaborn as sns`\n",
    "    * `import statsmodel as sm`\n",
    "    \n",
    "This allows you to call, say, `np.arange`, so you can clearly see `.arange` is coming from the `np` package."
   ]
  },
  {
   "cell_type": "markdown",
   "metadata": {},
   "source": [
    "## 3. Python Reminder/Tips\n",
    "This section just contains some points that weren't covered in the previous Python tutorial."
   ]
  },
  {
   "cell_type": "markdown",
   "metadata": {},
   "source": [
    "### 3.1 Object Introspection"
   ]
  },
  {
   "cell_type": "code",
   "execution_count": 39,
   "metadata": {
    "collapsed": true
   },
   "outputs": [],
   "source": [
    "# Use ? to find out information about an object,\n",
    "# or to show a function's docstring\n",
    "\n",
    "my_list = [1, 2, 3]\n",
    "\n",
    "my_list?\n",
    "\n",
    "my_list.insert?"
   ]
  },
  {
   "cell_type": "markdown",
   "metadata": {},
   "source": [
    "### 3.2 %run/%load\n",
    "Use %run or %load (Jupyter) to run a .py script."
   ]
  },
  {
   "cell_type": "code",
   "execution_count": 10,
   "metadata": {
    "collapsed": true
   },
   "outputs": [],
   "source": [
    "# %run test_script.py\n",
    "\n",
    "# %load test_script.py"
   ]
  },
  {
   "cell_type": "markdown",
   "metadata": {},
   "source": [
    "### 3.3 Magic Commands\n",
    "Magic commands are special IPython commands not available in Python itself.\n",
    "\n",
    "They are prefixed by %.\n",
    "\n",
    "E.g., `%timeit`\n",
    "\n",
    "You can use ? with these commands too.\n",
    "\n",
    "Use the following to get a list of magic commands:\n",
    "\n",
    "`%quickref`\n",
    "`%magic`"
   ]
  },
  {
   "cell_type": "code",
   "execution_count": 15,
   "metadata": {},
   "outputs": [
    {
     "name": "stdout",
     "output_type": "stream",
     "text": [
      "Once deleted, variables cannot be recovered. Proceed (y/[n])? n\n",
      "Nothing done.\n",
      "Object `OBJECT` not found\n",
      "NameError: name 'VARIABLE' is not defined\n",
      "Using matplotlib backend: MacOSX\n"
     ]
    },
    {
     "name": "stderr",
     "output_type": "stream",
     "text": [
      "ERROR:tornado.application:Exception in callback functools.partial(<function wrap.<locals>.null_wrapper at 0x10e7e2f28>)\n",
      "Traceback (most recent call last):\n",
      "  File \"/anaconda3/lib/python3.6/site-packages/tornado/ioloop.py\", line 605, in _run_callback\n",
      "    ret = callback()\n",
      "  File \"/anaconda3/lib/python3.6/site-packages/tornado/stack_context.py\", line 277, in null_wrapper\n",
      "    return fn(*args, **kwargs)\n",
      "  File \"/anaconda3/lib/python3.6/site-packages/ipykernel/kernelbase.py\", line 265, in enter_eventloop\n",
      "    self.eventloop(self)\n",
      "  File \"/anaconda3/lib/python3.6/site-packages/ipykernel/eventloops.py\", line 277, in loop_cocoa\n",
      "    show.mainloop()\n",
      "AttributeError: 'function' object has no attribute 'mainloop'\n"
     ]
    }
   ],
   "source": [
    "# Enter debugger\n",
    "%debug?\n",
    "\n",
    "# Delete all defined variables/names\n",
    "%reset\n",
    "\n",
    "# Pretty-print the object and display it via pager\n",
    "%page OBJECT\n",
    "\n",
    "# Delete a variable and attempt to clear al references to it\n",
    "%xdel VARIABLE\n",
    "\n",
    "# Let's you see matplotlibs in Jupyter\n",
    "%matplotlib inline"
   ]
  },
  {
   "cell_type": "markdown",
   "metadata": {},
   "source": [
    "### 3.4 matplotlib in Jupyter"
   ]
  },
  {
   "cell_type": "code",
   "execution_count": 17,
   "metadata": {},
   "outputs": [
    {
     "data": {
      "text/plain": [
       "[<matplotlib.lines.Line2D at 0x10e9c3f98>]"
      ]
     },
     "execution_count": 17,
     "metadata": {},
     "output_type": "execute_result"
    },
    {
     "data": {
      "image/png": "[encoded data removed]",
      "text/plain": [
       "<matplotlib.figure.Figure at 0x10e701438>"
      ]
     },
     "metadata": {},
     "output_type": "display_data"
    }
   ],
   "source": [
    "import numpy as np\n",
    "\n",
    "%matplotlib inline\n",
    "\n",
    "import matplotlib.pyplot as plt\n",
    "\n",
    "plt.plot(np.random.rand(50).cumsum())"
   ]
  },
  {
   "cell_type": "markdown",
   "metadata": {},
   "source": [
    "### 3.5 Keyword Arguments\n",
    "Functions can take keyword arguments."
   ]
  },
  {
   "cell_type": "code",
   "execution_count": 22,
   "metadata": {},
   "outputs": [
    {
     "name": "stdout",
     "output_type": "stream",
     "text": [
      "x is 3, y is 2, and z is 10\n"
     ]
    }
   ],
   "source": [
    "def my_func(x, y, z):\n",
    "    print(\"x is {}, y is {}, and z is {}\".format(x, y, z))\n",
    "    \n",
    "my_func(x=3, z=10, y = 2)"
   ]
  },
  {
   "cell_type": "markdown",
   "metadata": {},
   "source": [
    "### 3.6 Binding\n",
    "Assigning is sometimes referred to as __binding__, and variables that have been assigned may be referred to as __bound variables__."
   ]
  },
  {
   "cell_type": "markdown",
   "metadata": {},
   "source": [
    "### 3.7 Checking conformity\n",
    "As well as using isinstance, you can define a function to check if something implements a certain protocol, throwing an error if it does not."
   ]
  },
  {
   "cell_type": "code",
   "execution_count": 26,
   "metadata": {},
   "outputs": [
    {
     "name": "stdout",
     "output_type": "stream",
     "text": [
      "5\n"
     ]
    }
   ],
   "source": [
    "def isiterable(obj):\n",
    "    try:\n",
    "        iter(obj)\n",
    "        return True\n",
    "    except TypeError:\n",
    "        return False\n",
    "\n",
    "x = 5\n",
    "\n",
    "if not isinstance(x, list) and isiterable(x):\n",
    "    x = list(x)\n",
    "    \n",
    "print(x)"
   ]
  },
  {
   "cell_type": "markdown",
   "metadata": {},
   "source": [
    "### 3.8 Scalar Value Types\n",
    "I.e., primitive types\n",
    "\n",
    "* None\n",
    "* str\n",
    "* bytes\n",
    "* float\n",
    "* bool\n",
    "* int"
   ]
  },
  {
   "cell_type": "markdown",
   "metadata": {},
   "source": [
    "### 3.9 Interpret characters as-is\n",
    "Use r before the string. (I.e., don't interpret the characters as escape characters.) Like @ in C#."
   ]
  },
  {
   "cell_type": "code",
   "execution_count": 28,
   "metadata": {},
   "outputs": [
    {
     "name": "stdout",
     "output_type": "stream",
     "text": [
      "this string\\does not contain\\special characters.\n"
     ]
    }
   ],
   "source": [
    "my_str = r\"this string\\does not contain\\special characters.\"\n",
    "\n",
    "print(my_str)"
   ]
  },
  {
   "cell_type": "markdown",
   "metadata": {},
   "source": [
    "### 3.10 Printing readable date strings\n",
    "Use `.strftime(...)`."
   ]
  },
  {
   "cell_type": "code",
   "execution_count": 33,
   "metadata": {},
   "outputs": [
    {
     "data": {
      "text/plain": [
       "'01/21/17 20:30'"
      ]
     },
     "execution_count": 33,
     "metadata": {},
     "output_type": "execute_result"
    }
   ],
   "source": [
    "from datetime import datetime, date, time\n",
    "\n",
    "dt = datetime(2017, 1, 21, 20, 30, 21)\n",
    "dt.strftime('%m/%d/%y %H:%M')"
   ]
  },
  {
   "cell_type": "markdown",
   "metadata": {},
   "source": [
    "### 3.12 Extracting variables\n",
    "When unpacking variables, you can use the `*rest` keyword to get the remaining arguments. Note, rest here is just an example and can be anything, such as an underscore (_)."
   ]
  },
  {
   "cell_type": "code",
   "execution_count": 35,
   "metadata": {},
   "outputs": [
    {
     "name": "stdout",
     "output_type": "stream",
     "text": [
      "1 2\n",
      "[3, 4, 5]\n"
     ]
    }
   ],
   "source": [
    "my_list = 1, 2, 3, 4, 5\n",
    "\n",
    "a, b, *rest = my_list\n",
    "\n",
    "print(a, b)\n",
    "\n",
    "print(rest)"
   ]
  },
  {
   "cell_type": "markdown",
   "metadata": {},
   "source": [
    "### 3.13 Sort Keys"
   ]
  },
  {
   "cell_type": "code",
   "execution_count": 38,
   "metadata": {},
   "outputs": [
    {
     "name": "stdout",
     "output_type": "stream",
     "text": [
      "['a', 'he', 'ate', 'great', 'hotdog']\n"
     ]
    }
   ],
   "source": [
    "my_list = [\"he\", \"ate\", \"a\", \"great\", \"hotdog\"]\n",
    "\n",
    "my_list.sort(key=len)\n",
    "\n",
    "print(my_list)"
   ]
  },
  {
   "cell_type": "markdown",
   "metadata": {
    "collapsed": true
   },
   "source": [
    "### 3.14 Understanding nested comprehension\n",
    "This is just a nice example."
   ]
  },
  {
   "cell_type": "code",
   "execution_count": 3,
   "metadata": {},
   "outputs": [
    {
     "name": "stdout",
     "output_type": "stream",
     "text": [
      "[1, 2, 3, 4, 5, 6, 7, 8, 9]\n",
      "[1, 2, 3, 4, 5, 6, 7, 8, 9]\n"
     ]
    }
   ],
   "source": [
    "some_tuples = ((1,2,3),(4,5,6),(7,8,9))\n",
    "\n",
    "flattened = [x for tup in some_tuples for x in tup]\n",
    "\n",
    "print(flattened)\n",
    "\n",
    "# This is the same as:\n",
    "\n",
    "flattened = []\n",
    "\n",
    "for tup in some_tuples:\n",
    "    for x in tup:\n",
    "        flattened.append(x)\n",
    "        \n",
    "print(flattened)"
   ]
  },
  {
   "cell_type": "markdown",
   "metadata": {},
   "source": [
    "### 3.15 Using a list of functions to clean strings "
   ]
  },
  {
   "cell_type": "code",
   "execution_count": 8,
   "metadata": {},
   "outputs": [
    {
     "data": {
      "text/plain": [
       "['Alabama', 'Georgia', 'West Virginia']"
      ]
     },
     "execution_count": 8,
     "metadata": {},
     "output_type": "execute_result"
    }
   ],
   "source": [
    "import re\n",
    "\n",
    "# Just another nice example\n",
    "def remove_punctuation(str):\n",
    "    return re.sub(\"[!#?]\", \"\", str)\n",
    "                  \n",
    "                  \n",
    "def clean_strings(strings, ops):\n",
    "    result = []\n",
    "    for value in strings:\n",
    "        for function in ops:\n",
    "            value = function(value)\n",
    "        result.append(value)\n",
    "    return result\n",
    "                  \n",
    "states = [\"    alabama\", \"Georgia!\", \"West Virginia?  \"]\n",
    "clean_ops = [str.strip, remove_punctuation, str.title]              \n",
    "    \n",
    "clean_strings(states, clean_ops)"
   ]
  },
  {
   "cell_type": "markdown",
   "metadata": {},
   "source": [
    "### 3.16 itertools\n",
    "The `itertools` module has a collection for generators, such as groupby, combinations, etc. Similar to LINQ statements in C#."
   ]
  },
  {
   "cell_type": "code",
   "execution_count": 14,
   "metadata": {},
   "outputs": [
    {
     "name": "stdout",
     "output_type": "stream",
     "text": [
      "('A', ['Adam', 'Alan'])\n",
      "('J', ['Jennifer', 'Josie', 'James'])\n"
     ]
    }
   ],
   "source": [
    "import itertools\n",
    "\n",
    "first_letter = lambda x: x[0]\n",
    "\n",
    "names = [\"Adam\", \"Alan\", \"Jennifer\", \"Josie\", \"James\"]\n",
    "\n",
    "for letter, names in itertools.groupby(names, first_letter):\n",
    "    print(letter, list(names)) # Names is a generator"
   ]
  },
  {
   "cell_type": "markdown",
   "metadata": {},
   "source": [
    "## 2. NumPy Basics"
   ]
  },
  {
   "cell_type": "markdown",
   "metadata": {
    "collapsed": true
   },
   "source": [
    "A few points about NumPy:\n",
    "    \n",
    "* Data is stored in a contiguous block in memory\n",
    "* NumPy's algorithms written in C can operate on this without type checking\n",
    "* NumPy arrays use less memory than built-in Python sequences\n",
    "\n"
   ]
  },
  {
   "cell_type": "code",
   "execution_count": 3,
   "metadata": {},
   "outputs": [
    {
     "name": "stdout",
     "output_type": "stream",
     "text": [
      "Wall time: 26 ms\n",
      "Wall time: 1.13 s\n"
     ]
    }
   ],
   "source": [
    "# Here's a comparison\n",
    "\n",
    "import numpy as np\n",
    "\n",
    "np_array = np.arange(1000000)\n",
    "\n",
    "python_list = list(range(1000000))\n",
    "\n",
    "\n",
    "%time for _ in range(10): np_array2 = np_array * 2\n",
    "    \n",
    "%time for _ in range(10): python_list2 = [x * 2 for x in python_list]"
   ]
  },
  {
   "cell_type": "markdown",
   "metadata": {},
   "source": [
    "And numpy arrays use less memory too."
   ]
  },
  {
   "cell_type": "markdown",
   "metadata": {},
   "source": [
    "### 2.1 ndarray\n",
    "ndarray is a fast, N-dimensional array object.\n",
    "You can perform mathematical operations on the every element with similar syntax to that you would use with scalar elements (e.g., above where we could just do `array * 2` to multiply every element in the array by 2, instead of needing a for composition).\n",
    "\n",
    "Every element in ndarray must be of the same type."
   ]
  },
  {
   "cell_type": "code",
   "execution_count": 4,
   "metadata": {},
   "outputs": [
    {
     "data": {
      "text/plain": [
       "array([[ 1.47636454,  0.58560396,  0.08390403],\n",
       "       [ 1.39940735, -0.60260737,  0.85310421]])"
      ]
     },
     "execution_count": 4,
     "metadata": {},
     "output_type": "execute_result"
    }
   ],
   "source": [
    "# Here is a 2 by 3 array with random data.\n",
    "\n",
    "import numpy as np\n",
    "\n",
    "random_two_by_three = np.random.randn(2, 3)\n",
    "\n",
    "random_two_by_three"
   ]
  },
  {
   "cell_type": "code",
   "execution_count": 7,
   "metadata": {},
   "outputs": [
    {
     "data": {
      "text/plain": [
       "array([[ 14.76364544,   5.85603959,   0.83904029],\n",
       "       [ 13.99407348,  -6.02607369,   8.53104209]])"
      ]
     },
     "execution_count": 7,
     "metadata": {},
     "output_type": "execute_result"
    }
   ],
   "source": [
    "# I can then multiply every element by 10\n",
    "random_two_by_three * 10"
   ]
  },
  {
   "cell_type": "code",
   "execution_count": 8,
   "metadata": {},
   "outputs": [
    {
     "data": {
      "text/plain": [
       "array([[ 2.95272909,  1.17120792,  0.16780806],\n",
       "       [ 2.7988147 , -1.20521474,  1.70620842]])"
      ]
     },
     "execution_count": 8,
     "metadata": {},
     "output_type": "execute_result"
    }
   ],
   "source": [
    "# Or add it with something else, like itself\n",
    "random_two_by_three + random_two_by_three"
   ]
  },
  {
   "cell_type": "code",
   "execution_count": 16,
   "metadata": {},
   "outputs": [
    {
     "name": "stdout",
     "output_type": "stream",
     "text": [
      "(2L, 3L)\n",
      "2\n",
      "float64\n"
     ]
    }
   ],
   "source": [
    "# Use shape to get the rows/columns of the array\n",
    "print(random_two_by_three.shape)\n",
    "\n",
    "# Use ndim to get the dimensions\n",
    "print(random_two_by_three.ndim)\n",
    "\n",
    "# And use dtype to get the data type stored in the array\n",
    "print(random_two_by_three.dtype)"
   ]
  },
  {
   "cell_type": "markdown",
   "metadata": {},
   "source": [
    "#### 2.1.1 Creating ndarrays"
   ]
  },
  {
   "cell_type": "code",
   "execution_count": 13,
   "metadata": {},
   "outputs": [
    {
     "data": {
      "text/plain": [
       "array([1, 2, 3, 4, 5])"
      ]
     },
     "execution_count": 13,
     "metadata": {},
     "output_type": "execute_result"
    }
   ],
   "source": [
    "# 1. Use the array function\n",
    "my_data = [1, 2, 3, 4, 5]\n",
    "\n",
    "my_np_arr = np.array(my_data)\n",
    "\n",
    "my_np_arr"
   ]
  },
  {
   "cell_type": "code",
   "execution_count": 15,
   "metadata": {},
   "outputs": [
    {
     "data": {
      "text/plain": [
       "array([[1, 2, 3],\n",
       "       [4, 5, 6]])"
      ]
     },
     "execution_count": 15,
     "metadata": {},
     "output_type": "execute_result"
    }
   ],
   "source": [
    "# 2. Nested sequences will be converted into multidimensional arrays\n",
    "nested_sequence = [[1, 2, 3], [4, 5, 6]]\n",
    "\n",
    "np_arr = np.array(nested_sequence)\n",
    "\n",
    "np_arr"
   ]
  },
  {
   "cell_type": "code",
   "execution_count": 35,
   "metadata": {},
   "outputs": [
    {
     "name": "stdout",
     "output_type": "stream",
     "text": [
      "[[ 0.  0.  0.]\n",
      " [ 0.  0.  0.]\n",
      " [ 0.  0.  0.]]\n",
      "[[ 1.  0.  0.]\n",
      " [ 0.  1.  0.]\n",
      " [ 0.  0.  1.]]\n"
     ]
    }
   ],
   "source": [
    "# 3. Use other functions like zeros, one, or empty to create arrays with these default values.\n",
    "#    Pass in tuples with dimensions as arguments.\n",
    "multi_dim_zero_array = np.zeros((3, 3))\n",
    "\n",
    "print(multi_dim_zero_array)\n",
    "\n",
    "identity = np.identity(3) # Note, just a single argument\n",
    "\n",
    "print(identity)"
   ]
  },
  {
   "cell_type": "code",
   "execution_count": 23,
   "metadata": {},
   "outputs": [
    {
     "data": {
      "text/plain": [
       "array([0, 1, 2, 3, 4, 5, 6, 7, 8, 9])"
      ]
     },
     "execution_count": 23,
     "metadata": {},
     "output_type": "execute_result"
    }
   ],
   "source": [
    "# 4. arange is like Python's range function, but it passes back an np array instead of a list\n",
    "aranged_arr = np.arange(10)\n",
    "\n",
    "aranged_arr"
   ]
  },
  {
   "cell_type": "code",
   "execution_count": 36,
   "metadata": {},
   "outputs": [
    {
     "name": "stdout",
     "output_type": "stream",
     "text": [
      "[[1 2 3]\n",
      " [4 5 6]]\n",
      "[[1 1 1]\n",
      " [1 1 1]]\n"
     ]
    }
   ],
   "source": [
    "# 5. \"like\" functions create an ndarray with the same shape and type\n",
    "nested_sequence = [[1, 2, 3], [4, 5, 6]]\n",
    "np_arr = np.array(nested_sequence)\n",
    "\n",
    "print(np_arr)\n",
    "\n",
    "like_arr = np.ones_like(np_arr)\n",
    "\n",
    "print(like_arr)"
   ]
  },
  {
   "cell_type": "code",
   "execution_count": 39,
   "metadata": {},
   "outputs": [
    {
     "data": {
      "text/plain": [
       "array([[6, 6, 6],\n",
       "       [6, 6, 6]])"
      ]
     },
     "execution_count": 39,
     "metadata": {},
     "output_type": "execute_result"
    }
   ],
   "source": [
    "# 6. Fill an array FULL of values\n",
    "filled_arr = np.full((2, 3), 6)\n",
    "\n",
    "filled_arr"
   ]
  },
  {
   "cell_type": "markdown",
   "metadata": {},
   "source": [
    "#### 2.1.2 ndarray data types"
   ]
  },
  {
   "cell_type": "code",
   "execution_count": 42,
   "metadata": {},
   "outputs": [
    {
     "data": {
      "text/plain": [
       "array([ 2.64,  1.43,  5.6 ])"
      ]
     },
     "execution_count": 42,
     "metadata": {},
     "output_type": "execute_result"
    }
   ],
   "source": [
    "# 1. Cast an array of strings to floats\n",
    "number_strings = np.array([\"2.64\", \"1.43\", \"5.6\"], dtype=np.string_)\n",
    "\n",
    "float_arr = number_strings.astype(float)\n",
    "\n",
    "float_arr"
   ]
  },
  {
   "cell_type": "markdown",
   "metadata": {},
   "source": [
    "#### 2.1.3 NumPy array arithmetic\n",
    "You can perform arithmetic operations on arrays without writing for loops.\n",
    "\n",
    "In NumPy, this is called __vectorization__. (Specifically, vectorization refers to using some array expression to accomplish your task, instead of writing a for loop.)"
   ]
  },
  {
   "cell_type": "code",
   "execution_count": 46,
   "metadata": {},
   "outputs": [
    {
     "data": {
      "text/plain": [
       "array([[1, 2, 3],\n",
       "       [4, 5, 6]])"
      ]
     },
     "execution_count": 46,
     "metadata": {},
     "output_type": "execute_result"
    }
   ],
   "source": [
    "arr = np.array([[1, 2, 3,], [4, 5, 6]])\n",
    "\n",
    "arr"
   ]
  },
  {
   "cell_type": "code",
   "execution_count": 49,
   "metadata": {},
   "outputs": [
    {
     "data": {
      "text/plain": [
       "array([[ 3,  6,  9],\n",
       "       [12, 15, 18]])"
      ]
     },
     "execution_count": 49,
     "metadata": {},
     "output_type": "execute_result"
    }
   ],
   "source": [
    "arr * 3"
   ]
  },
  {
   "cell_type": "code",
   "execution_count": 50,
   "metadata": {},
   "outputs": [
    {
     "data": {
      "text/plain": [
       "array([[ 2,  4,  6],\n",
       "       [ 8, 10, 12]])"
      ]
     },
     "execution_count": 50,
     "metadata": {},
     "output_type": "execute_result"
    }
   ],
   "source": [
    "arr + arr"
   ]
  },
  {
   "cell_type": "code",
   "execution_count": 51,
   "metadata": {},
   "outputs": [
    {
     "data": {
      "text/plain": [
       "array([[ 1,  4,  9],\n",
       "       [16, 25, 36]])"
      ]
     },
     "execution_count": 51,
     "metadata": {},
     "output_type": "execute_result"
    }
   ],
   "source": [
    "arr * arr"
   ]
  },
  {
   "cell_type": "code",
   "execution_count": 53,
   "metadata": {},
   "outputs": [
    {
     "data": {
      "text/plain": [
       "array([[ 1.        ,  0.5       ,  0.33333333],\n",
       "       [ 0.25      ,  0.2       ,  0.16666667]])"
      ]
     },
     "execution_count": 53,
     "metadata": {},
     "output_type": "execute_result"
    }
   ],
   "source": [
    "1.0/arr"
   ]
  },
  {
   "cell_type": "code",
   "execution_count": 54,
   "metadata": {},
   "outputs": [
    {
     "data": {
      "text/plain": [
       "array([[ 1.        ,  1.41421356,  1.73205081],\n",
       "       [ 2.        ,  2.23606798,  2.44948974]])"
      ]
     },
     "execution_count": 54,
     "metadata": {},
     "output_type": "execute_result"
    }
   ],
   "source": [
    "arr ** 0.5"
   ]
  },
  {
   "cell_type": "code",
   "execution_count": 57,
   "metadata": {},
   "outputs": [
    {
     "data": {
      "text/plain": [
       "array([[False, False,  True],\n",
       "       [ True, False, False]], dtype=bool)"
      ]
     },
     "execution_count": 57,
     "metadata": {},
     "output_type": "execute_result"
    }
   ],
   "source": [
    "# You can also use Boolean operations, which will compare each element in the array\n",
    "arr2 = np.array([[1, 5, 2], [2, 7, 9]])\n",
    "\n",
    "arr2 < arr"
   ]
  },
  {
   "cell_type": "markdown",
   "metadata": {},
   "source": [
    "#### 2.1.4 Indexing and slicing\n",
    "If you take a slice of an array and assign a scalar value to it, this is known as __broadcasting__. The value is __broadcasted__ to that slice."
   ]
  },
  {
   "cell_type": "code",
   "execution_count": 59,
   "metadata": {},
   "outputs": [
    {
     "data": {
      "text/plain": [
       "array([0, 1, 2, 3, 9, 9, 6, 7, 8, 9])"
      ]
     },
     "execution_count": 59,
     "metadata": {},
     "output_type": "execute_result"
    }
   ],
   "source": [
    "# Broadcasting example\n",
    "arr = np.arange(10)\n",
    "\n",
    "arr[4:6] = 9\n",
    "\n",
    "arr"
   ]
  },
  {
   "cell_type": "markdown",
   "metadata": {},
   "source": [
    "Important difference:\n",
    "When you take a slice of an ndarray, the slice refers to the original array elements.\n",
    "The data is NOT copied.\n",
    "\n",
    "This slice is known as a __view__."
   ]
  },
  {
   "cell_type": "code",
   "execution_count": 69,
   "metadata": {},
   "outputs": [
    {
     "name": "stdout",
     "output_type": "stream",
     "text": [
      "[0 1 2 3 4]\n",
      "[10  1  2  3  4  5  6  7  8  9]\n",
      "[1 1 1 1 1 5 6 7 8 9]\n"
     ]
    }
   ],
   "source": [
    "arr = np.arange(10)\n",
    "\n",
    "# Take a slice\n",
    "my_slice = arr[0:5]\n",
    "\n",
    "print(my_slice)\n",
    "\n",
    "# Change the first element of my slice\n",
    "my_slice[0] = 10\n",
    "\n",
    "# The change is reflected in the original array\n",
    "print(arr)\n",
    "\n",
    "# Or we could change every value in this slice\n",
    "my_slice[:] = 1\n",
    "\n",
    "print(arr)"
   ]
  },
  {
   "cell_type": "code",
   "execution_count": 70,
   "metadata": {},
   "outputs": [
    {
     "name": "stdout",
     "output_type": "stream",
     "text": [
      "[0 0]\n",
      "[1 1 1 1 1 5 6 7 8 9]\n"
     ]
    }
   ],
   "source": [
    "# But if you want, you CAN take a copy too.\n",
    "my_slice = arr[8:10].copy()\n",
    "\n",
    "my_slice[:] = 0\n",
    "\n",
    "print(my_slice)\n",
    "print(arr)"
   ]
  },
  {
   "cell_type": "code",
   "execution_count": 74,
   "metadata": {},
   "outputs": [
    {
     "name": "stdout",
     "output_type": "stream",
     "text": [
      "[[1 2 3]\n",
      " [4 5 6]]\n",
      "2\n",
      "2\n"
     ]
    }
   ],
   "source": [
    "# 2D arrays can be accessed using the usual [][] syntax, or by commas\n",
    "arr = np.array([[1, 2, 3], [4, 5, 6]])\n",
    "\n",
    "print(arr)\n",
    "\n",
    "print(arr[0][1]) # ==\n",
    "print(arr[0, 1])"
   ]
  },
  {
   "cell_type": "code",
   "execution_count": 79,
   "metadata": {},
   "outputs": [
    {
     "name": "stdout",
     "output_type": "stream",
     "text": [
      "[[[1 2 3]\n",
      "  [4 5 6]]\n",
      "\n",
      " [[3 2 1]\n",
      "  [6 5 3]]]\n",
      "[[1 2 3]\n",
      " [4 5 6]]\n",
      "[[[1 1 1]\n",
      "  [1 1 1]]\n",
      "\n",
      " [[3 2 1]\n",
      "  [6 5 3]]]\n"
     ]
    }
   ],
   "source": [
    "# Note on multidimensional arrays.\n",
    "# We can also get, say, 2 x 2 x 3 arrays. This means an 2 (2 by 3) arrays.\n",
    "higher_dim_arr = np.array([[[1, 2, 3], [4, 5, 6]], [[3, 2, 1], [6, 5, 3]]])\n",
    "\n",
    "print(higher_dim_arr)\n",
    "\n",
    "# So calling just one index will get you the first array\n",
    "print(higher_dim_arr[0])\n",
    "\n",
    "# And you can assign values to just this\n",
    "higher_dim_arr[0] = 1\n",
    "\n",
    "print(higher_dim_arr)"
   ]
  },
  {
   "cell_type": "markdown",
   "metadata": {},
   "source": [
    "#### Slicing in 2D\n",
    "Slicing in 2D is pretty logical. You just have to remember the syntax."
   ]
  },
  {
   "cell_type": "code",
   "execution_count": 83,
   "metadata": {},
   "outputs": [
    {
     "name": "stdout",
     "output_type": "stream",
     "text": [
      "[[1 2 3]\n",
      " [4 5 6]\n",
      " [7 8 9]]\n",
      "[[1 2 3]\n",
      " [4 5 6]]\n"
     ]
    }
   ],
   "source": [
    "arr2d = np.array([[1, 2, 3], [4, 5, 6], [7, 8, 9]])\n",
    "\n",
    "print(arr2d)\n",
    "\n",
    "slice2d = arr2d[:2] # Take first 2 rows (up to row index at 2 -- the 3rd row)\n",
    "\n",
    "print(slice2d)"
   ]
  },
  {
   "cell_type": "code",
   "execution_count": 90,
   "metadata": {},
   "outputs": [
    {
     "name": "stdout",
     "output_type": "stream",
     "text": [
      "[[1]\n",
      " [4]\n",
      " [7]]\n",
      "[[4 5]\n",
      " [7 8]]\n"
     ]
    }
   ],
   "source": [
    "# First arg = select all rows, second arg: select up to column 1\n",
    "col1 = arr2d[:, :1]\n",
    "print(col1)\n",
    "\n",
    "# Take from row 1, up to col 2 (the third col)\n",
    "sub_arr = arr2d[1:, :2]\n",
    "print(sub_arr)"
   ]
  },
  {
   "cell_type": "markdown",
   "metadata": {},
   "source": [
    "#### 2.1.5 Boolean indexing\n",
    "We can use a Boolean condition to select array indices.\n",
    "\n",
    "Suppose we had some names and an array of data.\n",
    "And imagine every row in the array corresponds to one of the names."
   ]
  },
  {
   "cell_type": "code",
   "execution_count": 92,
   "metadata": {},
   "outputs": [
    {
     "name": "stdout",
     "output_type": "stream",
     "text": [
      "['Bob' 'James' 'Tim' 'Sally' 'Trish' 'Sara' 'Jesse']\n",
      "[[-0.74976441 -1.44286506 -0.49599846 -1.28430698]\n",
      " [ 0.21163118 -0.31702432  1.02055599  0.12360032]\n",
      " [ 0.02082039 -1.94356852 -0.92712085  0.57247121]\n",
      " [ 1.85835009  1.66578352  0.50968336  1.26967872]\n",
      " [-0.42728919 -1.88049417  1.26696286 -0.00519333]\n",
      " [-0.74430498  2.00097006 -0.10675513  0.72826767]\n",
      " [-1.41578149  1.30536751  0.12695225 -1.89775707]]\n"
     ]
    }
   ],
   "source": [
    "# Array of names\n",
    "names = np.array([\"Bob\", \"James\", \"Tim\", \"Sally\", \"Trish\", \"Sara\", \"Jesse\"])\n",
    "\n",
    "data = np.random.randn(7, 4)\n",
    "\n",
    "print(names)\n",
    "print(data)"
   ]
  },
  {
   "cell_type": "code",
   "execution_count": 94,
   "metadata": {},
   "outputs": [
    {
     "data": {
      "text/plain": [
       "array([False, False,  True, False, False, False, False], dtype=bool)"
      ]
     },
     "execution_count": 94,
     "metadata": {},
     "output_type": "execute_result"
    }
   ],
   "source": [
    "# We can then get the elements/index of the array that correspond to a certain name\n",
    "# I.e., the True is in index 2, where Tim is.\n",
    "names == \"Tim\""
   ]
  },
  {
   "cell_type": "code",
   "execution_count": 96,
   "metadata": {},
   "outputs": [
    {
     "data": {
      "text/plain": [
       "array([[ 0.02082039, -1.94356852, -0.92712085,  0.57247121]])"
      ]
     },
     "execution_count": 96,
     "metadata": {},
     "output_type": "execute_result"
    }
   ],
   "source": [
    "# So, we can pass this into data, to get Tim's corresponding row\n",
    "# I.e., get the index of names that corresponds to Tim, and then pass this into data\n",
    "data[names == \"Tim\"]"
   ]
  },
  {
   "cell_type": "code",
   "execution_count": 98,
   "metadata": {},
   "outputs": [
    {
     "data": {
      "text/plain": [
       "array([ 0.57247121])"
      ]
     },
     "execution_count": 98,
     "metadata": {},
     "output_type": "execute_result"
    }
   ],
   "source": [
    "# You could also combine this to get a certain column/columns with slicing\n",
    "data[names == \"Tim\", 3]"
   ]
  },
  {
   "cell_type": "code",
   "execution_count": 100,
   "metadata": {},
   "outputs": [
    {
     "data": {
      "text/plain": [
       "array([[-0.74976441, -1.44286506, -0.49599846, -1.28430698],\n",
       "       [ 0.21163118, -0.31702432,  1.02055599,  0.12360032],\n",
       "       [ 1.85835009,  1.66578352,  0.50968336,  1.26967872],\n",
       "       [-0.42728919, -1.88049417,  1.26696286, -0.00519333],\n",
       "       [-0.74430498,  2.00097006, -0.10675513,  0.72826767],\n",
       "       [-1.41578149,  1.30536751,  0.12695225, -1.89775707]])"
      ]
     },
     "execution_count": 100,
     "metadata": {},
     "output_type": "execute_result"
    }
   ],
   "source": [
    "# Likewise, you can negate the condition using != or ~ to get everything EXCEPT Tim's data\n",
    "data[~(names == \"Tim\")]"
   ]
  },
  {
   "cell_type": "markdown",
   "metadata": {},
   "source": [
    "__Note:__ `and` and `or` won't work with Boolean indexing. Using `&` and `|` instead:"
   ]
  },
  {
   "cell_type": "code",
   "execution_count": 102,
   "metadata": {},
   "outputs": [
    {
     "data": {
      "text/plain": [
       "array([[ 0.02082039, -1.94356852, -0.92712085,  0.57247121],\n",
       "       [-0.74430498,  2.00097006, -0.10675513,  0.72826767]])"
      ]
     },
     "execution_count": 102,
     "metadata": {},
     "output_type": "execute_result"
    }
   ],
   "source": [
    "data[(names == \"Tim\") | (names == \"Sara\")]"
   ]
  },
  {
   "cell_type": "markdown",
   "metadata": {},
   "source": [
    "__Note:__ Selecting array elements using Boolean conditionals ALWAYS creates a copy of the data."
   ]
  },
  {
   "cell_type": "code",
   "execution_count": 105,
   "metadata": {},
   "outputs": [
    {
     "name": "stdout",
     "output_type": "stream",
     "text": [
      "[[ 0.          0.          0.          0.        ]\n",
      " [ 0.21163118  0.          1.02055599  0.12360032]\n",
      " [ 0.02082039  0.          0.          0.57247121]\n",
      " [ 1.85835009  1.66578352  0.50968336  1.26967872]\n",
      " [ 0.          0.          1.26696286  0.        ]\n",
      " [ 0.          2.00097006  0.          0.72826767]\n",
      " [ 0.          1.30536751  0.12695225  0.        ]]\n"
     ]
    }
   ],
   "source": [
    "# We can also use Boolean conditionals to set data\n",
    "# E.g., floor to 0\n",
    "data[data < 0] = 0\n",
    "\n",
    "print(data)"
   ]
  },
  {
   "cell_type": "code",
   "execution_count": 107,
   "metadata": {},
   "outputs": [
    {
     "name": "stdout",
     "output_type": "stream",
     "text": [
      "[[ 0.          0.          0.          0.        ]\n",
      " [ 0.21163118  0.          1.02055599  0.12360032]\n",
      " [ 7.          7.          7.          7.        ]\n",
      " [ 1.85835009  1.66578352  0.50968336  1.26967872]\n",
      " [ 0.          0.          1.26696286  0.        ]\n",
      " [ 0.          2.00097006  0.          0.72826767]\n",
      " [ 0.          1.30536751  0.12695225  0.        ]]\n"
     ]
    }
   ],
   "source": [
    "# Or to set values for a user\n",
    "data[names == \"Tim\"] = 7\n",
    "\n",
    "print(data)"
   ]
  },
  {
   "cell_type": "markdown",
   "metadata": {},
   "source": [
    "#### 2.1.6 Fancy indexing\n",
    "_fancy indexing_ refers to indexing using an integer array.\n",
    "\n",
    "Fancy indexing will always return a 1D array.\n",
    "\n",
    "Like Boolean indexing, fancy indexing will always create a copy of the data."
   ]
  },
  {
   "cell_type": "code",
   "execution_count": 110,
   "metadata": {},
   "outputs": [
    {
     "name": "stdout",
     "output_type": "stream",
     "text": [
      "[[ 0.  0.  0.  0.]\n",
      " [ 1.  1.  1.  1.]\n",
      " [ 2.  2.  2.  2.]\n",
      " [ 3.  3.  3.  3.]\n",
      " [ 4.  4.  4.  4.]\n",
      " [ 5.  5.  5.  5.]\n",
      " [ 6.  6.  6.  6.]\n",
      " [ 7.  7.  7.  7.]]\n"
     ]
    }
   ],
   "source": [
    "# Take an array like this:\n",
    "arr = np.empty((8,4))\n",
    "\n",
    "for i in range(8):\n",
    "    arr[i] = i\n",
    "    \n",
    "print(arr)"
   ]
  },
  {
   "cell_type": "code",
   "execution_count": 112,
   "metadata": {},
   "outputs": [
    {
     "name": "stdout",
     "output_type": "stream",
     "text": [
      "[[ 6.  6.  6.  6.]\n",
      " [ 3.  3.  3.  3.]]\n"
     ]
    }
   ],
   "source": [
    "# Then we can use fancy indexing to select a subset of rows in a particular order.\n",
    "# E.g., to select 6 and 3:\n",
    "subset = arr[[6, 3]]\n",
    "\n",
    "print(subset)"
   ]
  },
  {
   "cell_type": "code",
   "execution_count": 113,
   "metadata": {},
   "outputs": [
    {
     "name": "stdout",
     "output_type": "stream",
     "text": [
      "[[ 0  1  2  3]\n",
      " [ 4  5  6  7]\n",
      " [ 8  9 10 11]\n",
      " [12 13 14 15]\n",
      " [16 17 18 19]\n",
      " [20 21 22 23]\n",
      " [24 25 26 27]\n",
      " [28 29 30 31]]\n"
     ]
    }
   ],
   "source": [
    "# reshape -- change the dimension of an array\n",
    "arr = np.arange(32).reshape((8, 4))\n",
    "\n",
    "print(arr)"
   ]
  },
  {
   "cell_type": "code",
   "execution_count": 117,
   "metadata": {},
   "outputs": [
    {
     "name": "stdout",
     "output_type": "stream",
     "text": [
      "[ 3 28]\n"
     ]
    }
   ],
   "source": [
    "# If you pass in two arrays, you get back a 1D array where the first array specifies the row, and the second the column.\n",
    "arr1d = arr[[0, 7], [3, 0]]\n",
    "\n",
    "# 3 = [0,3]\n",
    "# 4 = [7,0]\n",
    "print(arr1d)"
   ]
  },
  {
   "cell_type": "markdown",
   "metadata": {},
   "source": [
    "#### 2.1.7 Transposing\n",
    "Arrays have a `transpose` method and a `T` attribute."
   ]
  },
  {
   "cell_type": "code",
   "execution_count": 154,
   "metadata": {},
   "outputs": [
    {
     "name": "stdout",
     "output_type": "stream",
     "text": [
      "[[ 0  1  2  3  4]\n",
      " [ 5  6  7  8  9]\n",
      " [10 11 12 13 14]]\n"
     ]
    }
   ],
   "source": [
    "arr = np.arange(15).reshape(3, 5)\n",
    "\n",
    "print(arr)"
   ]
  },
  {
   "cell_type": "code",
   "execution_count": 148,
   "metadata": {},
   "outputs": [
    {
     "data": {
      "text/plain": [
       "array([[ 0,  5, 10],\n",
       "       [ 1,  6, 11],\n",
       "       [ 2,  7, 12],\n",
       "       [ 3,  8, 13],\n",
       "       [ 4,  9, 14]])"
      ]
     },
     "execution_count": 148,
     "metadata": {},
     "output_type": "execute_result"
    }
   ],
   "source": [
    "# Get the transpose\n",
    "arr.T"
   ]
  },
  {
   "cell_type": "code",
   "execution_count": 149,
   "metadata": {},
   "outputs": [
    {
     "name": "stdout",
     "output_type": "stream",
     "text": [
      "[[ 0  1  2  3  4]\n",
      " [ 5  6  7  8  9]\n",
      " [10 11 12 13 14]]\n"
     ]
    }
   ],
   "source": [
    "# Just accessing the parameter doesn't affect the underlying array, obviously.\n",
    "print(arr)"
   ]
  },
  {
   "cell_type": "code",
   "execution_count": 157,
   "metadata": {},
   "outputs": [
    {
     "name": "stdout",
     "output_type": "stream",
     "text": [
      "[[[ 0  1  2  3]\n",
      "  [ 4  5  6  7]]\n",
      "\n",
      " [[ 8  9 10 11]\n",
      "  [12 13 14 15]]]\n"
     ]
    }
   ],
   "source": [
    "# Higher dimension arrays can also be transposed\n",
    "# (2 2x4 matrices)\n",
    "arr = np.arange(16).reshape(2, 2, 4)\n",
    "print(arr)"
   ]
  },
  {
   "cell_type": "code",
   "execution_count": 158,
   "metadata": {},
   "outputs": [
    {
     "data": {
      "text/plain": [
       "array([[[ 0,  4],\n",
       "        [ 1,  5],\n",
       "        [ 2,  6],\n",
       "        [ 3,  7]],\n",
       "\n",
       "       [[ 8, 12],\n",
       "        [ 9, 13],\n",
       "        [10, 14],\n",
       "        [11, 15]]])"
      ]
     },
     "execution_count": 158,
     "metadata": {},
     "output_type": "execute_result"
    }
   ],
   "source": [
    "# Swap the axes within the arrays\n",
    "arr.swapaxes(1, 2)"
   ]
  },
  {
   "cell_type": "code",
   "execution_count": 159,
   "metadata": {},
   "outputs": [
    {
     "name": "stdout",
     "output_type": "stream",
     "text": [
      "[[[ 0  1  2  3]\n",
      "  [ 4  5  6  7]]\n",
      "\n",
      " [[ 8  9 10 11]\n",
      "  [12 13 14 15]]]\n"
     ]
    }
   ],
   "source": [
    "print(arr)"
   ]
  },
  {
   "cell_type": "code",
   "execution_count": 161,
   "metadata": {},
   "outputs": [
    {
     "name": "stdout",
     "output_type": "stream",
     "text": [
      "[[[ 0  1  2  3]\n",
      "  [ 4  5  6  7]]\n",
      "\n",
      " [[ 8  9 10 11]\n",
      "  [12 13 14 15]]]\n"
     ]
    }
   ],
   "source": [
    "# Transpose is a bit more complex in higher dimensions\n",
    "arr = np.arange(16).reshape(2, 2, 4)\n",
    "print(arr)"
   ]
  },
  {
   "cell_type": "code",
   "execution_count": 163,
   "metadata": {},
   "outputs": [
    {
     "data": {
      "text/plain": [
       "array([[[ 0,  1,  2,  3],\n",
       "        [ 8,  9, 10, 11]],\n",
       "\n",
       "       [[ 4,  5,  6,  7],\n",
       "        [12, 13, 14, 15]]])"
      ]
     },
     "execution_count": 163,
     "metadata": {},
     "output_type": "execute_result"
    }
   ],
   "source": [
    "# Here, we feed in how we want to permute the axes.\n",
    "# For example, if we think of our axes as (x, y, z). I.e., the x = matrix to choose, y = row to choose, z = column to choose\n",
    "# Then, (0, 1, 0) = 4 in our original matrix.\n",
    "# Now, into transpose we pass (1, 0, 2). It's like saying, make (x, y, z) into (y, x, z)\n",
    "# So (0, 1, 0) = 4, means 4 changes to position (1, 0, 0) -- second matrix, first row, first col.\n",
    "# Whew!\n",
    "arr.transpose((1, 0, 2))"
   ]
  },
  {
   "cell_type": "markdown",
   "metadata": {},
   "source": [
    "### 2.2 Universal functions\n",
    "Aka `ufunc`.\n",
    "\n",
    "These functions vectorize -- perform some operation on all of the elements without needing a for loop -- on all the elements in an array.\n",
    "\n",
    "There are two types:\n",
    "\n",
    "* Unary functions: operate on one array\n",
    "* Binary functions: operate on two arrays\n",
    "\n",
    "List of available ufuncs: https://docs.scipy.org/doc/numpy-1.13.0/reference/ufuncs.html#available-ufuncs"
   ]
  },
  {
   "cell_type": "code",
   "execution_count": 165,
   "metadata": {},
   "outputs": [
    {
     "name": "stdout",
     "output_type": "stream",
     "text": [
      "[0 1 2 3 4 5 6 7 8 9]\n"
     ]
    }
   ],
   "source": [
    "arr = np.arange(10)\n",
    "print(arr)"
   ]
  },
  {
   "cell_type": "code",
   "execution_count": 166,
   "metadata": {},
   "outputs": [
    {
     "data": {
      "text/plain": [
       "array([ 0.        ,  1.        ,  1.41421356,  1.73205081,  2.        ,\n",
       "        2.23606798,  2.44948974,  2.64575131,  2.82842712,  3.        ])"
      ]
     },
     "execution_count": 166,
     "metadata": {},
     "output_type": "execute_result"
    }
   ],
   "source": [
    "np.sqrt(arr)"
   ]
  },
  {
   "cell_type": "code",
   "execution_count": 168,
   "metadata": {},
   "outputs": [
    {
     "data": {
      "text/plain": [
       "array([  1.00000000e+00,   2.71828183e+00,   7.38905610e+00,\n",
       "         2.00855369e+01,   5.45981500e+01,   1.48413159e+02,\n",
       "         4.03428793e+02,   1.09663316e+03,   2.98095799e+03,\n",
       "         8.10308393e+03])"
      ]
     },
     "execution_count": 168,
     "metadata": {},
     "output_type": "execute_result"
    }
   ],
   "source": [
    "np.exp(arr)"
   ]
  },
  {
   "cell_type": "code",
   "execution_count": 169,
   "metadata": {},
   "outputs": [
    {
     "data": {
      "text/plain": [
       "array([3, 2, 4])"
      ]
     },
     "execution_count": 169,
     "metadata": {},
     "output_type": "execute_result"
    }
   ],
   "source": [
    "x = np.array([1, 2, 4])\n",
    "\n",
    "y = np.array([3, 1, 2])\n",
    "\n",
    "np.maximum(x, y)"
   ]
  },
  {
   "cell_type": "code",
   "execution_count": 174,
   "metadata": {},
   "outputs": [
    {
     "name": "stdout",
     "output_type": "stream",
     "text": [
      "[ 1.  2.  3.]\n",
      "[ 1.          1.41421356  1.73205081]\n"
     ]
    }
   ],
   "source": [
    "# Ufuncs can take an out parameter to operate on the array in-place\n",
    "\n",
    "arr = np.array([1.0, 2.0, 3.0])\n",
    "np.sqrt(arr)\n",
    "\n",
    "print(arr)\n",
    "\n",
    "np.sqrt(arr, arr)\n",
    "print(arr)"
   ]
  },
  {
   "cell_type": "markdown",
   "metadata": {},
   "source": [
    "### 2.3 Array-Oriented Programming\n",
    "With NumPy, we can often replace for loops with some concise array expression.\n",
    "In other words, we can perform _vectorization_ -- replacing for loops with some array expression."
   ]
  },
  {
   "cell_type": "code",
   "execution_count": 198,
   "metadata": {},
   "outputs": [
    {
     "name": "stdout",
     "output_type": "stream",
     "text": [
      "[0 1 2 3 4 5 6 7 8 9]\n",
      "[0 1 2 3 4]\n"
     ]
    }
   ],
   "source": [
    "# To look at this example, we must understand meshgrid.\n",
    "# Meshgrid takes 2 1D arrays and turns them into a grid.\n",
    "# This would be a 10x5 grid.\n",
    "x_points = np.arange(10)\n",
    "y_points = np.arange(5)\n",
    "\n",
    "print(x_points)\n",
    "print(y_points)"
   ]
  },
  {
   "cell_type": "code",
   "execution_count": 199,
   "metadata": {
    "collapsed": true
   },
   "outputs": [],
   "source": [
    "# Get all the x points and y points\n",
    "xs, ys = np.meshgrid(x_points, y_points)"
   ]
  },
  {
   "cell_type": "code",
   "execution_count": 200,
   "metadata": {},
   "outputs": [
    {
     "data": {
      "text/plain": [
       "array([[0, 1, 2, 3, 4, 5, 6, 7, 8, 9],\n",
       "       [0, 1, 2, 3, 4, 5, 6, 7, 8, 9],\n",
       "       [0, 1, 2, 3, 4, 5, 6, 7, 8, 9],\n",
       "       [0, 1, 2, 3, 4, 5, 6, 7, 8, 9],\n",
       "       [0, 1, 2, 3, 4, 5, 6, 7, 8, 9]])"
      ]
     },
     "execution_count": 200,
     "metadata": {},
     "output_type": "execute_result"
    }
   ],
   "source": [
    "# 5 rows of 10 dots (5 = y dimension)\n",
    "xs"
   ]
  },
  {
   "cell_type": "code",
   "execution_count": 201,
   "metadata": {},
   "outputs": [
    {
     "data": {
      "text/plain": [
       "array([[0, 0, 0, 0, 0, 0, 0, 0, 0, 0],\n",
       "       [1, 1, 1, 1, 1, 1, 1, 1, 1, 1],\n",
       "       [2, 2, 2, 2, 2, 2, 2, 2, 2, 2],\n",
       "       [3, 3, 3, 3, 3, 3, 3, 3, 3, 3],\n",
       "       [4, 4, 4, 4, 4, 4, 4, 4, 4, 4]])"
      ]
     },
     "execution_count": 201,
     "metadata": {},
     "output_type": "execute_result"
    }
   ],
   "source": [
    "# 10 columns of 5 dots (10 = x dimension)\n",
    "ys"
   ]
  },
  {
   "cell_type": "code",
   "execution_count": 192,
   "metadata": {},
   "outputs": [
    {
     "data": {
      "text/plain": [
       "[<matplotlib.lines.Line2D at 0xdac25c0>,\n",
       " <matplotlib.lines.Line2D at 0xdac2630>,\n",
       " <matplotlib.lines.Line2D at 0xdac26d8>,\n",
       " <matplotlib.lines.Line2D at 0xdac2780>,\n",
       " <matplotlib.lines.Line2D at 0xdac2828>,\n",
       " <matplotlib.lines.Line2D at 0xdac28d0>,\n",
       " <matplotlib.lines.Line2D at 0xdac2978>,\n",
       " <matplotlib.lines.Line2D at 0xdac2a20>,\n",
       " <matplotlib.lines.Line2D at 0xdac2ac8>,\n",
       " <matplotlib.lines.Line2D at 0xdac2b70>]"
      ]
     },
     "execution_count": 192,
     "metadata": {},
     "output_type": "execute_result"
    },
    {
     "data": {
      "image/png": "[encoded data removed]",
      "text/plain": [
       "<matplotlib.figure.Figure at 0x10d77588>"
      ]
     },
     "metadata": {},
     "output_type": "display_data"
    }
   ],
   "source": [
    "# If we draw it, it looks like this:\n",
    "import matplotlib.pyplot as plt\n",
    "%matplotlib inline\n",
    "plt.plot(xs,ys, marker='.', color='k', linestyle='none')"
   ]
  },
  {
   "cell_type": "code",
   "execution_count": 204,
   "metadata": {},
   "outputs": [
    {
     "name": "stdout",
     "output_type": "stream",
     "text": [
      "[[ 0.          1.          1.41421356  1.73205081  2.          2.23606798\n",
      "   2.44948974  2.64575131  2.82842712  3.        ]\n",
      " [ 1.          0.          1.73205081  1.41421356  2.23606798  2.\n",
      "   2.64575131  2.44948974  3.          2.82842712]\n",
      " [ 2.44948974  2.64575131  2.          2.23606798  1.41421356  1.73205081\n",
      "   0.          1.          3.74165739  3.87298335]\n",
      " [ 2.64575131  2.44948974  2.23606798  2.          1.73205081  1.41421356\n",
      "   1.          0.          3.87298335  3.74165739]\n",
      " [ 2.          2.23606798  2.44948974  2.64575131  0.          1.\n",
      "   1.41421356  1.73205081  3.46410162  3.60555128]]\n"
     ]
    }
   ],
   "source": [
    "# Now, if we wanted to find sqrt(x^2 + y^2), we just do:\n",
    "z = np.sqrt(xs^2 + ys^2)\n",
    "\n",
    "print(z)\n",
    "\n",
    "# The point is, we did it all using array operations -- there were no for loops."
   ]
  },
  {
   "cell_type": "code",
   "execution_count": 207,
   "metadata": {},
   "outputs": [
    {
     "data": {
      "text/plain": [
       "array([ 1.1,  1.2,  2.3,  2.4,  1.5])"
      ]
     },
     "execution_count": 207,
     "metadata": {},
     "output_type": "execute_result"
    }
   ],
   "source": [
    "# The where condition can be used to get filtered data\n",
    "x_arr = np.array([1.1, 1.2, 1.3, 1.4, 1.5])\n",
    "y_arr = np.array([2.1, 2.2, 2.3, 2.4, 2.5])\n",
    "\n",
    "conditions = np.array([True, True, False, False, True])\n",
    "\n",
    "# If True, take from x_arr, else, take from y_arr\n",
    "result = np.where(conditions, x_arr, y_arr)\n",
    "\n",
    "result"
   ]
  },
  {
   "cell_type": "code",
   "execution_count": 210,
   "metadata": {},
   "outputs": [
    {
     "data": {
      "text/plain": [
       "array([[-0.72923974, -2.03837278, -0.96654509,  1.7903514 ],\n",
       "       [ 0.82098975, -0.24916209, -0.28642331,  0.99524732],\n",
       "       [ 2.27167346, -1.06800021,  0.15132695,  1.17992048],\n",
       "       [-0.86194962, -1.3309561 , -0.66236043, -1.05764893]])"
      ]
     },
     "execution_count": 210,
     "metadata": {},
     "output_type": "execute_result"
    }
   ],
   "source": [
    "# Another where example: imagine we wanted everything -ve to be -2, and everything +ve to be 2.\n",
    "\n",
    "arr = np.random.randn(4, 4)\n",
    "arr"
   ]
  },
  {
   "cell_type": "code",
   "execution_count": 211,
   "metadata": {},
   "outputs": [
    {
     "data": {
      "text/plain": [
       "array([[-2, -2, -2,  2],\n",
       "       [ 2, -2, -2,  2],\n",
       "       [ 2, -2,  2,  2],\n",
       "       [-2, -2, -2, -2]])"
      ]
     },
     "execution_count": 211,
     "metadata": {},
     "output_type": "execute_result"
    }
   ],
   "source": [
    "result = np.where(arr > 0, 2, -2)\n",
    "\n",
    "result"
   ]
  },
  {
   "cell_type": "code",
   "execution_count": 212,
   "metadata": {},
   "outputs": [
    {
     "data": {
      "text/plain": [
       "array([[ -2.62141956e-01,   3.63206390e-01,   1.58499414e-03,\n",
       "         -8.20037558e-01],\n",
       "       [ -5.20998062e-01,   1.38604317e+00,   3.56671927e-02,\n",
       "          9.88523190e-01],\n",
       "       [ -2.24099800e-02,   6.25422700e-01,  -6.15655484e-01,\n",
       "         -1.50033677e+00],\n",
       "       [  3.85942154e-01,   6.82148328e-01,   2.17148487e+00,\n",
       "         -1.91187563e-01]])"
      ]
     },
     "execution_count": 212,
     "metadata": {},
     "output_type": "execute_result"
    }
   ],
   "source": [
    "# What if I only wanted to replace the positive values, and leave the rest alone?\n",
    "# In this case, we can just pass in the array to the \"else\" part of the statement\n",
    "arr = np.random.randn(4, 4)\n",
    "arr"
   ]
  },
  {
   "cell_type": "code",
   "execution_count": 213,
   "metadata": {},
   "outputs": [
    {
     "data": {
      "text/plain": [
       "array([[-0.26214196,  2.        ,  2.        , -0.82003756],\n",
       "       [-0.52099806,  2.        ,  2.        ,  2.        ],\n",
       "       [-0.02240998,  2.        , -0.61565548, -1.50033677],\n",
       "       [ 2.        ,  2.        ,  2.        , -0.19118756]])"
      ]
     },
     "execution_count": 213,
     "metadata": {},
     "output_type": "execute_result"
    }
   ],
   "source": [
    "result = np.where(arr > 0, 2, arr)\n",
    "result"
   ]
  },
  {
   "cell_type": "markdown",
   "metadata": {},
   "source": [
    "#### 2.3.1 Mathematical & statistical methods"
   ]
  },
  {
   "cell_type": "code",
   "execution_count": 214,
   "metadata": {},
   "outputs": [
    {
     "data": {
      "text/plain": [
       "array([0, 1, 2, 3, 4, 5, 6, 7, 8, 9])"
      ]
     },
     "execution_count": 214,
     "metadata": {},
     "output_type": "execute_result"
    }
   ],
   "source": [
    "arr = np.arange(10)\n",
    "arr"
   ]
  },
  {
   "cell_type": "code",
   "execution_count": 215,
   "metadata": {},
   "outputs": [
    {
     "data": {
      "text/plain": [
       "4.5"
      ]
     },
     "execution_count": 215,
     "metadata": {},
     "output_type": "execute_result"
    }
   ],
   "source": [
    "arr.mean()"
   ]
  },
  {
   "cell_type": "code",
   "execution_count": 216,
   "metadata": {},
   "outputs": [
    {
     "data": {
      "text/plain": [
       "45"
      ]
     },
     "execution_count": 216,
     "metadata": {},
     "output_type": "execute_result"
    }
   ],
   "source": [
    "arr.sum()"
   ]
  },
  {
   "cell_type": "code",
   "execution_count": 218,
   "metadata": {},
   "outputs": [
    {
     "data": {
      "text/plain": [
       "array([[0, 1, 2],\n",
       "       [3, 4, 5],\n",
       "       [6, 7, 8]])"
      ]
     },
     "execution_count": 218,
     "metadata": {},
     "output_type": "execute_result"
    }
   ],
   "source": [
    "arr = np.arange(9).reshape(3, 3)\n",
    "arr"
   ]
  },
  {
   "cell_type": "code",
   "execution_count": 221,
   "metadata": {},
   "outputs": [
    {
     "data": {
      "text/plain": [
       "array([ 3, 12, 21])"
      ]
     },
     "execution_count": 221,
     "metadata": {},
     "output_type": "execute_result"
    }
   ],
   "source": [
    "# Supply an axis argument to get the sum of each row in another, 1D, array\n",
    "arr.sum(axis=1)"
   ]
  },
  {
   "cell_type": "code",
   "execution_count": 223,
   "metadata": {},
   "outputs": [
    {
     "data": {
      "text/plain": [
       "array([ 9, 12, 15])"
      ]
     },
     "execution_count": 223,
     "metadata": {},
     "output_type": "execute_result"
    }
   ],
   "source": [
    "# Or we could do axis=0 to sum the columns\n",
    "arr.sum(axis=0)"
   ]
  },
  {
   "cell_type": "markdown",
   "metadata": {},
   "source": [
    "Slightly confusing reversal of the row/column standard. For clarity:\n",
    "\n",
    "* `axis=0` == compute down the rows (i.e., the columns)\n",
    "* `axis=1` == computer across the columns (i.e., the rows)"
   ]
  },
  {
   "cell_type": "markdown",
   "metadata": {},
   "source": [
    "#### 2.3.2 Sorting\n",
    "You can sort an axis of a multdimensional array by passing an axis into sort."
   ]
  },
  {
   "cell_type": "code",
   "execution_count": 224,
   "metadata": {},
   "outputs": [
    {
     "data": {
      "text/plain": [
       "array([[ 0.67985615,  0.4467615 ,  0.98179096,  0.89242437],\n",
       "       [ 0.0086968 ,  0.9241127 ,  0.59112928,  0.93030476],\n",
       "       [ 0.82821186,  0.38144211,  0.23559007,  1.36495571],\n",
       "       [ 0.30221386,  0.12111979, -0.25221855,  0.22984603]])"
      ]
     },
     "execution_count": 224,
     "metadata": {},
     "output_type": "execute_result"
    }
   ],
   "source": [
    "arr = np.random.randn(4, 4)\n",
    "arr"
   ]
  },
  {
   "cell_type": "code",
   "execution_count": 227,
   "metadata": {},
   "outputs": [
    {
     "data": {
      "text/plain": [
       "array([[ 0.4467615 ,  0.67985615,  0.89242437,  0.98179096],\n",
       "       [ 0.0086968 ,  0.59112928,  0.9241127 ,  0.93030476],\n",
       "       [ 0.23559007,  0.38144211,  0.82821186,  1.36495571],\n",
       "       [-0.25221855,  0.12111979,  0.22984603,  0.30221386]])"
      ]
     },
     "execution_count": 227,
     "metadata": {},
     "output_type": "execute_result"
    }
   ],
   "source": [
    "# Sort across the columns\n",
    "arr.sort(1)\n",
    "arr"
   ]
  },
  {
   "cell_type": "code",
   "execution_count": 228,
   "metadata": {},
   "outputs": [
    {
     "data": {
      "text/plain": [
       "array([[ 0.51275434, -0.39658362, -0.18785255,  0.78905677],\n",
       "       [ 0.18243359, -0.10371522,  0.41654519, -1.25773565],\n",
       "       [-0.2898797 , -1.60171387, -0.19392922, -1.61828443],\n",
       "       [ 0.65298619, -1.42323186, -1.90427449, -1.56585265]])"
      ]
     },
     "execution_count": 228,
     "metadata": {},
     "output_type": "execute_result"
    }
   ],
   "source": [
    "arr = np.random.randn(4, 4)\n",
    "arr"
   ]
  },
  {
   "cell_type": "code",
   "execution_count": 230,
   "metadata": {},
   "outputs": [
    {
     "data": {
      "text/plain": [
       "array([[-0.2898797 , -1.60171387, -1.90427449, -1.61828443],\n",
       "       [ 0.18243359, -1.42323186, -0.19392922, -1.56585265],\n",
       "       [ 0.51275434, -0.39658362, -0.18785255, -1.25773565],\n",
       "       [ 0.65298619, -0.10371522,  0.41654519,  0.78905677]])"
      ]
     },
     "execution_count": 230,
     "metadata": {},
     "output_type": "execute_result"
    }
   ],
   "source": [
    "# Sort down the rows\n",
    "arr.sort(0)\n",
    "arr"
   ]
  },
  {
   "cell_type": "markdown",
   "metadata": {},
   "source": [
    "#### 2.3.3 Unique & Other set logic"
   ]
  },
  {
   "cell_type": "code",
   "execution_count": 232,
   "metadata": {},
   "outputs": [
    {
     "data": {
      "text/plain": [
       "array(['Alberta', 'Bob', 'Linda', 'Sara', 'Steven', 'Stewart', 'Tim'],\n",
       "      dtype='|S7')"
      ]
     },
     "execution_count": 232,
     "metadata": {},
     "output_type": "execute_result"
    }
   ],
   "source": [
    "# np.unique returns the sorted, unique values in an array.\n",
    "names = np.array([\"Tim\", \"Bob\", \"Bob\", \"Stewart\", \"Linda\", \"Steven\", \"Sara\", \"Alberta\", \"Steven\"])\n",
    "\n",
    "result = np.unique(names)\n",
    "\n",
    "result"
   ]
  },
  {
   "cell_type": "code",
   "execution_count": 233,
   "metadata": {},
   "outputs": [
    {
     "data": {
      "text/plain": [
       "array([ True, False, False,  True, False, False,  True, False, False], dtype=bool)"
      ]
     },
     "execution_count": 233,
     "metadata": {},
     "output_type": "execute_result"
    }
   ],
   "source": [
    "# in1d tells you if the element belongs to some other array\n",
    "arr = np.array([1, 0, 0, 7, 21, 5, 3, 2, 21])\n",
    "\n",
    "np.in1d(arr, [7, 3, 1])"
   ]
  },
  {
   "cell_type": "code",
   "execution_count": null,
   "metadata": {
    "collapsed": true
   },
   "outputs": [],
   "source": []
  }
 ],
 "metadata": {
  "kernelspec": {
   "display_name": "Python 3",
   "language": "python",
   "name": "python3"
  },
  "language_info": {
   "codemirror_mode": {
    "name": "ipython",
    "version": 2
   },
   "file_extension": ".py",
   "mimetype": "text/x-python",
   "name": "python",
   "nbconvert_exporter": "python",
   "pygments_lexer": "ipython2",
   "version": "2.7.14"
  }
 },
 "nbformat": 4,
 "nbformat_minor": 2
}
