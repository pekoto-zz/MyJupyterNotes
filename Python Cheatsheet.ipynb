{
 "cells": [
  {
   "cell_type": "markdown",
   "metadata": {},
   "source": [
    "# Python Cheatsheet"
   ]
  },
  {
   "cell_type": "markdown",
   "metadata": {},
   "source": [
    "## 1. Numbers"
   ]
  },
  {
   "cell_type": "code",
   "execution_count": 23,
   "metadata": {},
   "outputs": [
    {
     "data": {
      "text/plain": [
       "1"
      ]
     },
     "execution_count": 23,
     "metadata": {},
     "output_type": "execute_result"
    }
   ],
   "source": [
    "# Division using ints will round down.\n",
    "3/2"
   ]
  },
  {
   "cell_type": "code",
   "execution_count": 9,
   "metadata": {},
   "outputs": [
    {
     "data": {
      "text/plain": [
       "1.5"
      ]
     },
     "execution_count": 9,
     "metadata": {},
     "output_type": "execute_result"
    }
   ],
   "source": [
    "# You can cast to floats like this:\n",
    "float(3)/2"
   ]
  },
  {
   "cell_type": "code",
   "execution_count": 11,
   "metadata": {},
   "outputs": [
    {
     "data": {
      "text/plain": [
       "1.5"
      ]
     },
     "execution_count": 11,
     "metadata": {},
     "output_type": "execute_result"
    }
   ],
   "source": [
    "# Or you can specify the numbers as floats:\n",
    "3.0/2"
   ]
  },
  {
   "cell_type": "code",
   "execution_count": 12,
   "metadata": {},
   "outputs": [
    {
     "data": {
      "text/plain": [
       "8"
      ]
     },
     "execution_count": 12,
     "metadata": {},
     "output_type": "execute_result"
    }
   ],
   "source": [
    "# Power uses **\n",
    "2**3"
   ]
  },
  {
   "cell_type": "code",
   "execution_count": 16,
   "metadata": {},
   "outputs": [
    {
     "data": {
      "text/plain": [
       "2.0"
      ]
     },
     "execution_count": 16,
     "metadata": {},
     "output_type": "execute_result"
    }
   ],
   "source": [
    "# This can be used to take square roots as well:\n",
    "4**0.5"
   ]
  },
  {
   "cell_type": "markdown",
   "metadata": {},
   "source": [
    "## 2. Variable Names"
   ]
  },
  {
   "cell_type": "code",
   "execution_count": 24,
   "metadata": {},
   "outputs": [
    {
     "name": "stdout",
     "output_type": "stream",
     "text": [
      "30\n"
     ]
    }
   ],
   "source": [
    "# Variables are typically named with an underscore.\n",
    "my_variable = 10\n",
    "this_is_another_variable = 20\n",
    "\n",
    "print(my_variable + this_is_another_variable)"
   ]
  },
  {
   "cell_type": "markdown",
   "metadata": {},
   "source": [
    "## 3. Strings"
   ]
  },
  {
   "cell_type": "markdown",
   "metadata": {},
   "source": [
    "Strings are a kind of <b>sequence</b>. That is, an ordered list of characters. (So they can be operated on using sequence operations, like by indexing a specific character, etc?)"
   ]
  },
  {
   "cell_type": "code",
   "execution_count": 29,
   "metadata": {},
   "outputs": [
    {
     "name": "stdout",
     "output_type": "stream",
     "text": [
      "Hello, world\n",
      "Hello, world\n",
      "This doesn't have to be escaped\n",
      "Neither does \"this\"\n"
     ]
    }
   ],
   "source": [
    "# Strings can be instantiated by using double quotes or single quotes.\n",
    "single_quote_str = 'Hello, world'\n",
    "\n",
    "double_quote_str = \"Hello, world\"\n",
    "\n",
    "print(single_quote_str)\n",
    "print(double_quote_str)\n",
    "\n",
    "# If you use double-quote strings, then you won't have to escape single-quotes, and vice-versa\n",
    "print(\"This doesn't have to be escaped\")\n",
    "print('Neither does \"this\"')\n",
    "\n",
    "# print('But 'this' would result in an error')"
   ]
  },
  {
   "cell_type": "code",
   "execution_count": 30,
   "metadata": {},
   "outputs": [
    {
     "data": {
      "text/plain": [
       "5"
      ]
     },
     "execution_count": 30,
     "metadata": {},
     "output_type": "execute_result"
    }
   ],
   "source": [
    "# Use len to check the length of a string.\n",
    "str = \"abcde\"\n",
    "\n",
    "len(str)"
   ]
  },
  {
   "cell_type": "code",
   "execution_count": 32,
   "metadata": {},
   "outputs": [
    {
     "name": "stdout",
     "output_type": "stream",
     "text": [
      "H\n",
      "e\n"
     ]
    }
   ],
   "source": [
    "# Strings are 0-indexed\n",
    "str = \"Hello\"\n",
    "\n",
    "print(str[0])\n",
    "print(str[1])"
   ]
  },
  {
   "cell_type": "markdown",
   "metadata": {},
   "source": [
    "## 4. Slicing"
   ]
  },
  {
   "cell_type": "code",
   "execution_count": 43,
   "metadata": {},
   "outputs": [
    {
     "name": "stdout",
     "output_type": "stream",
     "text": [
      "1. Hello\n",
      "2. ello\n",
      "3. Hel\n",
      "4. el\n",
      "5. o\n",
      "6. Hell\n"
     ]
    }
   ],
   "source": [
    "# Use [start_index:end_index] to take the subset of a sequence.\n",
    "\n",
    "str = \"Hello\"\n",
    "\n",
    "# 1. Take the whole string\n",
    "print(\"1. \" + str[:])\n",
    "\n",
    "# 2. Take everything FROM the first index (i.e., skip the first letter)\n",
    "print(\"2. \" + str[1:])\n",
    "\n",
    "# 3. Take everything UP TO the third index (exclusive) (i.e., up to index 3)\n",
    "print(\"3. \" + str[:3])\n",
    "\n",
    "# 4. Take between index 1-3 (i.e., middle of string)\n",
    "print(\"4. \" + str[1:3])\n",
    "\n",
    "# 5. Use -1 to get the last element.\n",
    "print(\"5. \" + str[-1])\n",
    "\n",
    "# 6. Grab everything UP TO the last index (except the last index)\n",
    "print(\"6. \" + str[:-1])\n"
   ]
  },
  {
   "cell_type": "markdown",
   "metadata": {},
   "source": [
    "## 5. Slicing using a specified step size"
   ]
  },
  {
   "cell_type": "code",
   "execution_count": 45,
   "metadata": {},
   "outputs": [
    {
     "name": "stdout",
     "output_type": "stream",
     "text": [
      "1. Hlo\n",
      "2. olleH\n"
     ]
    }
   ],
   "source": [
    "# Use :: to slice through a string at a specified step size.\n",
    "str = \"Hello\"\n",
    "\n",
    "# 1. Take every second letter\n",
    "print(\"1. \" + str[::2])\n",
    "\n",
    "# 2. Take every letter, but backwards (i.e., reverse the string)\n",
    "print(\"2. \" + str[::-1])"
   ]
  },
  {
   "cell_type": "markdown",
   "metadata": {},
   "source": [
    "## 6. String immutability"
   ]
  },
  {
   "cell_type": "code",
   "execution_count": 47,
   "metadata": {},
   "outputs": [
    {
     "ename": "SyntaxError",
     "evalue": "invalid syntax (<ipython-input-47-3388b0c171d0>, line 3)",
     "output_type": "error",
     "traceback": [
      "\u001b[1;36m  File \u001b[1;32m\"<ipython-input-47-3388b0c171d0>\"\u001b[1;36m, line \u001b[1;32m3\u001b[0m\n\u001b[1;33m    str s = \"Hello\"\u001b[0m\n\u001b[1;37m        ^\u001b[0m\n\u001b[1;31mSyntaxError\u001b[0m\u001b[1;31m:\u001b[0m invalid syntax\n"
     ]
    }
   ],
   "source": [
    "# Python strings are immutable.\n",
    "s = \"Hello\"\n",
    "\n",
    "s[0] = \"N\""
   ]
  },
  {
   "cell_type": "code",
   "execution_count": 48,
   "metadata": {},
   "outputs": [
    {
     "name": "stdout",
     "output_type": "stream",
     "text": [
      "Hello world\n"
     ]
    }
   ],
   "source": [
    "# But we can concatenate strings using +\n",
    "hello = \"Hello\"\n",
    "world = \"world\"\n",
    "\n",
    "print(hello + \" \" + world)"
   ]
  },
  {
   "cell_type": "markdown",
   "metadata": {},
   "source": [
    "## 7. Basic string functions"
   ]
  },
  {
   "cell_type": "code",
   "execution_count": 56,
   "metadata": {},
   "outputs": [
    {
     "name": "stdout",
     "output_type": "stream",
     "text": [
      "1.zzzzzzzzzz\n",
      "2. help!ME\n",
      "4. Some string with a formatted object inserted.\n"
     ]
    }
   ],
   "source": [
    "# 1. Use the multiplication symbol to repeat letter.\n",
    "print(\"1.\" + (\"z\"*10))\n",
    "\n",
    "# 2. Upper and lower do what you expect\n",
    "print(\"2. \" + \"HELP!\".lower() + \"me\".upper())\n",
    "\n",
    "# 3. Split will split by spaces by default, or a character you print\n",
    "\"Hello world\".split()\n",
    "\n",
    "\"Hello world\".split(\"o\")\n"
   ]
  },
  {
   "cell_type": "markdown",
   "metadata": {},
   "source": [
    "## 8. Print formatting"
   ]
  },
  {
   "cell_type": "code",
   "execution_count": 65,
   "metadata": {},
   "outputs": [
    {
     "name": "stdout",
     "output_type": "stream",
     "text": [
      "1. Hello, world\n",
      "2. 1.00\n",
      "2.     1\n",
      "2. 3.14\n",
      "3. Here is a number: 123.4, and here is another: 4.321\n"
     ]
    }
   ],
   "source": [
    "# 1. Use %s to put a STRING into your print\n",
    "world = \"world\"\n",
    "print(\"1. Hello, %s\") %(world)\n",
    "\n",
    "# 2. Use %(total digits to show).(digits after decimal point)f for FLOATING POINT numbers\n",
    "print(\"2. %3.2f\") % 1.00\n",
    "print(\"2. %5.0f\") % 1.00 # (Padded with spaces)\n",
    "print(\"2. %3.2f\") % 3.14159\n",
    "\n",
    "# 3. %s and %r will convert almost any object into a string\n",
    "print(\"3. Here is a number: %s, and here is another: %s\" % (123.4, 4.321))"
   ]
  },
  {
   "cell_type": "markdown",
   "metadata": {},
   "source": [
    "## 7. String.format"
   ]
  },
  {
   "cell_type": "code",
   "execution_count": 66,
   "metadata": {},
   "outputs": [
    {
     "name": "stdout",
     "output_type": "stream",
     "text": [
      "Here's one object: 123, and another: hi there.\n"
     ]
    }
   ],
   "source": [
    "# 1. The best way to format strings is with string.format\n",
    "print(\"Here's one object: {a}, and another: {b}.\".format(a=123, b=\"hi there\"))"
   ]
  },
  {
   "cell_type": "code",
   "execution_count": null,
   "metadata": {
    "collapsed": true
   },
   "outputs": [],
   "source": []
  }
 ],
 "metadata": {
  "kernelspec": {
   "display_name": "Python 3",
   "language": "python",
   "name": "python3"
  },
  "language_info": {
   "codemirror_mode": {
    "name": "ipython",
    "version": 2
   },
   "file_extension": ".py",
   "mimetype": "text/x-python",
   "name": "python",
   "nbconvert_exporter": "python",
   "pygments_lexer": "ipython2",
   "version": "2.7.14"
  }
 },
 "nbformat": 4,
 "nbformat_minor": 2
}
