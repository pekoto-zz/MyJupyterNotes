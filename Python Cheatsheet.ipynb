{
 "cells": [
  {
   "cell_type": "markdown",
   "metadata": {},
   "source": [
    "# Python Cheatsheet"
   ]
  },
  {
   "cell_type": "markdown",
   "metadata": {},
   "source": [
    "## 1. Numbers"
   ]
  },
  {
   "cell_type": "code",
   "execution_count": 23,
   "metadata": {},
   "outputs": [
    {
     "data": {
      "text/plain": [
       "1"
      ]
     },
     "execution_count": 23,
     "metadata": {},
     "output_type": "execute_result"
    }
   ],
   "source": [
    "# Division using ints will round down.\n",
    "3/2"
   ]
  },
  {
   "cell_type": "code",
   "execution_count": 9,
   "metadata": {},
   "outputs": [
    {
     "data": {
      "text/plain": [
       "1.5"
      ]
     },
     "execution_count": 9,
     "metadata": {},
     "output_type": "execute_result"
    }
   ],
   "source": [
    "# You can cast to floats like this:\n",
    "float(3)/2"
   ]
  },
  {
   "cell_type": "code",
   "execution_count": 11,
   "metadata": {},
   "outputs": [
    {
     "data": {
      "text/plain": [
       "1.5"
      ]
     },
     "execution_count": 11,
     "metadata": {},
     "output_type": "execute_result"
    }
   ],
   "source": [
    "# Or you can specify the numbers as floats:\n",
    "3.0/2"
   ]
  },
  {
   "cell_type": "code",
   "execution_count": 12,
   "metadata": {},
   "outputs": [
    {
     "data": {
      "text/plain": [
       "8"
      ]
     },
     "execution_count": 12,
     "metadata": {},
     "output_type": "execute_result"
    }
   ],
   "source": [
    "# Power uses **\n",
    "2**3"
   ]
  },
  {
   "cell_type": "code",
   "execution_count": 16,
   "metadata": {},
   "outputs": [
    {
     "data": {
      "text/plain": [
       "2.0"
      ]
     },
     "execution_count": 16,
     "metadata": {},
     "output_type": "execute_result"
    }
   ],
   "source": [
    "# This can be used to take square roots as well:\n",
    "4**0.5"
   ]
  },
  {
   "cell_type": "markdown",
   "metadata": {},
   "source": [
    "## 2. Variable Names"
   ]
  },
  {
   "cell_type": "code",
   "execution_count": 24,
   "metadata": {},
   "outputs": [
    {
     "name": "stdout",
     "output_type": "stream",
     "text": [
      "30\n"
     ]
    }
   ],
   "source": [
    "# Variables are typically named with an underscore.\n",
    "my_variable = 10\n",
    "this_is_another_variable = 20\n",
    "\n",
    "print(my_variable + this_is_another_variable)"
   ]
  },
  {
   "cell_type": "markdown",
   "metadata": {},
   "source": [
    "## 3. Strings"
   ]
  },
  {
   "cell_type": "markdown",
   "metadata": {},
   "source": [
    "Strings are a kind of <b>sequence</b>. That is, an ordered list of characters. (So they can be operated on using sequence operations, like by indexing a specific character, etc?)"
   ]
  },
  {
   "cell_type": "code",
   "execution_count": 29,
   "metadata": {},
   "outputs": [
    {
     "name": "stdout",
     "output_type": "stream",
     "text": [
      "Hello, world\n",
      "Hello, world\n",
      "This doesn't have to be escaped\n",
      "Neither does \"this\"\n"
     ]
    }
   ],
   "source": [
    "# Strings can be instantiated by using double quotes or single quotes.\n",
    "single_quote_str = 'Hello, world'\n",
    "\n",
    "double_quote_str = \"Hello, world\"\n",
    "\n",
    "print(single_quote_str)\n",
    "print(double_quote_str)\n",
    "\n",
    "# If you use double-quote strings, then you won't have to escape single-quotes, and vice-versa\n",
    "print(\"This doesn't have to be escaped\")\n",
    "print('Neither does \"this\"')\n",
    "\n",
    "# print('But 'this' would result in an error')"
   ]
  },
  {
   "cell_type": "code",
   "execution_count": 30,
   "metadata": {},
   "outputs": [
    {
     "data": {
      "text/plain": [
       "5"
      ]
     },
     "execution_count": 30,
     "metadata": {},
     "output_type": "execute_result"
    }
   ],
   "source": [
    "# Use len to check the length of a string.\n",
    "str = \"abcde\"\n",
    "\n",
    "len(str)"
   ]
  },
  {
   "cell_type": "code",
   "execution_count": 32,
   "metadata": {},
   "outputs": [
    {
     "name": "stdout",
     "output_type": "stream",
     "text": [
      "H\n",
      "e\n"
     ]
    }
   ],
   "source": [
    "# Strings are 0-indexed\n",
    "str = \"Hello\"\n",
    "\n",
    "print(str[0])\n",
    "print(str[1])"
   ]
  },
  {
   "cell_type": "markdown",
   "metadata": {},
   "source": [
    "## 4. Slicing"
   ]
  },
  {
   "cell_type": "code",
   "execution_count": 43,
   "metadata": {},
   "outputs": [
    {
     "name": "stdout",
     "output_type": "stream",
     "text": [
      "1. Hello\n",
      "2. ello\n",
      "3. Hel\n",
      "4. el\n",
      "5. o\n",
      "6. Hell\n"
     ]
    }
   ],
   "source": [
    "# Use [start_index:end_index] to take the subset of a sequence.\n",
    "\n",
    "str = \"Hello\"\n",
    "\n",
    "# 1. Take the whole string\n",
    "print(\"1. \" + str[:])\n",
    "\n",
    "# 2. Take everything FROM the first index (i.e., skip the first letter)\n",
    "print(\"2. \" + str[1:])\n",
    "\n",
    "# 3. Take everything UP TO the third index (exclusive) (i.e., up to index 3)\n",
    "print(\"3. \" + str[:3])\n",
    "\n",
    "# 4. Take between index 1-3 (i.e., middle of string)\n",
    "print(\"4. \" + str[1:3])\n",
    "\n",
    "# 5. Use -1 to get the last element.\n",
    "print(\"5. \" + str[-1])\n",
    "\n",
    "# 6. Grab everything UP TO the last index (except the last index)\n",
    "print(\"6. \" + str[:-1])\n"
   ]
  },
  {
   "cell_type": "markdown",
   "metadata": {},
   "source": [
    "## 5. Slicing using a specified step size"
   ]
  },
  {
   "cell_type": "code",
   "execution_count": 45,
   "metadata": {},
   "outputs": [
    {
     "name": "stdout",
     "output_type": "stream",
     "text": [
      "1. Hlo\n",
      "2. olleH\n"
     ]
    }
   ],
   "source": [
    "# Use :: to slice through a string at a specified step size.\n",
    "str = \"Hello\"\n",
    "\n",
    "# 1. Take every second letter\n",
    "print(\"1. \" + str[::2])\n",
    "\n",
    "# 2. Take every letter, but backwards (i.e., reverse the string)\n",
    "print(\"2. \" + str[::-1])"
   ]
  },
  {
   "cell_type": "markdown",
   "metadata": {},
   "source": [
    "## 6. String immutability"
   ]
  },
  {
   "cell_type": "code",
   "execution_count": 47,
   "metadata": {},
   "outputs": [
    {
     "ename": "SyntaxError",
     "evalue": "invalid syntax (<ipython-input-47-3388b0c171d0>, line 3)",
     "output_type": "error",
     "traceback": [
      "\u001b[1;36m  File \u001b[1;32m\"<ipython-input-47-3388b0c171d0>\"\u001b[1;36m, line \u001b[1;32m3\u001b[0m\n\u001b[1;33m    str s = \"Hello\"\u001b[0m\n\u001b[1;37m        ^\u001b[0m\n\u001b[1;31mSyntaxError\u001b[0m\u001b[1;31m:\u001b[0m invalid syntax\n"
     ]
    }
   ],
   "source": [
    "# Python strings are immutable.\n",
    "s = \"Hello\"\n",
    "\n",
    "s[0] = \"N\""
   ]
  },
  {
   "cell_type": "code",
   "execution_count": 48,
   "metadata": {},
   "outputs": [
    {
     "name": "stdout",
     "output_type": "stream",
     "text": [
      "Hello world\n"
     ]
    }
   ],
   "source": [
    "# But we can concatenate strings using +\n",
    "hello = \"Hello\"\n",
    "world = \"world\"\n",
    "\n",
    "print(hello + \" \" + world)"
   ]
  },
  {
   "cell_type": "markdown",
   "metadata": {},
   "source": [
    "## 7. Basic string functions"
   ]
  },
  {
   "cell_type": "code",
   "execution_count": 56,
   "metadata": {},
   "outputs": [
    {
     "name": "stdout",
     "output_type": "stream",
     "text": [
      "1.zzzzzzzzzz\n",
      "2. help!ME\n",
      "4. Some string with a formatted object inserted.\n"
     ]
    }
   ],
   "source": [
    "# 1. Use the multiplication symbol to repeat letter.\n",
    "print(\"1.\" + (\"z\"*10))\n",
    "\n",
    "# 2. Upper and lower do what you expect\n",
    "print(\"2. \" + \"HELP!\".lower() + \"me\".upper())\n",
    "\n",
    "# 3. Split will split by spaces by default, or a character you print\n",
    "\"Hello world\".split()\n",
    "\n",
    "\"Hello world\".split(\"o\")\n"
   ]
  },
  {
   "cell_type": "markdown",
   "metadata": {},
   "source": [
    "## 8. Print formatting"
   ]
  },
  {
   "cell_type": "code",
   "execution_count": 65,
   "metadata": {},
   "outputs": [
    {
     "name": "stdout",
     "output_type": "stream",
     "text": [
      "1. Hello, world\n",
      "2. 1.00\n",
      "2.     1\n",
      "2. 3.14\n",
      "3. Here is a number: 123.4, and here is another: 4.321\n"
     ]
    }
   ],
   "source": [
    "# 1. Use %s to put a STRING into your print\n",
    "world = \"world\"\n",
    "print(\"1. Hello, %s\") %(world)\n",
    "\n",
    "# 2. Use %(total digits to show).(digits after decimal point)f for FLOATING POINT numbers\n",
    "print(\"2. %3.2f\") % 1.00\n",
    "print(\"2. %5.0f\") % 1.00 # (Padded with spaces)\n",
    "print(\"2. %3.2f\") % 3.14159\n",
    "\n",
    "# 3. %s and %r will convert almost any object into a string\n",
    "print(\"3. Here is a number: %s, and here is another: %s\" % (123.4, 4.321))"
   ]
  },
  {
   "cell_type": "markdown",
   "metadata": {},
   "source": [
    "## 7. String.format"
   ]
  },
  {
   "cell_type": "code",
   "execution_count": 66,
   "metadata": {},
   "outputs": [
    {
     "name": "stdout",
     "output_type": "stream",
     "text": [
      "Here's one object: 123, and another: hi there.\n"
     ]
    }
   ],
   "source": [
    "# 1. The best way to format strings is with string.format\n",
    "print(\"Here's one object: {a}, and another: {b}.\".format(a=123, b=\"hi there\"))"
   ]
  },
  {
   "cell_type": "markdown",
   "metadata": {},
   "source": [
    "See this URL for comprehensive formatting information: https://pyformat.info/"
   ]
  },
  {
   "cell_type": "markdown",
   "metadata": {},
   "source": [
    "## 8. Lists"
   ]
  },
  {
   "cell_type": "markdown",
   "metadata": {},
   "source": [
    "Lists can be thought of as a sequence too, the most general kind of sequence.\n",
    "Unlike strings, lists are mutable."
   ]
  },
  {
   "cell_type": "code",
   "execution_count": 75,
   "metadata": {},
   "outputs": [
    {
     "name": "stdout",
     "output_type": "stream",
     "text": [
      "1. ['apple', 'orange', 'banana']\n",
      "2. ['apple', 123]\n",
      "3. 3\n",
      "4. ['banana']\n"
     ]
    }
   ],
   "source": [
    "# 1. Create a list with [...,...,...]\n",
    "my_list = [\"apple\", \"orange\", \"banana\"]\n",
    "\n",
    "print(\"1. {}\".format(my_list))\n",
    "\n",
    "# 2. Lists can hold different data types\n",
    "crazy_list = [\"apple\", 123]\n",
    "\n",
    "print(\"2. {}\".format(crazy_list))\n",
    "\n",
    "# 3. Like strings, use Len to get the length\n",
    "print(\"3. {}\".format(len(my_list)))\n",
    "\n",
    "# 4. Lists can be sliced like strings\n",
    "print(\"4. {}\".format(my_list[2:]))\n",
    "\n",
    "# 5. And you can use the same * and + operators to double or append something onto a list (must be assigned to a new variable)"
   ]
  },
  {
   "cell_type": "markdown",
   "metadata": {},
   "source": [
    "## 9. List Methods"
   ]
  },
  {
   "cell_type": "code",
   "execution_count": 88,
   "metadata": {},
   "outputs": [
    {
     "name": "stdout",
     "output_type": "stream",
     "text": [
      "1. ['apple', 'orange', 'banana', 'pear']\n",
      "2. ['apple', 'banana', 'pear'], popped item: orange\n",
      "3. ['apple', 'banana', 'pear']\n",
      "4. ['pear', 'banana', 'apple']\n",
      "5. [[1, 2, 3], [4, 5, 6], [7, 8, 9]]\n",
      "Element (0,0): 1\n"
     ]
    }
   ],
   "source": [
    "my_list = [\"apple\", \"orange\", \"banana\"]\n",
    "\n",
    "# 1. Use .append to add something\n",
    "my_list.append(\"pear\")\n",
    "print(\"1. {}\".format(my_list))\n",
    "\n",
    "# 2. Use .pop to pop an item from the list\n",
    "popped_item = my_list.pop(1)\n",
    "print(\"2. {}, popped item: {}\".format(my_list, popped_item))\n",
    "\n",
    "# 3. Use sort to sort a list\n",
    "my_list.sort()\n",
    "print(\"3. {}\".format(my_list))\n",
    "\n",
    "# 4. Use reverse to reverse a list\n",
    "my_list.reverse()\n",
    "print(\"4. {}\".format(my_list))\n",
    "\n",
    "# 5. Lists can be nested. For example, to create a 2D array-like structure.\n",
    "my_matrix = [\n",
    "    [1,2,3],\n",
    "    [4,5,6],\n",
    "    [7,8,9]\n",
    "]\n",
    "print(\"5. {}\".format(my_matrix))\n",
    "print(\"Element (0,0): {}\".format(my_matrix[0][0]))"
   ]
  },
  {
   "cell_type": "markdown",
   "metadata": {},
   "source": [
    "## 10. List Comprehensions"
   ]
  },
  {
   "cell_type": "code",
   "execution_count": 90,
   "metadata": {},
   "outputs": [
    {
     "name": "stdout",
     "output_type": "stream",
     "text": [
      "First col = [1, 4, 7]\n"
     ]
    }
   ],
   "source": [
    "# You can use list comprehensions to quickly construct lists\n",
    "\n",
    "my_matrix = [\n",
    "    [1,2,3],\n",
    "    [4,5,6],\n",
    "    [7,8,9]\n",
    "]\n",
    "\n",
    "first_col = [row[0] for row in my_matrix] # For every element in this list, take the first element\n",
    "\n",
    "print(\"First col = {}\".format(first_col))"
   ]
  },
  {
   "cell_type": "markdown",
   "metadata": {},
   "source": [
    "## 11. Dictionaries"
   ]
  },
  {
   "cell_type": "code",
   "execution_count": 97,
   "metadata": {},
   "outputs": [
    {
     "name": "stdout",
     "output_type": "stream",
     "text": [
      "1. one\n",
      "2. number one\n",
      "3. four\n",
      "4. [(1, 'number one'), (2, 'two'), (3, 'three'), (4, 'four')]\n"
     ]
    }
   ],
   "source": [
    "# 1. Pretty standard stuff\n",
    "my_dict = {1: \"one\", 2: \"two\", 3: \"three\"}\n",
    "\n",
    "print(\"1. {}\".format(my_dict[1]))\n",
    "\n",
    "# 2. Reassign a key to another value\n",
    "my_dict[1] = \"number one\"\n",
    "\n",
    "print (\"2. {}\".format(my_dict[1]))\n",
    "\n",
    "# 3. Add a new item\n",
    "my_dict[4] = \"four\"\n",
    "\n",
    "print(\"3. {}\".format(my_dict[4]))\n",
    "\n",
    "# 4. Return all items as tuples\n",
    "print(\"4. {}\".format(my_dict.items()))\n",
    "\n",
    "# (Also have .keys() and .items())"
   ]
  },
  {
   "cell_type": "markdown",
   "metadata": {},
   "source": [
    "<b>N.B.,</b> Dictionaries are not ordered. Use ordereddict if you want ordering."
   ]
  },
  {
   "cell_type": "markdown",
   "metadata": {},
   "source": [
    "## 12. Tuples"
   ]
  },
  {
   "cell_type": "markdown",
   "metadata": {},
   "source": [
    "Tuples are like lists but they're IMMUTABLE. So you can use them to hold things that won't change, like days of the week, etc.\n",
    "\n",
    "* List = [...]\n",
    "* Tuple = (...)\n",
    "* Set = {...}"
   ]
  },
  {
   "cell_type": "code",
   "execution_count": 103,
   "metadata": {},
   "outputs": [
    {
     "name": "stdout",
     "output_type": "stream",
     "text": [
      "1. 0\n",
      "2. 2\n"
     ]
    }
   ],
   "source": [
    "my_tuple = (\"one\", \"two\", \"three\", \"one\", \"four\")\n",
    "\n",
    "# 1. Get the first index of an item\n",
    "one_index = my_tuple.index(\"one\")\n",
    "print(\"1. {}\".format(one_index))\n",
    "\n",
    "# 2. Count the number of times an object appears\n",
    "print(\"2. {}\".format(my_tuple.count(\"one\")))"
   ]
  },
  {
   "cell_type": "markdown",
   "metadata": {},
   "source": [
    "## 13. Sets"
   ]
  },
  {
   "cell_type": "markdown",
   "metadata": {},
   "source": [
    "An unordered collection of UNIQUE elements."
   ]
  },
  {
   "cell_type": "code",
   "execution_count": 109,
   "metadata": {},
   "outputs": [
    {
     "name": "stdout",
     "output_type": "stream",
     "text": [
      "1. set([1, 2])\n",
      "2. set([1, 2, 3, 4, 5])\n",
      "3. set([1, 2, 3, 4])\n"
     ]
    }
   ],
   "source": [
    "my_set = set()\n",
    "my_set.add(1)\n",
    "my_set.add(2)\n",
    "my_set.add(1)\n",
    "\n",
    "# 1. Duplicate elements just won't be added\n",
    "print(\"1. {}\".format(my_set))\n",
    "\n",
    "# 2. You can use sets to get the unique items from a list\n",
    "my_list = [1, 2, 3, 4, 5, 5, 3, 1, 2, 3, 4]\n",
    "unique_my_list = set(my_list)\n",
    "\n",
    "print(\"2. {}\".format(unique_my_list))\n",
    "\n",
    "# 3. Declare inline by using {}\n",
    "my_inline_set = {1, 2, 3, 4, 4, 2, 1}\n",
    "\n",
    "print(\"3. {}\".format(my_inline_set))"
   ]
  },
  {
   "cell_type": "markdown",
   "metadata": {},
   "source": [
    "## 14. Booleans"
   ]
  },
  {
   "cell_type": "code",
   "execution_count": 110,
   "metadata": {},
   "outputs": [
    {
     "name": "stdout",
     "output_type": "stream",
     "text": [
      "True\n",
      "None\n"
     ]
    }
   ],
   "source": [
    "# Pretty basic stuff\n",
    "\n",
    "my_bool = True\n",
    "print(my_bool)\n",
    "\n",
    "# Use None if you don't know the value yet\n",
    "my_unknown = None\n",
    "print(my_unknown)"
   ]
  },
  {
   "cell_type": "markdown",
   "metadata": {},
   "source": [
    "## 15. Lists/tuples/sets/dictionaries quick reference\n",
    "\n",
    "* List = [...]\n",
    "* Tuple = (...)\n",
    "* Set = {...}\n",
    "* Dictionary = {key:val,...}"
   ]
  },
  {
   "cell_type": "code",
   "execution_count": null,
   "metadata": {
    "collapsed": true
   },
   "outputs": [],
   "source": []
  }
 ],
 "metadata": {
  "kernelspec": {
   "display_name": "Python 3",
   "language": "python",
   "name": "python3"
  },
  "language_info": {
   "codemirror_mode": {
    "name": "ipython",
    "version": 2
   },
   "file_extension": ".py",
   "mimetype": "text/x-python",
   "name": "python",
   "nbconvert_exporter": "python",
   "pygments_lexer": "ipython2",
   "version": "2.7.14"
  }
 },
 "nbformat": 4,
 "nbformat_minor": 2
}
