{
 "cells": [
  {
   "cell_type": "markdown",
   "metadata": {},
   "source": [
    "# Python Cheatsheet"
   ]
  },
  {
   "cell_type": "markdown",
   "metadata": {},
   "source": [
    "## 1. Numbers"
   ]
  },
  {
   "cell_type": "code",
   "execution_count": 1,
   "metadata": {},
   "outputs": [
    {
     "data": {
      "text/plain": [
       "1"
      ]
     },
     "execution_count": 1,
     "metadata": {},
     "output_type": "execute_result"
    }
   ],
   "source": [
    "# Division using ints will round down.\n",
    "3/2"
   ]
  },
  {
   "cell_type": "code",
   "execution_count": 2,
   "metadata": {},
   "outputs": [
    {
     "data": {
      "text/plain": [
       "1.5"
      ]
     },
     "execution_count": 2,
     "metadata": {},
     "output_type": "execute_result"
    }
   ],
   "source": [
    "# You can cast to floats like this:\n",
    "float(3)/2"
   ]
  },
  {
   "cell_type": "code",
   "execution_count": 3,
   "metadata": {},
   "outputs": [
    {
     "data": {
      "text/plain": [
       "1.5"
      ]
     },
     "execution_count": 3,
     "metadata": {},
     "output_type": "execute_result"
    }
   ],
   "source": [
    "# Or you can specify the numbers as floats:\n",
    "3.0/2"
   ]
  },
  {
   "cell_type": "code",
   "execution_count": 4,
   "metadata": {},
   "outputs": [
    {
     "data": {
      "text/plain": [
       "8"
      ]
     },
     "execution_count": 4,
     "metadata": {},
     "output_type": "execute_result"
    }
   ],
   "source": [
    "# Power uses **\n",
    "2**3"
   ]
  },
  {
   "cell_type": "code",
   "execution_count": 5,
   "metadata": {},
   "outputs": [
    {
     "data": {
      "text/plain": [
       "2.0"
      ]
     },
     "execution_count": 5,
     "metadata": {},
     "output_type": "execute_result"
    }
   ],
   "source": [
    "# This can be used to take square roots as well:\n",
    "4**0.5"
   ]
  },
  {
   "cell_type": "markdown",
   "metadata": {},
   "source": [
    "## 2. Variable Names"
   ]
  },
  {
   "cell_type": "code",
   "execution_count": 6,
   "metadata": {},
   "outputs": [
    {
     "name": "stdout",
     "output_type": "stream",
     "text": [
      "30\n"
     ]
    }
   ],
   "source": [
    "# Variables are typically named with an underscore.\n",
    "my_variable = 10\n",
    "this_is_another_variable = 20\n",
    "\n",
    "print(my_variable + this_is_another_variable)"
   ]
  },
  {
   "cell_type": "markdown",
   "metadata": {},
   "source": [
    "## 3. Strings"
   ]
  },
  {
   "cell_type": "markdown",
   "metadata": {},
   "source": [
    "Strings are a kind of <b>sequence</b>. That is, an ordered list of characters. (So they can be operated on using sequence operations, like by indexing a specific character, etc?)"
   ]
  },
  {
   "cell_type": "code",
   "execution_count": 7,
   "metadata": {},
   "outputs": [
    {
     "name": "stdout",
     "output_type": "stream",
     "text": [
      "Hello, world\n",
      "Hello, world\n",
      "This doesn't have to be escaped\n",
      "Neither does \"this\"\n"
     ]
    }
   ],
   "source": [
    "# Strings can be instantiated by using double quotes or single quotes.\n",
    "single_quote_str = 'Hello, world'\n",
    "\n",
    "double_quote_str = \"Hello, world\"\n",
    "\n",
    "print(single_quote_str)\n",
    "print(double_quote_str)\n",
    "\n",
    "# If you use double-quote strings, then you won't have to escape single-quotes, and vice-versa\n",
    "print(\"This doesn't have to be escaped\")\n",
    "print('Neither does \"this\"')\n",
    "\n",
    "# print('But 'this' would result in an error')"
   ]
  },
  {
   "cell_type": "code",
   "execution_count": 8,
   "metadata": {},
   "outputs": [
    {
     "data": {
      "text/plain": [
       "5"
      ]
     },
     "execution_count": 8,
     "metadata": {},
     "output_type": "execute_result"
    }
   ],
   "source": [
    "# Use len to check the length of a string.\n",
    "str = \"abcde\"\n",
    "\n",
    "len(str)"
   ]
  },
  {
   "cell_type": "code",
   "execution_count": 9,
   "metadata": {},
   "outputs": [
    {
     "name": "stdout",
     "output_type": "stream",
     "text": [
      "H\n",
      "e\n"
     ]
    }
   ],
   "source": [
    "# Strings are 0-indexed\n",
    "str = \"Hello\"\n",
    "\n",
    "print(str[0])\n",
    "print(str[1])"
   ]
  },
  {
   "cell_type": "markdown",
   "metadata": {},
   "source": [
    "## 4. Slicing"
   ]
  },
  {
   "cell_type": "code",
   "execution_count": 10,
   "metadata": {},
   "outputs": [
    {
     "name": "stdout",
     "output_type": "stream",
     "text": [
      "1. Hello\n",
      "2. ello\n",
      "3. Hel\n",
      "4. el\n",
      "5. o\n",
      "6. Hell\n"
     ]
    }
   ],
   "source": [
    "# Use [start_index:end_index] to take the subset of a sequence.\n",
    "\n",
    "str = \"Hello\"\n",
    "\n",
    "# 1. Take the whole string\n",
    "print(\"1. \" + str[:])\n",
    "\n",
    "# 2. Take everything FROM the first index (i.e., skip the first letter)\n",
    "print(\"2. \" + str[1:])\n",
    "\n",
    "# 3. Take everything UP TO the third index (exclusive) (i.e., up to index 3)\n",
    "print(\"3. \" + str[:3])\n",
    "\n",
    "# 4. Take between index 1-3 (i.e., middle of string)\n",
    "print(\"4. \" + str[1:3])\n",
    "\n",
    "# 5. Use -1 to get the last element.\n",
    "print(\"5. \" + str[-1])\n",
    "\n",
    "# 6. Grab everything UP TO the last index (except the last index)\n",
    "print(\"6. \" + str[:-1])\n"
   ]
  },
  {
   "cell_type": "markdown",
   "metadata": {},
   "source": [
    "## 5. Slicing using a specified step size"
   ]
  },
  {
   "cell_type": "code",
   "execution_count": 11,
   "metadata": {},
   "outputs": [
    {
     "name": "stdout",
     "output_type": "stream",
     "text": [
      "1. Hlo\n",
      "2. olleH\n"
     ]
    }
   ],
   "source": [
    "# Use :: to slice through a string at a specified step size.\n",
    "str = \"Hello\"\n",
    "\n",
    "# 1. Take every second letter\n",
    "print(\"1. \" + str[::2])\n",
    "\n",
    "# 2. Take every letter, but backwards (i.e., reverse the string)\n",
    "print(\"2. \" + str[::-1])"
   ]
  },
  {
   "cell_type": "markdown",
   "metadata": {},
   "source": [
    "## 6. String immutability"
   ]
  },
  {
   "cell_type": "code",
   "execution_count": 12,
   "metadata": {},
   "outputs": [
    {
     "ename": "TypeError",
     "evalue": "'str' object does not support item assignment",
     "output_type": "error",
     "traceback": [
      "\u001b[1;31m---------------------------------------------------------------------------\u001b[0m",
      "\u001b[1;31mTypeError\u001b[0m                                 Traceback (most recent call last)",
      "\u001b[1;32m<ipython-input-12-b5606b3fd3af>\u001b[0m in \u001b[0;36m<module>\u001b[1;34m()\u001b[0m\n\u001b[0;32m      2\u001b[0m \u001b[0ms\u001b[0m \u001b[1;33m=\u001b[0m \u001b[1;34m\"Hello\"\u001b[0m\u001b[1;33m\u001b[0m\u001b[0m\n\u001b[0;32m      3\u001b[0m \u001b[1;33m\u001b[0m\u001b[0m\n\u001b[1;32m----> 4\u001b[1;33m \u001b[0ms\u001b[0m\u001b[1;33m[\u001b[0m\u001b[1;36m0\u001b[0m\u001b[1;33m]\u001b[0m \u001b[1;33m=\u001b[0m \u001b[1;34m\"N\"\u001b[0m\u001b[1;33m\u001b[0m\u001b[0m\n\u001b[0m",
      "\u001b[1;31mTypeError\u001b[0m: 'str' object does not support item assignment"
     ]
    }
   ],
   "source": [
    "# Python strings are immutable.\n",
    "s = \"Hello\"\n",
    "\n",
    "s[0] = \"N\""
   ]
  },
  {
   "cell_type": "code",
   "execution_count": 17,
   "metadata": {},
   "outputs": [
    {
     "name": "stdout",
     "output_type": "stream",
     "text": [
      "Hello world\n"
     ]
    }
   ],
   "source": [
    "# But we can concatenate strings using +\n",
    "hello = \"Hello\"\n",
    "world = \"world\"\n",
    "\n",
    "print(hello + \" \" + world)"
   ]
  },
  {
   "cell_type": "markdown",
   "metadata": {},
   "source": [
    "## 7. Basic string functions"
   ]
  },
  {
   "cell_type": "code",
   "execution_count": 18,
   "metadata": {},
   "outputs": [
    {
     "name": "stdout",
     "output_type": "stream",
     "text": [
      "1.zzzzzzzzzz\n",
      "2. help!ME\n"
     ]
    },
    {
     "data": {
      "text/plain": [
       "['Hell', ' w', 'rld']"
      ]
     },
     "execution_count": 18,
     "metadata": {},
     "output_type": "execute_result"
    }
   ],
   "source": [
    "# 1. Use the multiplication symbol to repeat letter.\n",
    "print(\"1.\" + (\"z\"*10))\n",
    "\n",
    "# 2. Upper and lower do what you expect\n",
    "print(\"2. \" + \"HELP!\".lower() + \"me\".upper())\n",
    "\n",
    "# 3. Split will split by spaces by default, or a character you print\n",
    "\"Hello world\".split()\n",
    "\n",
    "\"Hello world\".split(\"o\")\n"
   ]
  },
  {
   "cell_type": "markdown",
   "metadata": {},
   "source": [
    "## 8. Print formatting"
   ]
  },
  {
   "cell_type": "code",
   "execution_count": 19,
   "metadata": {},
   "outputs": [
    {
     "name": "stdout",
     "output_type": "stream",
     "text": [
      "1. Hello, world\n",
      "2. 1.00\n",
      "2.     1\n",
      "2. 3.14\n",
      "3. Here is a number: 123.4, and here is another: 4.321\n"
     ]
    }
   ],
   "source": [
    "# 1. Use %s to put a STRING into your print\n",
    "world = \"world\"\n",
    "print(\"1. Hello, %s\") %(world)\n",
    "\n",
    "# 2. Use %(total digits to show).(digits after decimal point)f for FLOATING POINT numbers\n",
    "print(\"2. %3.2f\") % 1.00\n",
    "print(\"2. %5.0f\") % 1.00 # (Padded with spaces)\n",
    "print(\"2. %3.2f\") % 3.14159\n",
    "\n",
    "# 3. %s and %r will convert almost any object into a string\n",
    "print(\"3. Here is a number: %s, and here is another: %s\" % (123.4, 4.321))"
   ]
  },
  {
   "cell_type": "markdown",
   "metadata": {},
   "source": [
    "## 7. String.format"
   ]
  },
  {
   "cell_type": "code",
   "execution_count": 20,
   "metadata": {},
   "outputs": [
    {
     "name": "stdout",
     "output_type": "stream",
     "text": [
      "Here's one object: 123, and another: hi there.\n"
     ]
    }
   ],
   "source": [
    "# 1. The best way to format strings is with string.format\n",
    "print(\"Here's one object: {a}, and another: {b}.\".format(a=123, b=\"hi there\"))"
   ]
  },
  {
   "cell_type": "markdown",
   "metadata": {},
   "source": [
    "See this URL for comprehensive formatting information: https://pyformat.info/"
   ]
  },
  {
   "cell_type": "markdown",
   "metadata": {},
   "source": [
    "## 8. Lists"
   ]
  },
  {
   "cell_type": "markdown",
   "metadata": {},
   "source": [
    "Lists can be thought of as a sequence too, the most general kind of sequence.\n",
    "Unlike strings, lists are mutable."
   ]
  },
  {
   "cell_type": "code",
   "execution_count": 21,
   "metadata": {},
   "outputs": [
    {
     "name": "stdout",
     "output_type": "stream",
     "text": [
      "1. ['apple', 'orange', 'banana']\n",
      "2. ['apple', 123]\n",
      "3. 3\n",
      "4. ['banana']\n"
     ]
    }
   ],
   "source": [
    "# 1. Create a list with [...,...,...]\n",
    "my_list = [\"apple\", \"orange\", \"banana\"]\n",
    "\n",
    "print(\"1. {}\".format(my_list))\n",
    "\n",
    "# 2. Lists can hold different data types\n",
    "crazy_list = [\"apple\", 123]\n",
    "\n",
    "print(\"2. {}\".format(crazy_list))\n",
    "\n",
    "# 3. Like strings, use Len to get the length\n",
    "print(\"3. {}\".format(len(my_list)))\n",
    "\n",
    "# 4. Lists can be sliced like strings\n",
    "print(\"4. {}\".format(my_list[2:]))\n",
    "\n",
    "# 5. And you can use the same * and + operators to double or append something onto a list (must be assigned to a new variable)"
   ]
  },
  {
   "cell_type": "markdown",
   "metadata": {},
   "source": [
    "## 9. List Methods"
   ]
  },
  {
   "cell_type": "code",
   "execution_count": 22,
   "metadata": {},
   "outputs": [
    {
     "name": "stdout",
     "output_type": "stream",
     "text": [
      "1. ['apple', 'orange', 'banana', 'pear']\n",
      "2. ['apple', 'banana', 'pear'], popped item: orange\n",
      "3. ['apple', 'banana', 'pear']\n",
      "4. ['pear', 'banana', 'apple']\n",
      "5. [[1, 2, 3], [4, 5, 6], [7, 8, 9]]\n",
      "Element (0,0): 1\n"
     ]
    }
   ],
   "source": [
    "my_list = [\"apple\", \"orange\", \"banana\"]\n",
    "\n",
    "# 1. Use .append to add something\n",
    "my_list.append(\"pear\")\n",
    "print(\"1. {}\".format(my_list))\n",
    "\n",
    "# 2. Use .pop to pop an item from the list\n",
    "popped_item = my_list.pop(1)\n",
    "print(\"2. {}, popped item: {}\".format(my_list, popped_item))\n",
    "\n",
    "# 3. Use sort to sort a list\n",
    "my_list.sort()\n",
    "print(\"3. {}\".format(my_list))\n",
    "\n",
    "# 4. Use reverse to reverse a list\n",
    "my_list.reverse()\n",
    "print(\"4. {}\".format(my_list))\n",
    "\n",
    "# 5. Lists can be nested. For example, to create a 2D array-like structure.\n",
    "my_matrix = [\n",
    "    [1,2,3],\n",
    "    [4,5,6],\n",
    "    [7,8,9]\n",
    "]\n",
    "print(\"5. {}\".format(my_matrix))\n",
    "print(\"Element (0,0): {}\".format(my_matrix[0][0]))"
   ]
  },
  {
   "cell_type": "markdown",
   "metadata": {},
   "source": [
    "## 10. List Comprehensions"
   ]
  },
  {
   "cell_type": "code",
   "execution_count": 23,
   "metadata": {},
   "outputs": [
    {
     "name": "stdout",
     "output_type": "stream",
     "text": [
      "First col = [1, 4, 7]\n"
     ]
    }
   ],
   "source": [
    "# You can use list comprehensions to quickly construct lists\n",
    "\n",
    "my_matrix = [\n",
    "    [1,2,3],\n",
    "    [4,5,6],\n",
    "    [7,8,9]\n",
    "]\n",
    "\n",
    "first_col = [row[0] for row in my_matrix] # For every element in this list, take the first element\n",
    "\n",
    "print(\"First col = {}\".format(first_col))"
   ]
  },
  {
   "cell_type": "markdown",
   "metadata": {},
   "source": [
    "## 11. Dictionaries"
   ]
  },
  {
   "cell_type": "code",
   "execution_count": 24,
   "metadata": {},
   "outputs": [
    {
     "name": "stdout",
     "output_type": "stream",
     "text": [
      "1. one\n",
      "2. number one\n",
      "3. four\n",
      "4. [(1, 'number one'), (2, 'two'), (3, 'three'), (4, 'four')]\n"
     ]
    }
   ],
   "source": [
    "# 1. Pretty standard stuff\n",
    "my_dict = {1: \"one\", 2: \"two\", 3: \"three\"}\n",
    "\n",
    "print(\"1. {}\".format(my_dict[1]))\n",
    "\n",
    "# 2. Reassign a key to another value\n",
    "my_dict[1] = \"number one\"\n",
    "\n",
    "print (\"2. {}\".format(my_dict[1]))\n",
    "\n",
    "# 3. Add a new item\n",
    "my_dict[4] = \"four\"\n",
    "\n",
    "print(\"3. {}\".format(my_dict[4]))\n",
    "\n",
    "# 4. Return all items as tuples\n",
    "print(\"4. {}\".format(my_dict.items()))\n",
    "\n",
    "# (Also have .keys() and .items())"
   ]
  },
  {
   "cell_type": "markdown",
   "metadata": {},
   "source": [
    "<b>N.B.,</b> Dictionaries are not ordered. Use ordereddict if you want ordering."
   ]
  },
  {
   "cell_type": "markdown",
   "metadata": {},
   "source": [
    "## 12. Tuples"
   ]
  },
  {
   "cell_type": "markdown",
   "metadata": {},
   "source": [
    "Tuples are like lists but they're IMMUTABLE. So you can use them to hold things that won't change, like days of the week, etc.\n",
    "\n",
    "* List = [...]\n",
    "* Tuple = (...)\n",
    "* Set = {...}"
   ]
  },
  {
   "cell_type": "code",
   "execution_count": 25,
   "metadata": {},
   "outputs": [
    {
     "name": "stdout",
     "output_type": "stream",
     "text": [
      "1. 0\n",
      "2. 2\n"
     ]
    }
   ],
   "source": [
    "my_tuple = (\"one\", \"two\", \"three\", \"one\", \"four\")\n",
    "\n",
    "# 1. Get the first index of an item\n",
    "one_index = my_tuple.index(\"one\")\n",
    "print(\"1. {}\".format(one_index))\n",
    "\n",
    "# 2. Count the number of times an object appears\n",
    "print(\"2. {}\".format(my_tuple.count(\"one\")))"
   ]
  },
  {
   "cell_type": "markdown",
   "metadata": {},
   "source": [
    "## 13. Sets"
   ]
  },
  {
   "cell_type": "markdown",
   "metadata": {},
   "source": [
    "An unordered collection of UNIQUE elements."
   ]
  },
  {
   "cell_type": "code",
   "execution_count": 43,
   "metadata": {},
   "outputs": [
    {
     "name": "stdout",
     "output_type": "stream",
     "text": [
      "1. set([1, 2])\n",
      "2. set([1, 2, 3, 4, 5])\n",
      "3. set([1, 2, 3, 4])\n",
      "4. True\n",
      "4. True\n"
     ]
    }
   ],
   "source": [
    "my_set = set()\n",
    "my_set.add(1)\n",
    "my_set.add(2)\n",
    "my_set.add(1)\n",
    "\n",
    "# 1. Duplicate elements just won't be added\n",
    "print(\"1. {}\".format(my_set))\n",
    "\n",
    "# 2. You can use sets to get the unique items from a list\n",
    "my_list = [1, 2, 3, 4, 5, 5, 3, 1, 2, 3, 4]\n",
    "unique_my_list = set(my_list)\n",
    "\n",
    "print(\"2. {}\".format(unique_my_list))\n",
    "\n",
    "# 3. Declare inline by using {}\n",
    "my_inline_set = {1, 2, 3, 4, 4, 2, 1}\n",
    "\n",
    "print(\"3. {}\".format(my_inline_set))\n",
    "\n",
    "# 4. <= and >= to check for subsets\n",
    "my_superset = set([1, 2, 3, 4, 5])\n",
    "my_subset = set([1,2,3])\n",
    "\n",
    "print(\"4. {}\".format(my_subset <= my_superset))\n",
    "print(\"4. {}\".format(my_superset >= my_subset))"
   ]
  },
  {
   "cell_type": "markdown",
   "metadata": {},
   "source": [
    "## 14. Booleans"
   ]
  },
  {
   "cell_type": "code",
   "execution_count": 27,
   "metadata": {},
   "outputs": [
    {
     "name": "stdout",
     "output_type": "stream",
     "text": [
      "True\n",
      "None\n"
     ]
    }
   ],
   "source": [
    "# Pretty basic stuff\n",
    "\n",
    "my_bool = True\n",
    "print(my_bool)\n",
    "\n",
    "# Use None if you don't know the value yet\n",
    "my_unknown = None\n",
    "print(my_unknown)"
   ]
  },
  {
   "cell_type": "markdown",
   "metadata": {},
   "source": [
    "## 15. Lists/tuples/sets/dictionaries quick reference\n",
    "\n",
    "* List = [...]\n",
    "* Tuple = (...)\n",
    "* Set = {...}\n",
    "* Dictionary = {key:val,...}"
   ]
  },
  {
   "cell_type": "markdown",
   "metadata": {
    "collapsed": true
   },
   "source": [
    "## 16. Chained Comparison Operators"
   ]
  },
  {
   "cell_type": "code",
   "execution_count": 28,
   "metadata": {},
   "outputs": [
    {
     "name": "stdout",
     "output_type": "stream",
     "text": [
      "1. True\n",
      "1. True\n",
      "2. False\n"
     ]
    }
   ],
   "source": [
    "# Boolean operators can be chained like this:\n",
    "\n",
    "# 1. AND\n",
    "val = 1 < 3 > 2\n",
    "print(\"1. {}\".format(val))\n",
    "\n",
    "# This is the same as:\n",
    "val = 1 < 3 and 3 > 2\n",
    "print(\"1. {}\".format(val))\n",
    "\n",
    "# 2. Or statements just use the word or, likewise with and\n",
    "val = False or False\n",
    "print(\"2. {}\".format(val))"
   ]
  },
  {
   "cell_type": "markdown",
   "metadata": {},
   "source": [
    "## 17. if statements"
   ]
  },
  {
   "cell_type": "markdown",
   "metadata": {},
   "source": [
    "Python does not use curly brackets or or semi-colons in its statements.\n",
    "Instead it uses:\n",
    "* Colon to indicate start of statement\n",
    "* White space to indicate statements within condition\n",
    "* EOL to indicate end of statement"
   ]
  },
  {
   "cell_type": "code",
   "execution_count": 29,
   "metadata": {},
   "outputs": [
    {
     "name": "stdout",
     "output_type": "stream",
     "text": [
      "You are young\n",
      "Your whole life is ahead of you!\n"
     ]
    }
   ],
   "source": [
    "age = 24\n",
    "\n",
    "if age < 30:\n",
    "    print(\"You are young\")\n",
    "    print(\"Your whole life is ahead of you!\")\n",
    "elif age < 50:\n",
    "    print(\"You are middle-aged\")\n",
    "else:\n",
    "    print(\"You are growing wise\")"
   ]
  },
  {
   "cell_type": "markdown",
   "metadata": {},
   "source": [
    "## 18. for loops"
   ]
  },
  {
   "cell_type": "code",
   "execution_count": 30,
   "metadata": {},
   "outputs": [
    {
     "name": "stdout",
     "output_type": "stream",
     "text": [
      "Standard for -- 1 is odd\n",
      "Standard for -- 2 is even\n",
      "Standard for -- 3 is odd\n",
      "Standard for -- 4 is even\n",
      "Standard for -- 5 is odd\n",
      "Tuple for -- First item is: 1\n",
      "Tuple for -- First item is: 2\n",
      "Tuple for -- First item is: 3\n",
      "Dict for -- key:1, value: one\n",
      "Dict for -- key:2, value: two\n",
      "Dict for -- key:3, value: three\n"
     ]
    }
   ],
   "source": [
    "# Pretty standard stuff. for VAR in SEQUENCE...\n",
    "my_list = [1,2,3,4,5]\n",
    "\n",
    "for num in my_list:\n",
    "    if num % 2 == 0:\n",
    "        print(\"Standard for -- {} is even\".format(num))\n",
    "    else:\n",
    "        print(\"Standard for -- {} is odd\".format(num))\n",
    "        \n",
    "# We can also unpack tuples (tuple unpacking) in a for loop\n",
    "my_tuple_list = [(1, \"one\"), (2, \"two\"), (3, \"three\")]\n",
    "\n",
    "for (item1,item2) in my_tuple_list:\n",
    "    print(\"Tuple for -- First item is: {}\".format(item1))\n",
    "    \n",
    "\n",
    "# When iterating through a dictionary, use .items\n",
    "my_dict = {1:\"one\", 2:\"two\", 3:\"three\"}\n",
    "\n",
    "for (key,value) in my_dict.items():\n",
    "    print(\"Dict for -- key:{}, value: {}\".format(key, value))\n",
    "    "
   ]
  },
  {
   "cell_type": "markdown",
   "metadata": {},
   "source": [
    "## 19. while loops"
   ]
  },
  {
   "cell_type": "code",
   "execution_count": 31,
   "metadata": {},
   "outputs": [
    {
     "name": "stdout",
     "output_type": "stream",
     "text": [
      "3...\n",
      "2...\n",
      "1...\n",
      "GO!\n",
      "Incrementing x from 0...\n",
      "Incrementing x from 1...\n",
      "Incrementing x from 2...\n",
      "Breaking at x == 3\n"
     ]
    }
   ],
   "source": [
    "# While loops are prety standard, but have a few extra things you can do\n",
    "\n",
    "# 1. You can use else to do something when a while loop ends\n",
    "x = 3\n",
    "while x > 0:\n",
    "    print(\"{}...\".format(x))\n",
    "    x-=1\n",
    "else:\n",
    "    print(\"GO!\")\n",
    "    \n",
    "# 2. Use break, continue, and pass\n",
    "#    break == breaks out of enclosing loop\n",
    "#    continue == goes to next iteration of enclosing loop\n",
    "#    pass == do nothing\n",
    "\n",
    "x = 0\n",
    "\n",
    "while x < 10:\n",
    "    if x < 3:\n",
    "        print(\"Incrementing x from {}...\".format(x))\n",
    "        x += 1\n",
    "    else:\n",
    "        print(\"Breaking at x == {}\".format(x))\n",
    "        break"
   ]
  },
  {
   "cell_type": "markdown",
   "metadata": {},
   "source": [
    "## 20. range()"
   ]
  },
  {
   "cell_type": "code",
   "execution_count": 32,
   "metadata": {},
   "outputs": [
    {
     "name": "stdout",
     "output_type": "stream",
     "text": [
      "0\n",
      "1\n",
      "2\n",
      "3\n",
      "4\n",
      "5\n",
      "6\n",
      "7\n",
      "8\n",
      "9\n",
      "10\n",
      "12\n",
      "14\n",
      "16\n",
      "18\n"
     ]
    }
   ],
   "source": [
    "# Use the range operator to generate a list of numbers (exclusive of top bound)\n",
    "range_list = range(0, 10)\n",
    "\n",
    "for num in range_list:\n",
    "    print(num)\n",
    "\n",
    "range_list = range(10, 20, 2)\n",
    "\n",
    "for num in range_list:\n",
    "    print(num)"
   ]
  },
  {
   "cell_type": "markdown",
   "metadata": {},
   "source": [
    "## 21. List Comprehensions"
   ]
  },
  {
   "cell_type": "code",
   "execution_count": 33,
   "metadata": {},
   "outputs": [
    {
     "name": "stdout",
     "output_type": "stream",
     "text": [
      "1. w\n",
      "1. o\n",
      "1. r\n",
      "1. d\n",
      "2. 0.0 squared is 0\n",
      "2. 1.0 squared is 1\n",
      "2. 2.0 squared is 4\n",
      "2. 3.0 squared is 9\n",
      "2. 4.0 squared is 16\n",
      "2. 5.0 squared is 25\n",
      "2. 6.0 squared is 36\n",
      "2. 7.0 squared is 49\n",
      "2. 8.0 squared is 64\n",
      "2. 9.0 squared is 81\n",
      "3. 1\n",
      "3. 3\n",
      "3. 5\n",
      "3. 7\n",
      "3. 9\n",
      "4. 0\n",
      "4. 1\n",
      "4. 16\n",
      "4. 81\n",
      "4. 256\n",
      "4. 625\n",
      "4. 1296\n",
      "4. 2401\n",
      "4. 4096\n",
      "4. 6561\n"
     ]
    }
   ],
   "source": [
    "# 1. List comprehensions are like a 1 line for loop. They let us build lists from a statement.\n",
    "list_of_letters = [letter for letter in \"word\"]\n",
    "\n",
    "for x in list_of_letters:\n",
    "    print(\"1. {}\".format(x))\n",
    "    \n",
    "# 2. You could also operate on the element you're taking, for example to get the squares\n",
    "squares = [x**2 for x in range(0,10)]\n",
    "\n",
    "for x in squares:\n",
    "    print(\"2. {} squared is {}\".format(x**0.5, x))\n",
    "    \n",
    "# 3. Or we could get just the odd numbers\n",
    "odd = [x for x in range(0,10) if x%2 != 0]\n",
    "\n",
    "for x in odd:\n",
    "    print(\"3. {}\".format(x))\n",
    "    \n",
    "# 4. And we can nest comprehensions too\n",
    "square_of_squares = [x**2 for x in [x**2 for x in range(10)]]\n",
    "\n",
    "for x in square_of_squares:\n",
    "    print(\"4. {}\".format(x))\n",
    "    \n"
   ]
  },
  {
   "cell_type": "markdown",
   "metadata": {},
   "source": [
    "## 22. Methods"
   ]
  },
  {
   "cell_type": "markdown",
   "metadata": {},
   "source": [
    "Method are functions we can use on objects.\n",
    "\n",
    "`obj.method(arg1, arg2)`"
   ]
  },
  {
   "cell_type": "code",
   "execution_count": 34,
   "metadata": {},
   "outputs": [
    {
     "name": "stdout",
     "output_type": "stream",
     "text": [
      "Help on built-in function count:\n",
      "\n",
      "count(...)\n",
      "    L.count(value) -> integer -- return number of occurrences of value\n",
      "\n"
     ]
    }
   ],
   "source": [
    "# Use help to get more information on methods\n",
    "\n",
    "list = range(0,11)\n",
    "\n",
    "help(list.count)"
   ]
  },
  {
   "cell_type": "markdown",
   "metadata": {},
   "source": [
    "## 23. Functions"
   ]
  },
  {
   "cell_type": "markdown",
   "metadata": {},
   "source": [
    "Functions use white space indentation and are of the form:"
   ]
  },
  {
   "cell_type": "code",
   "execution_count": 35,
   "metadata": {
    "collapsed": true
   },
   "outputs": [],
   "source": [
    "def function_name(arg1,arg2):\n",
    "    '''\n",
    "    Doc string explaining what the function does\n",
    "    '''\n",
    "    # some code\n",
    "    # return some value`"
   ]
  },
  {
   "cell_type": "code",
   "execution_count": 36,
   "metadata": {},
   "outputs": [
    {
     "name": "stdout",
     "output_type": "stream",
     "text": [
      "1. Hello world\n",
      "2. 3\n",
      "3. Helloworld\n"
     ]
    }
   ],
   "source": [
    "# 1. Simple param\n",
    "\n",
    "def say_hello(name):\n",
    "    print(\"1. Hello %s\" %name)\n",
    "    \n",
    "say_hello(\"world\")\n",
    "\n",
    "# 2. return value\n",
    "def add_up(num1,num2):\n",
    "    return num1+num2\n",
    "\n",
    "result = add_up(1,2)\n",
    "\n",
    "print(\"2. %d\" %result)\n",
    "\n",
    "# 3. Beware, we can pass in unexpected values to our function...\n",
    "result = add_up(\"Hello\",\"world\")\n",
    "print(\"3. %s\" %result)"
   ]
  },
  {
   "cell_type": "markdown",
   "metadata": {},
   "source": [
    "## 24. Lambda expressions\n",
    "Lambda expression are anonymous functions, used for simple functionality usually.\n",
    "`lambda input: output`"
   ]
  },
  {
   "cell_type": "code",
   "execution_count": 37,
   "metadata": {},
   "outputs": [
    {
     "name": "stdout",
     "output_type": "stream",
     "text": [
      "1. 4\n",
      "2. 4\n",
      "3. olleh\n",
      "4. 12\n"
     ]
    }
   ],
   "source": [
    "# 1. Imagine a function like this:\n",
    "def square(num):\n",
    "    return num**2\n",
    "\n",
    "print(\"1. {}\".format(square(2)))\n",
    "\n",
    "# 2. We could easily rewrite it as a lambda expression:\n",
    "result = lambda x: x**2\n",
    "\n",
    "print(\"2. {}\".format(result(2)))\n",
    "\n",
    "# 3. Another example\n",
    "reverse = lambda s: s[::-1]\n",
    "\n",
    "print(\"3. {}\".format(reverse(\"hello\")))\n",
    "\n",
    "# 4. We can also take in multiple arguments\n",
    "multiply = lambda x,y: x*y\n",
    "\n",
    "print(\"4. {}\".format(multiply(3,4)))"
   ]
  },
  {
   "cell_type": "markdown",
   "metadata": {},
   "source": [
    "## 25. Global\n",
    "`global` -- keyword to refer to variables at a global level."
   ]
  },
  {
   "cell_type": "code",
   "execution_count": 1,
   "metadata": {},
   "outputs": [
    {
     "name": "stdout",
     "output_type": "stream",
     "text": [
      "Here, x is 50 because the x in change_x() is local to that function\n",
      "Now x is 54\n"
     ]
    }
   ],
   "source": [
    "# Use global to refer to variables that are not defined with a function, etc.\n",
    "\n",
    "x = 50\n",
    "\n",
    "def change_x():\n",
    "    x = 54\n",
    "    \n",
    "change_x()\n",
    "print(\"Here, x is {} because the x in change_x() is local to that function\".format(x))\n",
    "\n",
    "def change_x_global():\n",
    "    global x\n",
    "    x = 54\n",
    "    \n",
    "change_x_global()\n",
    "print(\"Now x is {}\".format(x))"
   ]
  },
  {
   "cell_type": "markdown",
   "metadata": {},
   "source": [
    "## 26. Objects\n",
    "Everything in Python is an object."
   ]
  },
  {
   "cell_type": "code",
   "execution_count": 8,
   "metadata": {},
   "outputs": [
    {
     "name": "stdout",
     "output_type": "stream",
     "text": [
      "<type 'list'>\n",
      "<type 'int'>\n"
     ]
    }
   ],
   "source": [
    "# 1. You can check object types by using types\n",
    "my_list = [1,2,3]\n",
    "x = 3\n",
    "\n",
    "print(type(my_list))\n",
    "print(type(x))\n",
    "\n",
    "\n"
   ]
  },
  {
   "cell_type": "markdown",
   "metadata": {},
   "source": [
    "### 26.1 Classes\n",
    "Classes start with a capital letter.\n",
    "They have attributes and methods.\n",
    "They also have class object attributes (like static members).\n",
    "\n",
    "__NOTE:__ Unlike Java and C#, Python does not generally do one class per file. Instead, classes are grouped together as as a \"usable unit\". See packages and modules section below.\n",
    "\n",
    "Their form is as follows:"
   ]
  },
  {
   "cell_type": "code",
   "execution_count": 10,
   "metadata": {},
   "outputs": [
    {
     "name": "stdout",
     "output_type": "stream",
     "text": [
      "<class '__main__.MyExampleClass'>\n"
     ]
    }
   ],
   "source": [
    "class MyExampleClass(object):\n",
    "    pass\n",
    "\n",
    "x = MyExampleClass()\n",
    "\n",
    "print(type(x))"
   ]
  },
  {
   "cell_type": "markdown",
   "metadata": {},
   "source": [
    "Use `__init__` as a constructor."
   ]
  },
  {
   "cell_type": "code",
   "execution_count": 2,
   "metadata": {},
   "outputs": [
    {
     "name": "stdout",
     "output_type": "stream",
     "text": [
      "Lab\n",
      "Mammal\n",
      "Pug\n"
     ]
    }
   ],
   "source": [
    "class Dog(object):\n",
    "    \n",
    "    # Class object attribute\n",
    "    species = \"Mammal\"\n",
    "    \n",
    "    def __init__(self, breed):\n",
    "        self.breed = breed\n",
    "        \n",
    "    def set_breed(self, breed):\n",
    "        self.breed = breed\n",
    "        \n",
    "    def get_breed(self):\n",
    "        return self.breed\n",
    "        \n",
    "sam = Dog(breed=\"Lab\")\n",
    "\n",
    "print(sam.breed)\n",
    "print(Dog.species)\n",
    "\n",
    "sam.set_breed(\"Pug\")\n",
    "print(sam.get_breed())"
   ]
  },
  {
   "cell_type": "markdown",
   "metadata": {},
   "source": [
    "### 26.2 Inheritance"
   ]
  },
  {
   "cell_type": "code",
   "execution_count": 3,
   "metadata": {},
   "outputs": [
    {
     "name": "stdout",
     "output_type": "stream",
     "text": [
      "Dog born\n",
      "Woof!\n",
      "Animal eating\n",
      "Dog\n"
     ]
    }
   ],
   "source": [
    "class Animal(object):\n",
    "    def __init__(self):\n",
    "        print(\"Animal born\")\n",
    "        \n",
    "    def who_am_I(self):\n",
    "        print(\"Animal\")\n",
    "        \n",
    "    def eat(self):\n",
    "        print(\"Animal eating\")\n",
    "        \n",
    "class Dog(Animal):\n",
    "    def __init__(self):\n",
    "        print(\"Dog born\")\n",
    "        \n",
    "    def who_am_I(self):\n",
    "        print(\"Dog\")\n",
    "        \n",
    "    def bark(self):\n",
    "        print(\"Woof!\")\n",
    "        \n",
    "sam = Dog()\n",
    "sam.bark()\n",
    "sam.eat()\n",
    "sam.who_am_I()"
   ]
  },
  {
   "cell_type": "markdown",
   "metadata": {},
   "source": [
    "### 26.3 More special object methods\n",
    "Objects have more special methods than `__init__`.\n",
    "We also have `__str__` (like toString()), `__len__`, and `__del__` (like a deconstructor)."
   ]
  },
  {
   "cell_type": "code",
   "execution_count": 1,
   "metadata": {},
   "outputs": [
    {
     "name": "stdout",
     "output_type": "stream",
     "text": [
      "Book created\n",
      "Youth is 274 pages long.\n",
      "274\n",
      "Book being destroyed\n"
     ]
    }
   ],
   "source": [
    "class Book(object):\n",
    "    def __init__(self, title, pages):\n",
    "        self.title = title\n",
    "        self.pages = pages\n",
    "        print(\"Book created\")\n",
    "        \n",
    "    def __str__(self):\n",
    "        return \"{} is {} pages long.\".format(self.title, self.pages)\n",
    "    \n",
    "    def __len__(self):\n",
    "        return self.pages\n",
    "    \n",
    "    def __del__(self):\n",
    "        print(\"Book being destroyed\")\n",
    "        \n",
    "b = Book(\"Youth\", 274)\n",
    "\n",
    "print(b)\n",
    "print(len(b))\n",
    "del b"
   ]
  },
  {
   "cell_type": "markdown",
   "metadata": {},
   "source": [
    "## 27. Exceptions\n",
    "A list of built-in exceptions can be found here: https://docs.python.org/2/library/exceptions.html.\n",
    "\n",
    "Errors are handled using `try...except...else/finally` blocks."
   ]
  },
  {
   "cell_type": "code",
   "execution_count": 7,
   "metadata": {},
   "outputs": [
    {
     "name": "stdout",
     "output_type": "stream",
     "text": [
      "Error: Failed to write to file {}\n"
     ]
    }
   ],
   "source": [
    "try:\n",
    "    my_file = open(\"Somefile.txt\", \"r\") # r will only give read-only permissions\n",
    "    my_file.write(\"New text\")\n",
    "except IOError:\n",
    "    print(\"Error: Failed to write to file {}\")\n",
    "else:\n",
    "    print(\"Opened and wrote to file\")\n",
    "    my_file.close()"
   ]
  },
  {
   "cell_type": "code",
   "execution_count": 4,
   "metadata": {},
   "outputs": [
    {
     "name": "stdout",
     "output_type": "stream",
     "text": [
      "Enter an integer: t\n",
      "That's not an integer!\n",
      "Execution finished.\n",
      "Enter an integer: e\n",
      "That's not an integer!\n",
      "Execution finished.\n",
      "Enter an integer: 3\n",
      "Execution finished.\n",
      "3\n"
     ]
    }
   ],
   "source": [
    "# You can use except to check input as well:\n",
    "\n",
    "while True:\n",
    "    try:\n",
    "        value = int(input(\"Enter an integer: \"))\n",
    "    except:\n",
    "        print(\"That's not an integer!\")\n",
    "        continue\n",
    "    else:\n",
    "        (\"I see you've played enter an integer before!\")\n",
    "        break\n",
    "    finally:\n",
    "        # Executes every time, whether there was an integer or not.\n",
    "        print(\"Execution finished.\")\n",
    "\n",
    "print(value)"
   ]
  },
  {
   "cell_type": "markdown",
   "metadata": {},
   "source": [
    "## 28. Modules and Packages\n",
    "Modules are essentially code packages that you can import. Note that a module may be just one file, but it may contain multple classes, functions, etc. And you can choose to import just one function, for example."
   ]
  },
  {
   "cell_type": "code",
   "execution_count": 5,
   "metadata": {},
   "outputs": [
    {
     "data": {
      "text/plain": [
       "2.0"
      ]
     },
     "execution_count": 5,
     "metadata": {},
     "output_type": "execute_result"
    }
   ],
   "source": [
    "# Import a whole module\n",
    "import math\n",
    "math.sqrt(4)"
   ]
  },
  {
   "cell_type": "code",
   "execution_count": 8,
   "metadata": {},
   "outputs": [
    {
     "data": {
      "text/plain": [
       "2.0"
      ]
     },
     "execution_count": 8,
     "metadata": {},
     "output_type": "execute_result"
    }
   ],
   "source": [
    "# Import just a function (best practice to stop the whole file being loaded)\n",
    "from math import sqrt\n",
    "\n",
    "sqrt(4)"
   ]
  },
  {
   "cell_type": "markdown",
   "metadata": {},
   "source": [
    "You can download new modules via anaconda command prompt or terminal, and by running:\n",
    "\n",
    "`conda install *module name*`\n",
    "\n",
    "If anaconda doesn't have the package you need, most packages will be listed at PyPi, the Python Package Index (https://pypi.python.org/pypi).\n",
    "\n",
    "You can install packages from here by running:\n",
    "\n",
    "`pip install *module name*`"
   ]
  },
  {
   "cell_type": "markdown",
   "metadata": {},
   "source": [
    "## 28.1 Creating a module\n",
    "Simple write your code in a file and save it as `filename.py`.\n",
    "\n",
    "Then, when you want to use it, use `import filename` (without the py)."
   ]
  },
  {
   "cell_type": "markdown",
   "metadata": {},
   "source": [
    "## 28.2 Packages\n",
    "Packages are namespaces that contain multiple modules or other packages.\n",
    "\n",
    "Technically, they are directories with a file called `__init.py__`. This file can be empty, but it must exist in the folder.\n",
    "\n",
    "You can import packages, or modules from packages, like this:\n",
    "\n",
    "`import package`\n",
    "\n",
    "`import package.module`\n",
    "\n",
    "`from package import module`\n",
    "\n",
    "etc.\n",
    "\n"
   ]
  },
  {
   "cell_type": "markdown",
   "metadata": {},
   "source": [
    "## 29. Map\n",
    "The map function takes a function and a sequence iterator, and then return a iterators consisting of every element with the function applied to it.\n",
    "\n",
    "Function + sequence = for every element in sequence, apply the function, return the lot as a list."
   ]
  },
  {
   "cell_type": "code",
   "execution_count": 15,
   "metadata": {},
   "outputs": [
    {
     "name": "stdout",
     "output_type": "stream",
     "text": [
      "[1, 16, 256]\n",
      "[1, 256, 65536]\n"
     ]
    }
   ],
   "source": [
    "def square(num):\n",
    "    return num**2\n",
    "\n",
    "def square_root(num):\n",
    "    return num**0.5\n",
    "\n",
    "nums = [1, 4, 16]\n",
    "\n",
    "squares = map(square, nums)\n",
    "print(squares)\n",
    "\n",
    "square_roots = map(square, squares)\n",
    "print(square_roots)"
   ]
  },
  {
   "cell_type": "markdown",
   "metadata": {},
   "source": [
    "Since one of the advantages of `map` is to cut down on code/loops, it is usually used with a lambda expression:"
   ]
  },
  {
   "cell_type": "code",
   "execution_count": 17,
   "metadata": {},
   "outputs": [
    {
     "name": "stdout",
     "output_type": "stream",
     "text": [
      "[4, 16, 81]\n"
     ]
    }
   ],
   "source": [
    "nums = [2, 4, 9]\n",
    "\n",
    "squares = map(lambda x: x**2, nums)\n",
    "\n",
    "print(squares)"
   ]
  },
  {
   "cell_type": "markdown",
   "metadata": {},
   "source": [
    "We can also use map on more than one iterable:"
   ]
  },
  {
   "cell_type": "code",
   "execution_count": 18,
   "metadata": {},
   "outputs": [
    {
     "name": "stdout",
     "output_type": "stream",
     "text": [
      "[8, 10, 12]\n"
     ]
    }
   ],
   "source": [
    "first_list = [1, 2, 3]\n",
    "second_list = [7, 8, 9]\n",
    "\n",
    "summed_list = map(lambda x,y: x+y, first_list, second_list)\n",
    "\n",
    "print(summed_list)"
   ]
  },
  {
   "cell_type": "markdown",
   "metadata": {},
   "source": [
    "## 30. Reduce\n",
    "Reduce continually applies a function to a sequence until there is just one value left.\n",
    "Easiest to see an example:"
   ]
  },
  {
   "cell_type": "code",
   "execution_count": 26,
   "metadata": {},
   "outputs": [
    {
     "name": "stdout",
     "output_type": "stream",
     "text": [
      "113\n",
      "47\n"
     ]
    }
   ],
   "source": [
    "my_list = [47, 11, 42, 13]\n",
    "\n",
    "output = reduce(lambda x,y: x+y, my_list)\n",
    "\n",
    "print(output)\n",
    "\n",
    "from IPython.display import Image\n",
    "Image('http://www.python-course.eu/images/reduce_diagram.png')\n",
    "\n",
    "# Another example\n",
    "max_num = reduce(lambda a,b: a if (a > b) else b, my_list)\n",
    "\n",
    "print(max_num)"
   ]
  },
  {
   "cell_type": "markdown",
   "metadata": {},
   "source": [
    "## 31. Filter\n",
    "Filter is pretty obvious. It takes a boolean function and sequence, and returns a sequence with everything that satisfies the boolean function."
   ]
  },
  {
   "cell_type": "code",
   "execution_count": 29,
   "metadata": {},
   "outputs": [
    {
     "name": "stdout",
     "output_type": "stream",
     "text": [
      "[2, 4, 6, 8, 10]\n"
     ]
    }
   ],
   "source": [
    "my_list = range(1,11)\n",
    "\n",
    "evens = filter(lambda x: x % 2 == 0, my_list)\n",
    "\n",
    "print(evens)"
   ]
  },
  {
   "cell_type": "markdown",
   "metadata": {},
   "source": [
    "## 32. Zip\n",
    "Zip takes in 2 iterables and joins (zips) them together, returning an iterable of tuples."
   ]
  },
  {
   "cell_type": "code",
   "execution_count": 39,
   "metadata": {},
   "outputs": [
    {
     "name": "stdout",
     "output_type": "stream",
     "text": [
      "[(1, 4), (2, 5), (3, 6)]\n"
     ]
    },
    {
     "data": {
      "text/plain": [
       "['A-a', 'B-b']"
      ]
     },
     "execution_count": 39,
     "metadata": {},
     "output_type": "execute_result"
    }
   ],
   "source": [
    "list_one = [1, 2, 3]\n",
    "list_two = [4, 5, 6]\n",
    "\n",
    "zipped_list = zip(list_one, list_two)\n",
    "\n",
    "print(zipped_list)\n",
    "\n",
    "# Can also be used to concatenate on a symbol between words\n",
    "def concatenate(L1, L2, connector):\n",
    "    return [word1 + connector + word2 for (word1, word2) in zip(L1, L2)]\n",
    "\n",
    "concatenate(['A','B'],['a','b'],'-')"
   ]
  },
  {
   "cell_type": "markdown",
   "metadata": {},
   "source": [
    "## 33. Enumerate\n",
    "Enumerate lets you get an enumerator of items as you are iterating through them."
   ]
  },
  {
   "cell_type": "code",
   "execution_count": 40,
   "metadata": {},
   "outputs": [
    {
     "name": "stdout",
     "output_type": "stream",
     "text": [
      "0: Dog\n",
      "1: Cat\n",
      "2: Bird\n"
     ]
    },
    {
     "data": {
      "text/plain": [
       "4"
      ]
     },
     "execution_count": 40,
     "metadata": {},
     "output_type": "execute_result"
    }
   ],
   "source": [
    "my_list = [\"Dog\", \"Cat\", \"Bird\"]\n",
    "\n",
    "for num, item in enumerate(my_list):\n",
    "    print(\"{}: {}\".format(num, item))\n",
    "    \n",
    "# Get all items where index == item\n",
    "def count_match_index(L):\n",
    "    return len([num for num,item in enumerate(L) if num == item])\n",
    "\n",
    "count_match_index([0,2,2,1,5,5,6,10])"
   ]
  },
  {
   "cell_type": "markdown",
   "metadata": {},
   "source": [
    "## 34. All/Any\n",
    "Pretty self-explanatory."
   ]
  },
  {
   "cell_type": "code",
   "execution_count": 38,
   "metadata": {},
   "outputs": [
    {
     "name": "stdout",
     "output_type": "stream",
     "text": [
      "At least one element is true: True\n",
      "All elements are true: False\n"
     ]
    }
   ],
   "source": [
    "my_list = [False, True, True]\n",
    "           \n",
    "print(\"At least one element is true: {}\".format(any(my_list)))\n",
    "           \n",
    "print(\"All elements are true: {}\".format(all(my_list)))"
   ]
  },
  {
   "cell_type": "markdown",
   "metadata": {
    "collapsed": true
   },
   "source": [
    "## 35. Decorators\n",
    "A decorator is any object that modifies a function or class.\n",
    "A reference is passed to a function or class is passed to a decorator, and the decorator returns a modified version of that function or class."
   ]
  },
  {
   "cell_type": "code",
   "execution_count": 5,
   "metadata": {},
   "outputs": [
    {
     "name": "stdout",
     "output_type": "stream",
     "text": [
      "4\n",
      "36\n"
     ]
    }
   ],
   "source": [
    "# Recall that we have first class functions. We can use functions as objects.\n",
    "\n",
    "def square(num):\n",
    "    return num**2\n",
    "\n",
    "my_square = square\n",
    "\n",
    "print(my_square(2))\n",
    "\n",
    "# We can even delete the initial function\n",
    "del square\n",
    "\n",
    "print(my_square(6))"
   ]
  },
  {
   "cell_type": "code",
   "execution_count": 7,
   "metadata": {},
   "outputs": [
    {
     "name": "stdout",
     "output_type": "stream",
     "text": [
      "1\n",
      "4\n",
      "9\n"
     ]
    }
   ],
   "source": [
    "# We can also pass in functions as parameters\n",
    "\n",
    "def squarer(num):\n",
    "    return num**2\n",
    "\n",
    "def print_result(func):\n",
    "    my_list = [1, 2, 3]\n",
    "    \n",
    "    for num in my_list:\n",
    "        # For every number in list, print out the result of running\n",
    "        # the function argument on it.\n",
    "        print(func(num))\n",
    "        \n",
    "print_result(squarer)"
   ]
  },
  {
   "cell_type": "code",
   "execution_count": 10,
   "metadata": {},
   "outputs": [
    {
     "name": "stdout",
     "output_type": "stream",
     "text": [
      "4\n",
      "9\n"
     ]
    }
   ],
   "source": [
    "# We can also return functions if we want\n",
    "\n",
    "def return_power_func(x):\n",
    "    # Create a function that will take in a parameter y, and return it to the power x\n",
    "    def to_power(y):\n",
    "        return y**x\n",
    "    \n",
    "    return to_power\n",
    "\n",
    "two_power = return_power_func(2)\n",
    "\n",
    "print(two_power(2))\n",
    "print(two_power(3))"
   ]
  },
  {
   "cell_type": "markdown",
   "metadata": {},
   "source": [
    "So, with this in mind, a decorator will:\n",
    "1. Take in a function\n",
    "2. Wrap some functionality around it\n",
    "3. Return it as a new function\n",
    "\n",
    "Therefore modifying, augmenting, the function parameters functionality."
   ]
  },
  {
   "cell_type": "code",
   "execution_count": 1,
   "metadata": {},
   "outputs": [
    {
     "name": "stdout",
     "output_type": "stream",
     "text": [
      "Calling our normal function: \n",
      "Hi there, Graham\n",
      "---\n",
      "Calling our decorated function: \n",
      "Some proprocessing functionality\n",
      "Hi there, Test\n",
      "Some postprocessing functionality\n"
     ]
    }
   ],
   "source": [
    "def my_decorator(func):\n",
    "    def function_wrapper(x):\n",
    "        print(\"Some proprocessing functionality\")\n",
    "        func(x)\n",
    "        print(\"Some postprocessing functionality\")\n",
    "    \n",
    "    return function_wrapper\n",
    "\n",
    "def hello(name):\n",
    "    print(\"Hi there, {}\".format(name))\n",
    "        \n",
    "print(\"Calling our normal function: \")\n",
    "hello(\"Graham\")\n",
    "\n",
    "print(\"---\")\n",
    "\n",
    "decorated_func = my_decorator(hello)\n",
    "\n",
    "print(\"Calling our decorated function: \")\n",
    "decorated_func(\"Test\")\n"
   ]
  },
  {
   "cell_type": "markdown",
   "metadata": {},
   "source": [
    "The problem with the above is that hello() and my_decorator() both exist in the same file.\n",
    "Instead, we usually mark the function to be decorated with `@decorator_name`. That way calling the function will automatically wrap it in the decorator.\n",
    "\n",
    "(Only available with functions you define yourself, though you can wrap functions from 3rd party modules, obviously.)"
   ]
  },
  {
   "cell_type": "code",
   "execution_count": 3,
   "metadata": {},
   "outputs": [
    {
     "name": "stdout",
     "output_type": "stream",
     "text": [
      "Some proprocessing functionality\n",
      "Hi there, Graham\n",
      "Some postprocessing functionality\n"
     ]
    }
   ],
   "source": [
    "def my_decorator(func):\n",
    "    def function_wrapper(x):\n",
    "        print(\"Some proprocessing functionality\")\n",
    "        func(x)\n",
    "        print(\"Some postprocessing functionality\")\n",
    "    \n",
    "    return function_wrapper\n",
    "\n",
    "@my_decorator\n",
    "def hello(name):\n",
    "    print(\"Hi there, {}\".format(name))\n",
    "    \n",
    "hello(\"Graham\")"
   ]
  },
  {
   "cell_type": "code",
   "execution_count": 1,
   "metadata": {},
   "outputs": [
    {
     "name": "stdout",
     "output_type": "stream",
     "text": [
      "24\n"
     ]
    },
    {
     "ename": "Exception",
     "evalue": "Argument must be a natural number",
     "output_type": "error",
     "traceback": [
      "\u001b[0;31m---------------------------------------------------------------------------\u001b[0m",
      "\u001b[0;31mException\u001b[0m                                 Traceback (most recent call last)",
      "\u001b[0;32m<ipython-input-1-cf5a8f8a0a6c>\u001b[0m in \u001b[0;36m<module>\u001b[0;34m()\u001b[0m\n\u001b[1;32m     17\u001b[0m \u001b[0;34m\u001b[0m\u001b[0m\n\u001b[1;32m     18\u001b[0m \u001b[0mprint\u001b[0m\u001b[0;34m(\u001b[0m\u001b[0mfactorial\u001b[0m\u001b[0;34m(\u001b[0m\u001b[0;36m4\u001b[0m\u001b[0;34m)\u001b[0m\u001b[0;34m)\u001b[0m\u001b[0;34m\u001b[0m\u001b[0m\n\u001b[0;32m---> 19\u001b[0;31m \u001b[0mprint\u001b[0m\u001b[0;34m(\u001b[0m\u001b[0mfactorial\u001b[0m\u001b[0;34m(\u001b[0m\u001b[0;34m-\u001b[0m\u001b[0;36m1\u001b[0m\u001b[0;34m)\u001b[0m\u001b[0;34m)\u001b[0m\u001b[0;34m\u001b[0m\u001b[0m\n\u001b[0m",
      "\u001b[0;32m<ipython-input-1-cf5a8f8a0a6c>\u001b[0m in \u001b[0;36mchecked_func\u001b[0;34m(x)\u001b[0m\n\u001b[1;32m      6\u001b[0m             \u001b[0;32mreturn\u001b[0m \u001b[0mfunc\u001b[0m\u001b[0;34m(\u001b[0m\u001b[0mx\u001b[0m\u001b[0;34m)\u001b[0m\u001b[0;34m\u001b[0m\u001b[0m\n\u001b[1;32m      7\u001b[0m         \u001b[0;32melse\u001b[0m\u001b[0;34m:\u001b[0m\u001b[0;34m\u001b[0m\u001b[0m\n\u001b[0;32m----> 8\u001b[0;31m             \u001b[0;32mraise\u001b[0m \u001b[0mException\u001b[0m\u001b[0;34m(\u001b[0m\u001b[0;34m\"Argument must be a natural number\"\u001b[0m\u001b[0;34m)\u001b[0m\u001b[0;34m\u001b[0m\u001b[0m\n\u001b[0m\u001b[1;32m      9\u001b[0m     \u001b[0;32mreturn\u001b[0m \u001b[0mchecked_func\u001b[0m\u001b[0;34m\u001b[0m\u001b[0m\n\u001b[1;32m     10\u001b[0m \u001b[0;34m\u001b[0m\u001b[0m\n",
      "\u001b[0;31mException\u001b[0m: Argument must be a natural number"
     ]
    }
   ],
   "source": [
    "# Example of using a decorator to check argument type\n",
    "\n",
    "def check_argument_is_natural_number(func):\n",
    "    def checked_func(x):\n",
    "        if type(x) == int and x > 0:\n",
    "            return func(x)\n",
    "        else:\n",
    "            raise Exception(\"Argument must be a natural number\")\n",
    "    return checked_func\n",
    "\n",
    "@check_argument_is_natural_number\n",
    "def factorial(n):\n",
    "    if n == 1:\n",
    "        return 1\n",
    "    else:\n",
    "        return n * factorial(n-1)\n",
    "    \n",
    "print(factorial(4))\n",
    "print(factorial(-1))"
   ]
  },
  {
   "cell_type": "markdown",
   "metadata": {},
   "source": [
    "## 36. Generators\n",
    "\n",
    "Standard functions calculate some list of values and then return the whole list.\n",
    "\n",
    "Generators can calculate and return one element at a time. To do this they use the `yield` statement.\n",
    "This works by calculating some value, suspending the state of the function, returning the value, and then resuming the function from the suspect point. This process is called `state suspension`.\n",
    "\n",
    "Generators are useful when you want to do some large calculation and don't want to store all the results in memory at once."
   ]
  },
  {
   "cell_type": "code",
   "execution_count": 8,
   "metadata": {},
   "outputs": [
    {
     "name": "stdout",
     "output_type": "stream",
     "text": [
      "0\n",
      "1\n",
      "8\n",
      "27\n",
      "64\n"
     ]
    }
   ],
   "source": [
    "def gencubes(n):\n",
    "    for num in range(n):\n",
    "        yield num**3\n",
    "        \n",
    "for x in gencubes(5):\n",
    "    print(x)"
   ]
  },
  {
   "cell_type": "markdown",
   "metadata": {},
   "source": [
    "### 36.1 Next and Iter\n",
    "The `next` function gets the next element in a sequence. It does this using an iterator. To get an object's iterator function, use the `iter` function"
   ]
  },
  {
   "cell_type": "code",
   "execution_count": 11,
   "metadata": {},
   "outputs": [
    {
     "name": "stdout",
     "output_type": "stream",
     "text": [
      "0\n",
      "1\n",
      "2\n"
     ]
    }
   ],
   "source": [
    "def generate_three():\n",
    "    for n in range(3):\n",
    "        yield n\n",
    "        \n",
    "generator = generate_three()\n",
    "\n",
    "print(next(generator))\n",
    "print(next(generator))\n",
    "print(next(generator))"
   ]
  },
  {
   "cell_type": "code",
   "execution_count": 15,
   "metadata": {},
   "outputs": [
    {
     "name": "stdout",
     "output_type": "stream",
     "text": [
      "H\n",
      "e\n"
     ]
    }
   ],
   "source": [
    "# If we try to do it with a string, for example, we get an error\n",
    "\n",
    "str = \"Hello\"\n",
    "\n",
    "# next(str) <-- ERROR\n",
    "\n",
    "# So instead we get its iterator first.\n",
    "str_iter = iter(str)\n",
    "\n",
    "print(next(str_iter))\n",
    "print(next(str_iter))"
   ]
  },
  {
   "cell_type": "markdown",
   "metadata": {},
   "source": [
    "### 36.2 Generator Comprehension\n",
    "Like list comprehension, but uses () instead of [].\n",
    "\n",
    "List comprehension finds each item, building them into a list and returns it.\n",
    "Generator comprehension instead finds an item one at a time, yield returns it, and continues. So it has the same advantages as generators. \n",
    "\n",
    "So generator comprehension can be used for very large objects you want to check, but it cannot use list methods."
   ]
  },
  {
   "cell_type": "code",
   "execution_count": 16,
   "metadata": {},
   "outputs": [
    {
     "name": "stdout",
     "output_type": "stream",
     "text": [
      "4\n",
      "5\n"
     ]
    }
   ],
   "source": [
    "my_list = [1, 2, 3, 4, 5]\n",
    "\n",
    "generator_comprehension = (num for num in my_list if num > 3)\n",
    "\n",
    "for item in generator_comprehension:\n",
    "    print(item)"
   ]
  },
  {
   "cell_type": "markdown",
   "metadata": {},
   "source": [
    "## 37. Collections module\n",
    "The collections module provides specialized containers."
   ]
  },
  {
   "cell_type": "code",
   "execution_count": 25,
   "metadata": {},
   "outputs": [
    {
     "name": "stdout",
     "output_type": "stream",
     "text": [
      "1. Counter({'over': 2, 'and': 2, 'again': 2, 'Here': 1, 'is': 1, 'a': 1, 'sentence': 1, 'where': 1, 'some': 1, 'of': 1, 'the': 1, 'words': 1, 'repeats': 1})\n",
      "2. [('over', 2), ('and', 2)]\n",
      "3. 16\n"
     ]
    }
   ],
   "source": [
    "# Counter can be used to count the number of times an item appears in a collection.\n",
    "\n",
    "from collections import Counter\n",
    "\n",
    "sentence = \"Here is a sentence where some of the words repeats over and over again and again\"\n",
    "\n",
    "list_of_words = sentence.split()\n",
    "\n",
    "counter = Counter(list_of_words)\n",
    "\n",
    "# 1. Print out a count of objects\n",
    "print(\"1. {}\".format(counter))\n",
    "\n",
    "# 2. Print out most common words (more than 2 occurances)\n",
    "print(\"2. {}\".format(counter.most_common(2)))\n",
    "\n",
    "# 3. Print out total of all counts\n",
    "print(\"3. {}\".format(sum(counter.values())))\n",
    "\n"
   ]
  },
  {
   "cell_type": "code",
   "execution_count": 28,
   "metadata": {},
   "outputs": [
    {
     "data": {
      "text/plain": [
       "0"
      ]
     },
     "execution_count": 28,
     "metadata": {},
     "output_type": "execute_result"
    }
   ],
   "source": [
    "# defaultdict can be used so that instead of throwing an error when a key doesn't exist in a dictionary,\n",
    "# you get a default value back instead.\n",
    "\n",
    "from collections import defaultdict\n",
    "\n",
    "default_dict = defaultdict(lambda: 0)\n",
    "\n",
    "# With a normal dictionary, this would throw an error, since the key [\"one\"] does not exist.\n",
    "default_dict[\"one\"]"
   ]
  },
  {
   "cell_type": "code",
   "execution_count": 29,
   "metadata": {},
   "outputs": [
    {
     "name": "stdout",
     "output_type": "stream",
     "text": [
      "a\n",
      "b\n",
      "c\n"
     ]
    }
   ],
   "source": [
    "# OrderedDict keeps items in the order they were added, and considers order when evaluating equality.\n",
    "\n",
    "from collections import OrderedDict\n",
    "\n",
    "ordered_dict = OrderedDict()\n",
    "\n",
    "ordered_dict[\"a\"] = 1\n",
    "ordered_dict[\"b\"] = 2\n",
    "ordered_dict[\"c\"] = 3\n",
    "\n",
    "for item in ordered_dict:\n",
    "    print(item)"
   ]
  },
  {
   "cell_type": "code",
   "execution_count": 30,
   "metadata": {},
   "outputs": [
    {
     "name": "stdout",
     "output_type": "stream",
     "text": [
      "27\n",
      "Sam\n"
     ]
    }
   ],
   "source": [
    "# namedtuple gives names to tuple arguments and is a quick way to create a class with fields\n",
    "\n",
    "from collections import namedtuple\n",
    "\n",
    "Person = namedtuple(\"Person\", \"name age\")\n",
    "\n",
    "sam = Person(age = 27, name = \"Sam\")\n",
    "\n",
    "print(sam.age)\n",
    "print(sam.name)"
   ]
  },
  {
   "cell_type": "markdown",
   "metadata": {},
   "source": [
    "## 38. Datetime"
   ]
  },
  {
   "cell_type": "code",
   "execution_count": 39,
   "metadata": {},
   "outputs": [
    {
     "name": "stdout",
     "output_type": "stream",
     "text": [
      "1. 10:41:00\n",
      "2. 2017-11-23\n",
      "2. 23\n",
      "2. 11\n",
      "2. 2017\n",
      "2. time.struct_time(tm_year=2017, tm_mon=11, tm_mday=23, tm_hour=0, tm_min=0, tm_sec=0, tm_wday=3, tm_yday=327, tm_isdst=-1)\n",
      "3. 2017-01-01\n",
      "3. 2020-01-01\n",
      "4. 1095 days, 0:00:00\n"
     ]
    }
   ],
   "source": [
    "import datetime\n",
    "\n",
    "# 1. Get a time only object\n",
    "time = datetime.time(10, 41, 00)\n",
    "\n",
    "\n",
    "print(\"1. {}\".format(time))\n",
    "\n",
    "# 2. Get a full datetime object\n",
    "today = datetime.date.today()\n",
    "\n",
    "print(\"2. {}\".format(today))\n",
    "print(\"2. {}\".format(today.day))\n",
    "print(\"2. {}\".format(today.month))\n",
    "print(\"2. {}\".format(today.year))\n",
    "print(\"2. {}\".format(today.timetuple()))\n",
    "\n",
    "# 3. You can add on some value to a date to get another date in the future/past\n",
    "\n",
    "some_date = datetime.date(2017, 1, 1)\n",
    "some_other_date = some_date.replace(year=2020)\n",
    "\n",
    "print(\"3. {}\".format(some_date))\n",
    "print(\"3. {}\".format(some_other_date))\n",
    "\n",
    "# 4. You can perform arthimetic on dates too.\n",
    "\n",
    "difference_in_days = some_other_date - some_date\n",
    "\n",
    "print(\"4. {}\".format(difference_in_days))\n",
    "\n"
   ]
  },
  {
   "cell_type": "markdown",
   "metadata": {},
   "source": [
    "## 39. Python Debugger\n",
    "Import pdb to use the Python debugger."
   ]
  },
  {
   "cell_type": "code",
   "execution_count": null,
   "metadata": {},
   "outputs": [
    {
     "name": "stdout",
     "output_type": "stream",
     "text": [
      "> \u001b[0;32m<ipython-input-1-5d554bb8cb23>\u001b[0m(6)\u001b[0;36madd_to_life_universe_everything\u001b[0;34m()\u001b[0m\n",
      "\u001b[0;32m      4 \u001b[0;31m    \u001b[0manswer\u001b[0m \u001b[0;34m=\u001b[0m \u001b[0;36m42\u001b[0m\u001b[0;34m\u001b[0m\u001b[0m\n",
      "\u001b[0m\u001b[0;32m      5 \u001b[0;31m    \u001b[0mset_trace\u001b[0m\u001b[0;34m(\u001b[0m\u001b[0;34m)\u001b[0m\u001b[0;34m\u001b[0m\u001b[0m\n",
      "\u001b[0m\u001b[0;32m----> 6 \u001b[0;31m    \u001b[0manswer\u001b[0m \u001b[0;34m+=\u001b[0m \u001b[0mx\u001b[0m\u001b[0;34m\u001b[0m\u001b[0m\n",
      "\u001b[0m\u001b[0;32m      7 \u001b[0;31m\u001b[0;34m\u001b[0m\u001b[0m\n",
      "\u001b[0m\u001b[0;32m      8 \u001b[0;31m    \u001b[0;32mreturn\u001b[0m \u001b[0manswer\u001b[0m\u001b[0;34m\u001b[0m\u001b[0m\n",
      "\u001b[0m\n",
      "ipdb> answer\n",
      "42\n",
      "ipdb> x\n",
      "12\n",
      "ipdb> \n",
      "12\n",
      "ipdb> \n",
      "12\n"
     ]
    }
   ],
   "source": [
    "from IPython.core.debugger import set_trace\n",
    "\n",
    "def add_to_life_universe_everything(x):\n",
    "    answer = 42\n",
    "    set_trace()\n",
    "    answer += x\n",
    "    \n",
    "    return answer\n",
    "\n",
    "add_to_life_universe_everything(12)"
   ]
  },
  {
   "cell_type": "markdown",
   "metadata": {
    "collapsed": true
   },
   "source": [
    "## 40. Use timeit to time code"
   ]
  },
  {
   "cell_type": "code",
   "execution_count": 7,
   "metadata": {},
   "outputs": [
    {
     "name": "stdout",
     "output_type": "stream",
     "text": [
      "1. 0.3085180460002448\n",
      "27.9 µs ± 410 ns per loop (mean ± std. dev. of 7 runs, 10000 loops each)\n"
     ]
    }
   ],
   "source": [
    "# 1. Generate 0-1...99, 10,000 times\n",
    "import timeit\n",
    "\n",
    "time = timeit.timeit('\"-\".join(str(n) for n in range(100))', number=10000)\n",
    "\n",
    "print(\"1. {}\".format(time))\n",
    "\n",
    "# 2. %timeit will run a certain number of loops (Python will constrain this based on the actual running time)\n",
    "#    and give you the best of 3.\n",
    "%timeit \"-\".join(str(n) for n in range(100))"
   ]
  },
  {
   "cell_type": "markdown",
   "metadata": {},
   "source": [
    "## 41. Regex\n",
    "Useful reference: http://www.tutorialspoint.com/python/python_reg_expressions.htm"
   ]
  },
  {
   "cell_type": "code",
   "execution_count": 10,
   "metadata": {},
   "outputs": [
    {
     "name": "stdout",
     "output_type": "stream",
     "text": [
      "Searching for search term 1 in Here is a sentence with search term 1 but not the other term....\n",
      "search term 1 found!\n",
      "Starting at index 24\n",
      "Ending at 37\n",
      "Searching for search term 2 in Here is a sentence with search term 1 but not the other term....\n",
      "search term 2 not found\n"
     ]
    }
   ],
   "source": [
    "import re\n",
    "\n",
    "# 1. Search for matches\n",
    "patterns = [\"search term 1\", \"search term 2\"]\n",
    "\n",
    "sentence = \"Here is a sentence with search term 1 but not the other term.\"\n",
    "\n",
    "for pattern in patterns:\n",
    "    print(\"Searching for {} in {}...\".format(pattern, sentence))\n",
    "    \n",
    "    match = re.search(pattern, sentence)\n",
    "    \n",
    "    if match:\n",
    "        print(\"{} found!\".format(pattern))\n",
    "        print(\"Starting at index {}\".format(match.start()))\n",
    "        print(\"Ending at {}\".format(match.end()))\n",
    "    else:\n",
    "        print(\"{} not found\".format(pattern))"
   ]
  },
  {
   "cell_type": "code",
   "execution_count": 13,
   "metadata": {},
   "outputs": [
    {
     "name": "stdout",
     "output_type": "stream",
     "text": [
      "gmail.com\n"
     ]
    }
   ],
   "source": [
    "# 2. We can split strings with regex too\n",
    "token = \"@\"\n",
    "\n",
    "email = \"me@gmail.com\"\n",
    "\n",
    "domain = re.split(token, email)\n",
    "\n",
    "print(domain[1])"
   ]
  },
  {
   "cell_type": "code",
   "execution_count": 19,
   "metadata": {},
   "outputs": [
    {
     "name": "stdout",
     "output_type": "stream",
     "text": [
      "2\n"
     ]
    }
   ],
   "source": [
    "# 3. We can also get a list of all instances\n",
    "emails = \"me@gmail.com another@yahoo.com bill@net.com guy@gmail.com\"\n",
    "\n",
    "num_of_gmail_addresses = len(re.findall(\"gmail.com\", emails))\n",
    "\n",
    "print(num_of_gmail_addresses)"
   ]
  },
  {
   "cell_type": "code",
   "execution_count": 23,
   "metadata": {},
   "outputs": [
    {
     "name": "stdout",
     "output_type": "stream",
     "text": [
      "Searching the phrase using the re check: 'sd*'\n",
      "['sd', 'sd', 's', 's', 'sddd', 'sddd', 'sddd', 'sd', 's', 's', 's', 's', 's', 's', 'sdddd']\n",
      "\n",
      "\n",
      "Searching the phrase using the re check: 'sd+'\n",
      "['sd', 'sd', 'sddd', 'sddd', 'sddd', 'sd', 'sdddd']\n",
      "\n",
      "\n",
      "Searching the phrase using the re check: 'sd?'\n",
      "['sd', 'sd', 's', 's', 'sd', 'sd', 'sd', 'sd', 's', 's', 's', 's', 's', 's', 'sd']\n",
      "\n",
      "\n",
      "Searching the phrase using the re check: 'sd{3}'\n",
      "['sddd', 'sddd', 'sddd', 'sddd']\n",
      "\n",
      "\n",
      "Searching the phrase using the re check: 'sd{2,3}'\n",
      "['sddd', 'sddd', 'sddd', 'sddd']\n",
      "\n",
      "\n",
      "Searching the phrase using the re check: '[sd]'\n",
      "['s', 'd', 's', 'd', 's', 's', 's', 'd', 'd', 'd', 's', 'd', 'd', 'd', 's', 'd', 'd', 'd', 'd', 's', 'd', 's', 'd', 's', 's', 's', 's', 's', 's', 'd', 'd', 'd', 'd']\n",
      "\n",
      "\n",
      "Searching the phrase using the re check: 's[sd]+'\n",
      "['sdsd', 'sssddd', 'sdddsddd', 'sds', 'sssss', 'sdddd']\n",
      "\n",
      "\n"
     ]
    }
   ],
   "source": [
    "# 4. Patterns and recognitions\n",
    "def multi_re_find(patterns,phrase):\n",
    "    '''\n",
    "    Takes in a list of regex patterns\n",
    "    Prints a list of all matches\n",
    "    '''\n",
    "    for pattern in patterns:\n",
    "        print('Searching the phrase using the re check: %r' %pattern)\n",
    "        print(re.findall(pattern,phrase))\n",
    "        print('\\n')\n",
    "        \n",
    "test_phrase = 'sdsd..sssddd...sdddsddd...dsds...dsssss...sdddd'\n",
    "\n",
    "test_patterns = [ 'sd*',     # s followed by zero or more d's\n",
    "                'sd+',       # s followed by one or more d's\n",
    "                'sd?',       # s followed by zero or one d's\n",
    "                'sd{3}',     # s followed by three d's\n",
    "                'sd{2,3}',   # s followed by two to three d's\n",
    "                ]\n",
    "\n",
    "multi_re_find(test_patterns,test_phrase)\n",
    "\n",
    "# Or use character sets to match option patterns\n",
    "\n",
    "test_phrase = 'sdsd..sssddd...sdddsddd...dsds...dsssss...sdddd'\n",
    "\n",
    "test_patterns = [ '[sd]',    # either s or d\n",
    "                  's[sd]+']  # s followed by one or more s or d\n",
    "            \n",
    "\n",
    "multi_re_find(test_patterns,test_phrase)"
   ]
  },
  {
   "cell_type": "code",
   "execution_count": 25,
   "metadata": {},
   "outputs": [
    {
     "data": {
      "text/plain": [
       "['This',\n",
       " 'is',\n",
       " 'a',\n",
       " 'string',\n",
       " 'But',\n",
       " 'it',\n",
       " 'has',\n",
       " 'punctuation',\n",
       " 'How',\n",
       " 'can',\n",
       " 'we',\n",
       " 'remove',\n",
       " 'it']"
      ]
     },
     "execution_count": 25,
     "metadata": {},
     "output_type": "execute_result"
    }
   ],
   "source": [
    "# 5. Exclusion\n",
    "# Use ^ to exclude terms. [^...] will exclude any terms in the brackets. I.e., it will include any term not\n",
    "# in the brackets.\n",
    "\n",
    "test_phrase = 'This is a string! But it has punctuation. How can we remove it?'\n",
    "\n",
    "# This will match anything that is not ! . ? ' ' (space). The + says the match should appear at least once.\n",
    "re.findall('[^!.? ]+',test_phrase)"
   ]
  },
  {
   "cell_type": "code",
   "execution_count": 27,
   "metadata": {},
   "outputs": [
    {
     "name": "stdout",
     "output_type": "stream",
     "text": [
      "Searching the phrase using the re check: '[a-z]+'\n",
      "['his', 'is', 'an', 'example', 'sentence', 'ets', 'see', 'if', 'we', 'can', 'find', 'some', 'letters']\n",
      "\n",
      "\n",
      "Searching the phrase using the re check: '[A-Z]+'\n",
      "['T', 'L']\n",
      "\n",
      "\n",
      "Searching the phrase using the re check: '[a-zA-Z]+'\n",
      "['This', 'is', 'an', 'example', 'sentence', 'Lets', 'see', 'if', 'we', 'can', 'find', 'some', 'letters']\n",
      "\n",
      "\n",
      "Searching the phrase using the re check: '[A-Z][a-z]+'\n",
      "['This', 'Lets']\n",
      "\n",
      "\n"
     ]
    }
   ],
   "source": [
    "# 6. Character ranges\n",
    "test_phrase = 'This is an example sentence. Lets see if we can find some letters.'\n",
    "\n",
    "test_patterns=[ '[a-z]+',      # sequences of lower case letters\n",
    "                '[A-Z]+',      # sequences of upper case letters\n",
    "                '[a-zA-Z]+',   # sequences of lower or upper case letters\n",
    "                '[A-Z][a-z]+'] # one upper case letter followed by lower case letters\n",
    "                \n",
    "multi_re_find(test_patterns,test_phrase)"
   ]
  },
  {
   "cell_type": "code",
   "execution_count": 31,
   "metadata": {},
   "outputs": [
    {
     "name": "stdout",
     "output_type": "stream",
     "text": [
      "Searching the phrase using the re check: '\\\\d+'\n",
      "['1233']\n",
      "\n",
      "\n",
      "Searching the phrase using the re check: '\\\\D+'\n",
      "['This is a string with some numbers ', ' and a symbol #hashtag']\n",
      "\n",
      "\n",
      "Searching the phrase using the re check: '\\\\s+'\n",
      "[' ', ' ', ' ', ' ', ' ', ' ', ' ', ' ', ' ', ' ', ' ']\n",
      "\n",
      "\n",
      "Searching the phrase using the re check: '\\\\S+'\n",
      "['This', 'is', 'a', 'string', 'with', 'some', 'numbers', '1233', 'and', 'a', 'symbol', '#hashtag']\n",
      "\n",
      "\n",
      "Searching the phrase using the re check: '\\\\w+'\n",
      "['This', 'is', 'a', 'string', 'with', 'some', 'numbers', '1233', 'and', 'a', 'symbol', 'hashtag']\n",
      "\n",
      "\n",
      "Searching the phrase using the re check: '\\\\W+'\n",
      "[' ', ' ', ' ', ' ', ' ', ' ', ' ', ' ', ' ', ' ', ' #']\n",
      "\n",
      "\n"
     ]
    }
   ],
   "source": [
    "# 7. Escape codes\n",
    "# Use escape codes to find whitespace, digits, non-digits, etc.\n",
    "\n",
    "test_phrase = 'This is a string with some numbers 1233 and a symbol #hashtag'\n",
    "\n",
    "test_patterns=[ r'\\d+', # sequence of digits\n",
    "                r'\\D+', # sequence of non-digits\n",
    "                r'\\s+', # sequence of whitespace\n",
    "                r'\\S+', # sequence of non-whitespace\n",
    "                r'\\w+', # alphanumeric characters\n",
    "                r'\\W+', # non-alphanumeric\n",
    "                ]\n",
    "\n",
    "multi_re_find(test_patterns,test_phrase)"
   ]
  },
  {
   "cell_type": "markdown",
   "metadata": {},
   "source": [
    "## 42. Number functions"
   ]
  },
  {
   "cell_type": "code",
   "execution_count": 33,
   "metadata": {},
   "outputs": [
    {
     "data": {
      "text/plain": [
       "'0x7b'"
      ]
     },
     "execution_count": 33,
     "metadata": {},
     "output_type": "execute_result"
    }
   ],
   "source": [
    "hex(123)"
   ]
  },
  {
   "cell_type": "code",
   "execution_count": 35,
   "metadata": {},
   "outputs": [
    {
     "data": {
      "text/plain": [
       "'0b100'"
      ]
     },
     "execution_count": 35,
     "metadata": {},
     "output_type": "execute_result"
    }
   ],
   "source": [
    "bin(4)"
   ]
  },
  {
   "cell_type": "code",
   "execution_count": 37,
   "metadata": {},
   "outputs": [
    {
     "data": {
      "text/plain": [
       "8"
      ]
     },
     "execution_count": 37,
     "metadata": {},
     "output_type": "execute_result"
    }
   ],
   "source": [
    "pow(2,3)"
   ]
  },
  {
   "cell_type": "code",
   "execution_count": 38,
   "metadata": {},
   "outputs": [
    {
     "data": {
      "text/plain": [
       "10"
      ]
     },
     "execution_count": 38,
     "metadata": {},
     "output_type": "execute_result"
    }
   ],
   "source": [
    "abs(-10)"
   ]
  },
  {
   "cell_type": "code",
   "execution_count": 40,
   "metadata": {},
   "outputs": [
    {
     "data": {
      "text/plain": [
       "3.14"
      ]
     },
     "execution_count": 40,
     "metadata": {},
     "output_type": "execute_result"
    }
   ],
   "source": [
    "round(3.14159, 2)"
   ]
  },
  {
   "cell_type": "markdown",
   "metadata": {},
   "source": [
    "## 43. String functions"
   ]
  },
  {
   "cell_type": "code",
   "execution_count": 44,
   "metadata": {
    "collapsed": true
   },
   "outputs": [],
   "source": [
    "my_string = \"hello world\""
   ]
  },
  {
   "cell_type": "code",
   "execution_count": 45,
   "metadata": {},
   "outputs": [
    {
     "data": {
      "text/plain": [
       "'Hello world'"
      ]
     },
     "execution_count": 45,
     "metadata": {},
     "output_type": "execute_result"
    }
   ],
   "source": [
    "my_string.capitalize()"
   ]
  },
  {
   "cell_type": "code",
   "execution_count": 47,
   "metadata": {},
   "outputs": [
    {
     "data": {
      "text/plain": [
       "2"
      ]
     },
     "execution_count": 47,
     "metadata": {},
     "output_type": "execute_result"
    }
   ],
   "source": [
    "my_string.count(\"o\")"
   ]
  },
  {
   "cell_type": "code",
   "execution_count": 49,
   "metadata": {},
   "outputs": [
    {
     "data": {
      "text/plain": [
       "3"
      ]
     },
     "execution_count": 49,
     "metadata": {},
     "output_type": "execute_result"
    }
   ],
   "source": [
    "my_string.find(\"lo\")"
   ]
  },
  {
   "cell_type": "code",
   "execution_count": 50,
   "metadata": {},
   "outputs": [
    {
     "data": {
      "text/plain": [
       "'    hello world     '"
      ]
     },
     "execution_count": 50,
     "metadata": {},
     "output_type": "execute_result"
    }
   ],
   "source": [
    "# Centre padded with arg\n",
    "my_string.center(20, ' ')"
   ]
  },
  {
   "cell_type": "code",
   "execution_count": 51,
   "metadata": {},
   "outputs": [
    {
     "data": {
      "text/plain": [
       "'hello   world'"
      ]
     },
     "execution_count": 51,
     "metadata": {},
     "output_type": "execute_result"
    }
   ],
   "source": [
    "# Convert tabs to spaces\n",
    "\"hello\\tworld\".expandtabs()"
   ]
  },
  {
   "cell_type": "code",
   "execution_count": 52,
   "metadata": {},
   "outputs": [
    {
     "data": {
      "text/plain": [
       "False"
      ]
     },
     "execution_count": 52,
     "metadata": {},
     "output_type": "execute_result"
    }
   ],
   "source": [
    "# Check alphanumeric\n",
    "my_string.isalnum()"
   ]
  },
  {
   "cell_type": "code",
   "execution_count": 53,
   "metadata": {},
   "outputs": [
    {
     "data": {
      "text/plain": [
       "False"
      ]
     },
     "execution_count": 53,
     "metadata": {},
     "output_type": "execute_result"
    }
   ],
   "source": [
    "# Check is spaces\n",
    "my_string.isspace()"
   ]
  },
  {
   "cell_type": "code",
   "execution_count": 54,
   "metadata": {},
   "outputs": [
    {
     "data": {
      "text/plain": [
       "('h', 'e', 'llo')"
      ]
     },
     "execution_count": 54,
     "metadata": {},
     "output_type": "execute_result"
    }
   ],
   "source": [
    "\"hello\".partition(\"e\")"
   ]
  },
  {
   "cell_type": "markdown",
   "metadata": {},
   "source": [
    "## 44. Set functions"
   ]
  },
  {
   "cell_type": "code",
   "execution_count": 55,
   "metadata": {},
   "outputs": [
    {
     "name": "stdout",
     "output_type": "stream",
     "text": [
      "{1, 2}\n",
      "{1, 2, 3}\n"
     ]
    }
   ],
   "source": [
    "my_set = set()\n",
    "\n",
    "my_set.add(1)\n",
    "my_set.add(2)\n",
    "\n",
    "set_copy = my_set.copy()\n",
    "\n",
    "set_copy.add(3)\n",
    "\n",
    "print(my_set)\n",
    "print(set_copy)"
   ]
  },
  {
   "cell_type": "code",
   "execution_count": 57,
   "metadata": {},
   "outputs": [
    {
     "data": {
      "text/plain": [
       "{3}"
      ]
     },
     "execution_count": 57,
     "metadata": {},
     "output_type": "execute_result"
    }
   ],
   "source": [
    "set_copy.difference(my_set)"
   ]
  },
  {
   "cell_type": "code",
   "execution_count": 60,
   "metadata": {},
   "outputs": [
    {
     "name": "stdout",
     "output_type": "stream",
     "text": [
      "{3}\n"
     ]
    }
   ],
   "source": [
    "s1 = {1, 2, 3}\n",
    "s2 = {1, 2, 6}\n",
    "\n",
    "# Removes intersection of s1 and s2 from s1\n",
    "s1.difference_update(s2)\n",
    "\n",
    "print(s1)"
   ]
  },
  {
   "cell_type": "code",
   "execution_count": 63,
   "metadata": {},
   "outputs": [
    {
     "name": "stdout",
     "output_type": "stream",
     "text": [
      "{2}\n"
     ]
    }
   ],
   "source": [
    "my_set.discard(1)\n",
    "\n",
    "print(my_set)\n",
    "\n",
    "# No error if we try to discard something that doesn't exist\n",
    "my_set.discard(0)"
   ]
  },
  {
   "cell_type": "code",
   "execution_count": 64,
   "metadata": {},
   "outputs": [
    {
     "name": "stdout",
     "output_type": "stream",
     "text": [
      "{1, 2}\n"
     ]
    }
   ],
   "source": [
    "# Inverse of difference_update = intersection_update\n",
    "\n",
    "s1 = {1, 2, 3}\n",
    "s2 = {1, 2, 6}\n",
    "\n",
    "s1.intersection_update(s2)\n",
    "\n",
    "print(s1)"
   ]
  },
  {
   "cell_type": "code",
   "execution_count": 65,
   "metadata": {},
   "outputs": [
    {
     "data": {
      "text/plain": [
       "True"
      ]
     },
     "execution_count": 65,
     "metadata": {},
     "output_type": "execute_result"
    }
   ],
   "source": [
    "# disjoint = no intersection\n",
    "\n",
    "s1 = {1, 2, 3}\n",
    "s2 = {4, 5, 6}\n",
    "\n",
    "s1.isdisjoint(s2)"
   ]
  },
  {
   "cell_type": "code",
   "execution_count": 66,
   "metadata": {},
   "outputs": [
    {
     "name": "stdout",
     "output_type": "stream",
     "text": [
      "{1, 2, 3, 4, 5, 6}\n"
     ]
    }
   ],
   "source": [
    "s1.update(s2)\n",
    "\n",
    "print(s1)"
   ]
  },
  {
   "cell_type": "markdown",
   "metadata": {},
   "source": [
    "## 45. Dictionary functions"
   ]
  },
  {
   "cell_type": "code",
   "execution_count": 68,
   "metadata": {},
   "outputs": [
    {
     "name": "stdout",
     "output_type": "stream",
     "text": [
      "{0: 0, 1: 1, 2: 4, 3: 9, 4: 16, 5: 25, 6: 36, 7: 49, 8: 64, 9: 81}\n"
     ]
    }
   ],
   "source": [
    "# Dictionary comprehension\n",
    "\n",
    "my_dict = {x:x**2 for x in range(10)}\n",
    "\n",
    "print(my_dict)"
   ]
  },
  {
   "cell_type": "code",
   "execution_count": 70,
   "metadata": {},
   "outputs": [
    {
     "name": "stdout",
     "output_type": "stream",
     "text": [
      "0\n",
      "1\n",
      "2\n",
      "3\n",
      "4\n",
      "5\n",
      "6\n",
      "7\n",
      "8\n",
      "9\n"
     ]
    }
   ],
   "source": [
    "for key in my_dict.keys():\n",
    "    print(key)"
   ]
  },
  {
   "cell_type": "code",
   "execution_count": 72,
   "metadata": {},
   "outputs": [
    {
     "name": "stdout",
     "output_type": "stream",
     "text": [
      "0\n",
      "1\n",
      "4\n",
      "9\n",
      "16\n",
      "25\n",
      "36\n",
      "49\n",
      "64\n",
      "81\n"
     ]
    }
   ],
   "source": [
    "for value in my_dict.values():\n",
    "    print(value)"
   ]
  },
  {
   "cell_type": "code",
   "execution_count": 74,
   "metadata": {},
   "outputs": [
    {
     "name": "stdout",
     "output_type": "stream",
     "text": [
      "(0, 0)\n",
      "(1, 1)\n",
      "(2, 4)\n",
      "(3, 9)\n",
      "(4, 16)\n",
      "(5, 25)\n",
      "(6, 36)\n",
      "(7, 49)\n",
      "(8, 64)\n",
      "(9, 81)\n"
     ]
    }
   ],
   "source": [
    "for item in my_dict.items():\n",
    "    print(item)"
   ]
  },
  {
   "cell_type": "markdown",
   "metadata": {},
   "source": [
    "## 46. List functions"
   ]
  },
  {
   "cell_type": "code",
   "execution_count": 77,
   "metadata": {},
   "outputs": [
    {
     "name": "stdout",
     "output_type": "stream",
     "text": [
      "[1, 2, 3, [4, 5]]\n"
     ]
    }
   ],
   "source": [
    "my_list = [1, 2, 3]\n",
    "\n",
    "# Append adds the WHOLE object onto the list\n",
    "\n",
    "my_list.append([4, 5])\n",
    "\n",
    "print(my_list)"
   ]
  },
  {
   "cell_type": "code",
   "execution_count": 78,
   "metadata": {},
   "outputs": [
    {
     "name": "stdout",
     "output_type": "stream",
     "text": [
      "[1, 2, 3, 4, 5]\n"
     ]
    }
   ],
   "source": [
    "my_list = [1, 2, 3]\n",
    "\n",
    "# Extend adds every element from the iterable onto the list\n",
    "\n",
    "my_list.extend([4, 5])\n",
    "\n",
    "print(my_list)"
   ]
  },
  {
   "cell_type": "code",
   "execution_count": 79,
   "metadata": {},
   "outputs": [
    {
     "data": {
      "text/plain": [
       "3"
      ]
     },
     "execution_count": 79,
     "metadata": {},
     "output_type": "execute_result"
    }
   ],
   "source": [
    "my_list.index(4)"
   ]
  },
  {
   "cell_type": "code",
   "execution_count": 87,
   "metadata": {},
   "outputs": [
    {
     "name": "stdout",
     "output_type": "stream",
     "text": [
      "[1, 2, 3, 4]\n"
     ]
    }
   ],
   "source": [
    "my_list = [1, 2, 4]\n",
    "\n",
    "my_list.insert(2, 3)\n",
    "\n",
    "print(my_list)"
   ]
  },
  {
   "cell_type": "markdown",
   "metadata": {},
   "source": [
    "## 47. GUIs\n",
    "Note, many different GUI frameworks exist.\n",
    "Flask and Django can be used for web backend work."
   ]
  },
  {
   "cell_type": "markdown",
   "metadata": {},
   "source": [
    "### 47.1 Interact"
   ]
  },
  {
   "cell_type": "code",
   "execution_count": 89,
   "metadata": {
    "collapsed": true
   },
   "outputs": [],
   "source": [
    "from __future__ import print_function\n",
    "from ipywidgets import interact, interactive, fixed\n",
    "import ipywidgets as widgets"
   ]
  },
  {
   "cell_type": "code",
   "execution_count": 90,
   "metadata": {
    "collapsed": true
   },
   "outputs": [],
   "source": [
    "# Very basic function\n",
    "def f(x):\n",
    "    return x"
   ]
  },
  {
   "cell_type": "code",
   "execution_count": 91,
   "metadata": {},
   "outputs": [
    {
     "data": {
      "application/vnd.jupyter.widget-view+json": {
       "model_id": "0434b2e659a346d8a0e5b4613fe92290",
       "version_major": 2,
       "version_minor": 0
      },
      "text/plain": [
       "A Jupyter Widget"
      ]
     },
     "metadata": {},
     "output_type": "display_data"
    }
   ],
   "source": [
    "# Generate a slider to interact with\n",
    "interact(f, x=10,);"
   ]
  },
  {
   "cell_type": "code",
   "execution_count": 92,
   "metadata": {},
   "outputs": [
    {
     "name": "stdout",
     "output_type": "stream",
     "text": [
      "hi\n"
     ]
    }
   ],
   "source": [
    "print(\"hi\")"
   ]
  },
  {
   "cell_type": "code",
   "execution_count": 93,
   "metadata": {},
   "outputs": [
    {
     "data": {
      "application/vnd.jupyter.widget-view+json": {
       "model_id": "7faf5a7b26174517adfb4b02433ad508",
       "version_major": 2,
       "version_minor": 0
      },
      "text/plain": [
       "A Jupyter Widget"
      ]
     },
     "metadata": {},
     "output_type": "display_data"
    }
   ],
   "source": [
    "# Booleans generate check-boxes\n",
    "interact(f, x=True);"
   ]
  },
  {
   "cell_type": "code",
   "execution_count": 94,
   "metadata": {},
   "outputs": [
    {
     "data": {
      "application/vnd.jupyter.widget-view+json": {
       "model_id": "bbe44b1acce84442be6ef6579e7f340d",
       "version_major": 2,
       "version_minor": 0
      },
      "text/plain": [
       "A Jupyter Widget"
      ]
     },
     "metadata": {},
     "output_type": "display_data"
    }
   ],
   "source": [
    "# Strings generate text areas\n",
    "interact(f, x='Hi there!');"
   ]
  },
  {
   "cell_type": "code",
   "execution_count": 95,
   "metadata": {},
   "outputs": [
    {
     "data": {
      "application/vnd.jupyter.widget-view+json": {
       "model_id": "61f7b8247c554dac858a216aaebfdb37",
       "version_major": 2,
       "version_minor": 0
      },
      "text/plain": [
       "A Jupyter Widget"
      ]
     },
     "metadata": {},
     "output_type": "display_data"
    }
   ],
   "source": [
    "# Using a decorator!\n",
    "@interact(x=True, y=1.0)\n",
    "def g(x, y):\n",
    "    return (x, y)"
   ]
  },
  {
   "cell_type": "code",
   "execution_count": 96,
   "metadata": {},
   "outputs": [
    {
     "data": {
      "application/vnd.jupyter.widget-view+json": {
       "model_id": "9eeaee6a1f5c487f849f844e278437a5",
       "version_major": 2,
       "version_minor": 0
      },
      "text/plain": [
       "A Jupyter Widget"
      ]
     },
     "metadata": {},
     "output_type": "display_data"
    }
   ],
   "source": [
    "def h(p, q):\n",
    "    return (p, q)\n",
    "\n",
    "# Here we hold q constant with the fixed keyword, and change p\n",
    "interact(h, p=5, q=fixed(20));"
   ]
  },
  {
   "cell_type": "code",
   "execution_count": 97,
   "metadata": {},
   "outputs": [
    {
     "data": {
      "application/vnd.jupyter.widget-view+json": {
       "model_id": "c0d98677eff54b7cb404327bb610cb35",
       "version_major": 2,
       "version_minor": 0
      },
      "text/plain": [
       "A Jupyter Widget"
      ]
     },
     "metadata": {},
     "output_type": "display_data"
    },
    {
     "data": {
      "text/plain": [
       "<function __main__.f>"
      ]
     },
     "execution_count": 97,
     "metadata": {},
     "output_type": "execute_result"
    }
   ],
   "source": [
    "# Can call the IntSlider to get more specific\n",
    "interact(f, x=widgets.IntSlider(min=-10,max=30,step=1,value=10))"
   ]
  },
  {
   "cell_type": "code",
   "execution_count": 98,
   "metadata": {},
   "outputs": [
    {
     "data": {
      "application/vnd.jupyter.widget-view+json": {
       "model_id": "2ff9ca237697493c827fe48482775691",
       "version_major": 2,
       "version_minor": 0
      },
      "text/plain": [
       "A Jupyter Widget"
      ]
     },
     "metadata": {},
     "output_type": "display_data"
    },
    {
     "data": {
      "text/plain": [
       "<function __main__.f>"
      ]
     },
     "execution_count": 98,
     "metadata": {},
     "output_type": "execute_result"
    }
   ],
   "source": [
    "interact(f, x={'one': 10, 'two': 20})"
   ]
  },
  {
   "cell_type": "code",
   "execution_count": 100,
   "metadata": {},
   "outputs": [
    {
     "data": {
      "application/vnd.jupyter.widget-view+json": {
       "model_id": "97f27a8e42274dfea4a319e333f70ab1",
       "version_major": 2,
       "version_minor": 0
      },
      "text/plain": [
       "A Jupyter Widget"
      ]
     },
     "metadata": {},
     "output_type": "display_data"
    }
   ],
   "source": [
    "def f(x:True): # python 3 only\n",
    "    return x\n",
    "\n",
    "interact(f);"
   ]
  },
  {
   "cell_type": "markdown",
   "metadata": {},
   "source": [
    "### 47.2 Widgets"
   ]
  },
  {
   "cell_type": "code",
   "execution_count": 101,
   "metadata": {
    "collapsed": true
   },
   "outputs": [],
   "source": [
    "from ipywidgets import *"
   ]
  },
  {
   "cell_type": "code",
   "execution_count": 107,
   "metadata": {},
   "outputs": [
    {
     "data": {
      "application/vnd.jupyter.widget-view+json": {
       "model_id": "33216777d6e54f46b0698f0f326465bc",
       "version_major": 2,
       "version_minor": 0
      },
      "text/plain": [
       "A Jupyter Widget"
      ]
     },
     "metadata": {},
     "output_type": "display_data"
    }
   ],
   "source": [
    "from IPython.display import display\n",
    "w = IntSlider()\n",
    "display(w)"
   ]
  },
  {
   "cell_type": "code",
   "execution_count": 109,
   "metadata": {},
   "outputs": [
    {
     "data": {
      "application/vnd.jupyter.widget-view+json": {
       "model_id": "33216777d6e54f46b0698f0f326465bc",
       "version_major": 2,
       "version_minor": 0
      },
      "text/plain": [
       "A Jupyter Widget"
      ]
     },
     "metadata": {},
     "output_type": "display_data"
    },
    {
     "name": "stdout",
     "output_type": "stream",
     "text": [
      "10\n"
     ]
    }
   ],
   "source": [
    "# Will keep in sync with widget above\n",
    "display(w)\n",
    "print(w.value)"
   ]
  },
  {
   "cell_type": "code",
   "execution_count": 110,
   "metadata": {},
   "outputs": [
    {
     "data": {
      "text/plain": [
       "['_dom_classes',\n",
       " '_model_module',\n",
       " '_model_module_version',\n",
       " '_model_name',\n",
       " '_view_count',\n",
       " '_view_module',\n",
       " '_view_module_version',\n",
       " '_view_name',\n",
       " 'continuous_update',\n",
       " 'description',\n",
       " 'disabled',\n",
       " 'layout',\n",
       " 'max',\n",
       " 'min',\n",
       " 'orientation',\n",
       " 'readout',\n",
       " 'readout_format',\n",
       " 'step',\n",
       " 'style',\n",
       " 'value']"
      ]
     },
     "execution_count": 110,
     "metadata": {},
     "output_type": "execute_result"
    }
   ],
   "source": [
    "w.keys"
   ]
  },
  {
   "cell_type": "code",
   "execution_count": 105,
   "metadata": {
    "collapsed": true
   },
   "outputs": [],
   "source": [
    "w.close()"
   ]
  },
  {
   "cell_type": "code",
   "execution_count": 112,
   "metadata": {},
   "outputs": [
    {
     "data": {
      "application/vnd.jupyter.widget-view+json": {
       "model_id": "46d39ad577b4450ba3156cef5d3f7e90",
       "version_major": 2,
       "version_minor": 0
      },
      "text/plain": [
       "A Jupyter Widget"
      ]
     },
     "metadata": {},
     "output_type": "display_data"
    }
   ],
   "source": [
    "# Set default values\n",
    "Text(value='Hello World!', disabled=True)"
   ]
  },
  {
   "cell_type": "code",
   "execution_count": 114,
   "metadata": {},
   "outputs": [
    {
     "data": {
      "application/vnd.jupyter.widget-view+json": {
       "model_id": "b65ec9dd1f5b41c797a8dde082a54894",
       "version_major": 2,
       "version_minor": 0
      },
      "text/plain": [
       "A Jupyter Widget"
      ]
     },
     "metadata": {},
     "output_type": "display_data"
    },
    {
     "data": {
      "application/vnd.jupyter.widget-view+json": {
       "model_id": "4606834de1ac427ca357080420476ef5",
       "version_major": 2,
       "version_minor": 0
      },
      "text/plain": [
       "A Jupyter Widget"
      ]
     },
     "metadata": {},
     "output_type": "display_data"
    }
   ],
   "source": [
    "# Link 2 widgets\n",
    "from traitlets import link\n",
    "a = FloatText()\n",
    "b = FloatSlider()\n",
    "display(a,b)\n",
    "\n",
    "mylink = link((a, 'value'), (b, 'value'))"
   ]
  },
  {
   "cell_type": "markdown",
   "metadata": {},
   "source": [
    "### 47.3 Widget Events"
   ]
  },
  {
   "cell_type": "code",
   "execution_count": 116,
   "metadata": {},
   "outputs": [
    {
     "data": {
      "application/vnd.jupyter.widget-view+json": {
       "model_id": "848cad51494143c7b9c5f6a9fd057948",
       "version_major": 2,
       "version_minor": 0
      },
      "text/plain": [
       "A Jupyter Widget"
      ]
     },
     "metadata": {},
     "output_type": "display_data"
    },
    {
     "name": "stdout",
     "output_type": "stream",
     "text": [
      "Button clicked.\n"
     ]
    }
   ],
   "source": [
    "from IPython.display import display\n",
    "button = widgets.Button(description=\"Click Me!\")\n",
    "display(button)\n",
    "\n",
    "def on_button_clicked(b):\n",
    "    print(\"Button clicked.\")\n",
    "\n",
    "button.on_click(on_button_clicked)"
   ]
  },
  {
   "cell_type": "markdown",
   "metadata": {},
   "source": [
    "For a more comprehensive widget list:\n",
    "http://nbviewer.jupyter.org/github/jmportilla/Complete-Python-Bootcamp/blob/master/GUI/4%20-%20Widget%20List.ipynb\n",
    "    "
   ]
  },
  {
   "cell_type": "code",
   "execution_count": null,
   "metadata": {
    "collapsed": true
   },
   "outputs": [],
   "source": []
  }
 ],
 "metadata": {
  "kernelspec": {
   "display_name": "Python 3",
   "language": "python",
   "name": "python3"
  },
  "language_info": {
   "codemirror_mode": {
    "name": "ipython",
    "version": 3
   },
   "file_extension": ".py",
   "mimetype": "text/x-python",
   "name": "python",
   "nbconvert_exporter": "python",
   "pygments_lexer": "ipython3",
   "version": "3.6.3"
  }
 },
 "nbformat": 4,
 "nbformat_minor": 2
}
