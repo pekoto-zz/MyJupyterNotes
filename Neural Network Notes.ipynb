{
 "cells": [
  {
   "cell_type": "markdown",
   "metadata": {},
   "source": [
    "# Neural network notes"
   ]
  },
  {
   "cell_type": "markdown",
   "metadata": {},
   "source": [
    "Imagine we want to predict our score on a test (y) based on how many hours we slept and how long we studied (x).\n",
    "Let's set up some training data."
   ]
  },
  {
   "cell_type": "code",
   "execution_count": 2,
   "metadata": {
    "collapsed": true
   },
   "outputs": [],
   "source": [
    "import numpy as np\n",
    "\n",
    "# x = (hours slept/hours studied)\n",
    "X = np.array(([3,5], [5,1], [10,2]), dtype=float)\n",
    "\n",
    "# y = score on test\n",
    "y = np.array(([75], [82], [93]), dtype=float)"
   ]
  },
  {
   "cell_type": "code",
   "execution_count": 3,
   "metadata": {},
   "outputs": [
    {
     "data": {
      "text/plain": [
       "array([[  3.,   5.],\n",
       "       [  5.,   1.],\n",
       "       [ 10.,   2.]])"
      ]
     },
     "execution_count": 3,
     "metadata": {},
     "output_type": "execute_result"
    }
   ],
   "source": [
    "X"
   ]
  },
  {
   "cell_type": "code",
   "execution_count": 4,
   "metadata": {},
   "outputs": [
    {
     "data": {
      "text/plain": [
       "array([[ 75.],\n",
       "       [ 82.],\n",
       "       [ 93.]])"
      ]
     },
     "execution_count": 4,
     "metadata": {},
     "output_type": "execute_result"
    }
   ],
   "source": [
    "y"
   ]
  },
  {
   "cell_type": "markdown",
   "metadata": {},
   "source": [
    "This is called a __supervised regression__ problem.\n",
    "\n",
    "* _supervised_: examples have inputs (hours slept/hours studied) and outputs (score)\n",
    "* _regression_:  we are predicting test score, which is a _continuous_ output\n",
    "\n",
    "If we were prediciting a letter grade, it would be a __classification__ problem.\n",
    "\n",
    "Anyway, to solve this problem, we will use an __aritificial neural network__ (ANN).\n",
    "\n",
    "The first problem we have is that the input is in hours, but the output is a score of 100. To make sure our variables are on the same scale, let's divide each variable by the maximum for each variable."
   ]
  },
  {
   "cell_type": "code",
   "execution_count": 5,
   "metadata": {
    "collapsed": true
   },
   "outputs": [],
   "source": [
    "X = X/np.amax(X, axis=0)\n",
    "y = y/100 # Max test score is 100"
   ]
  },
  {
   "cell_type": "code",
   "execution_count": 6,
   "metadata": {},
   "outputs": [
    {
     "data": {
      "text/plain": [
       "array([[ 0.3,  1. ],\n",
       "       [ 0.5,  0.2],\n",
       "       [ 1. ,  0.4]])"
      ]
     },
     "execution_count": 6,
     "metadata": {},
     "output_type": "execute_result"
    }
   ],
   "source": [
    "X"
   ]
  },
  {
   "cell_type": "code",
   "execution_count": 7,
   "metadata": {},
   "outputs": [
    {
     "data": {
      "text/plain": [
       "array([[ 0.75],\n",
       "       [ 0.82],\n",
       "       [ 0.93]])"
      ]
     },
     "execution_count": 7,
     "metadata": {},
     "output_type": "execute_result"
    }
   ],
   "source": [
    "y"
   ]
  },
  {
   "cell_type": "markdown",
   "metadata": {},
   "source": [
    " What will our network look like? We'll have 2 inputs -- hours of sleep and hours of study, and 1 output -- $\\hat{y}$.\n",
    " \n",
    "We call the output $\\hat{y}$ because it's an estimate of y, but not the same as y.\n",
    "\n",
    "The layers inbetween these inputs and outputs are __hidden layers__.\n",
    "\n",
    "We'll use 1 hidden layer with 3 neurons.\n",
    "\n",
    "<img src=\"images/neuralnet.jpg\" alt=\"\" style=\"width: 400px;\"/>"
   ]
  },
  {
   "cell_type": "markdown",
   "metadata": {},
   "source": [
    "Now, we're going to store all of our inputs in a matrix called X.\n",
    "\n",
    "Then we'll store all of our weights in a matrix called W<sup>(1)</sup>.\n",
    "\n",
    "Each element in matrix X gets put into the input neurons, multiplied by the weights connected to that neuron and then summed.\n",
    "\n",
    "<img src=\"images/fp1.jpg\" alt=\"\" style=\"width: 400px;\"/>\n",
    "\n",
    "-->\n",
    "\n",
    "<img src=\"images/fp2.jpg\" alt=\"\" style=\"width: 400px;\"/>\n",
    "\n",
    "Then we can just multiply all of these together to get the values for our neurons in our hidden layer. We'll call that resulting matrix Z<sup>(2)</sup>. To clarify, this Z matrix is the result of putting through all of our inputs multiplied by our weights.\n",
    "\n",
    "<img src=\"images/matricesandweights.jpg\" alt=\"\" style=\"width: 400px;\"/>\n",
    "\n",
    "In Z, every entry is a sum of weighted inputs.\n",
    "Z is 3x3:\n",
    "\n",
    "* Row = 1 for each example\n",
    "* Column = 1 for each hidden unit\n",
    "\n",
    "In other words, each column is the values for the three examples for each of the neurons in the hidden layer.\n",
    "Remember, we are putting through all of the data at once.\n",
    "\n",
    "Anyway, this gives us our first formula:\n",
    "\n",
    "__Z<sup>(2)</sup> = XW<sup>(1)</sup>__\n",
    "\n",
    "Now that we have our values for each neuron in the hidden layer, we need to apply our activation function to it."
   ]
  },
  {
   "cell_type": "code",
   "execution_count": 8,
   "metadata": {},
   "outputs": [
    {
     "data": {
      "image/png": "[encoded data removed]",
      "text/plain": [
       "<matplotlib.figure.Figure at 0x18ea98d74a8>"
      ]
     },
     "metadata": {},
     "output_type": "display_data"
    }
   ],
   "source": [
    "# For our activation function f, we'lluse sigmoid\n",
    "# Reminder: sigmoid will be close to 0 when -ve, and close to 1 when +ve\n",
    "%matplotlib inline\n",
    "import matplotlib.pyplot as plt\n",
    "\n",
    "\n",
    "def sigmoid(z):\n",
    "    # Apply sigmoid activation function\n",
    "    return 1/(1+np.exp(-z))\n",
    "\n",
    "test_input = np.arange(-6, 6, 0.01)\n",
    "plt.plot(test_input, sigmoid(test_input), linewidth=2)\n",
    "plt.grid(1)"
   ]
  },
  {
   "cell_type": "markdown",
   "metadata": {
    "collapsed": true
   },
   "source": [
    "This gives us our second forward propagation formula:\n",
    "\n",
    "__a<sup>(2)</sup> = f(z<sup>(2)</sup>)__, where f is our sigmoid -- acitivation -- function.\n",
    "\n",
    "a<sup>(2)</sup> will also be a 3x3 matrix -- it's just our matrix Z run through sigmoid.\n",
    "\n",
    "Now, to get our output, we need to multiply that value by our second layer weights, W<sub>(2)</sub>.\n",
    "\n",
    "This gives us our third formula:\n",
    "\n",
    "__Z<sub>(3)</sub> = a<sub>(2)</sub>W<sub>(2)</sub>__\n",
    "\n",
    "<img src=\"images/w2.jpg\" alt=\"\" style=\"width: 400px;\"/>\n",
    "\n",
    "\n",
    "W<sub>(2)</sub> is a 3x1 matrix -- one weight for each synapse.\n",
    "\n",
    "So applying it will give us another 3x1 matrix.\n",
    "\n",
    "Finally, we'll just apply our activation function to that Z<sub>(3)</sub> matrix to get our official estimate.\n",
    "\n",
    "So our last formula is:\n",
    "__$\\hat{y}$ = f(z<sub>(3)</sub>)__"
   ]
  },
  {
   "cell_type": "code",
   "execution_count": 9,
   "metadata": {
    "collapsed": true
   },
   "outputs": [],
   "source": [
    "# Let's create a neural network class\n",
    "class Neural_Network(object):\n",
    "    def __init__(self):\n",
    "        # Define HyperParameters\n",
    "        # HyperParameters: Define structure and behaviour of our network\n",
    "        # but are not updated as we train the network.\n",
    "        self.inputLayerSize = 2\n",
    "        self.outputLayerSize = 1\n",
    "        self.hiddenLayerSize = 3\n",
    "        \n",
    "        # Weights (parameters)\n",
    "        self.W1 = np.random.randn(self.inputLayerSize, \\\n",
    "                                  self.hiddenLayerSize)\n",
    "        \n",
    "        self.W2 = np.random.randn(self.hiddenLayerSize, \\\n",
    "                                  self.outputLayerSize)\n",
    "        \n",
    "    def forward(self, X):\n",
    "        # Propagate inputs through the network\n",
    "        # Sending through all inputs at once in a matrix is more efficient\n",
    "        self.z2 = np.dot(X, self.W1) # z2 = all inputs * input weights, 3x3 matrix\n",
    "        self.a2 = self.sigmoid(self.z2) # a2 = z2 squished into 0-1\n",
    "        self.z3 = np.dot(self.a2, self.W2) # z3 = z2 * output weights\n",
    "        y_hat = self.sigmoid(self.z3) # y_hat = z3 squished into 0-1\n",
    "        return y_hat\n",
    "    \n",
    "    def sigmoid(self, z):\n",
    "        # Apply sigmoid activation function\n",
    "        return 1/(1+np.exp(-z))"
   ]
  },
  {
   "cell_type": "code",
   "execution_count": 10,
   "metadata": {
    "collapsed": true
   },
   "outputs": [],
   "source": [
    "network = Neural_Network()"
   ]
  },
  {
   "cell_type": "code",
   "execution_count": 11,
   "metadata": {},
   "outputs": [
    {
     "data": {
      "text/plain": [
       "array([[-0.20175029, -0.22737057, -0.57701327],\n",
       "       [ 0.60627812,  0.87224924, -0.00799866]])"
      ]
     },
     "execution_count": 11,
     "metadata": {},
     "output_type": "execute_result"
    }
   ],
   "source": [
    "network.W1"
   ]
  },
  {
   "cell_type": "code",
   "execution_count": 12,
   "metadata": {},
   "outputs": [
    {
     "data": {
      "text/plain": [
       "array([[-0.54778073],\n",
       "       [ 0.90779693],\n",
       "       [-0.44196512]])"
      ]
     },
     "execution_count": 12,
     "metadata": {},
     "output_type": "execute_result"
    }
   ],
   "source": [
    "network.W2"
   ]
  },
  {
   "cell_type": "code",
   "execution_count": 13,
   "metadata": {},
   "outputs": [
    {
     "data": {
      "text/plain": [
       "array([[ 0.51981118],\n",
       "       [ 0.50046304],\n",
       "       [ 0.51083826]])"
      ]
     },
     "execution_count": 13,
     "metadata": {},
     "output_type": "execute_result"
    }
   ],
   "source": [
    "y_hat = network.forward(X)\n",
    "y_hat"
   ]
  },
  {
   "cell_type": "markdown",
   "metadata": {},
   "source": [
    "With random weights, this network will obviously __not__ give good results!\n",
    "\n",
    "We need to train it."
   ]
  },
  {
   "cell_type": "markdown",
   "metadata": {},
   "source": [
    "# Gradient Descent\n",
    "To improve our network, we first need to work out exactly how wrong it is.\n",
    "\n",
    "We do this by using a __cost function__. The higher the result of the cost function, the more wrong our model is.\n",
    "\n",
    "One way to compute a cost function is:\n",
    "\n",
    "1. For every output:\n",
    "2. Work out the difference between the correct value and our result\n",
    "3. Square this value\n",
    "4. Multiply it by 0.5 (why? it will make things simpler apparently)\n",
    "5. Sum all of these values up\n",
    "\n",
    "Formally:\n",
    "\n",
    "$J = \\sum \\frac{1}{2}(y-\\hat{y})^2$\n",
    "\n",
    "So, we want to minimize this cost function to make the network more accurate.\n",
    "\n",
    "_Training a network == Minimizing the cost function_\n",
    "\n",
    "So, how do we minimize the cost function? Well, by changing the weights.\n",
    "Conceptually, this is quite simple -- there must be some combination of weights that will make our cost function as small as possible.\n",
    "\n",
    "<img src=\"images/neural_net_notes/weightchanging.jpg\" alt=\"\" style=\"width: 400px;\"/>\n",
    "\n",
    "Our cost function is an expression in terms of y and $\\hat{y}$, and $\\hat{y}$ was given by our previous equations. Substituting $\\hat{y}$ for the equations in our neural network that gave us $\\hat{y}$, we get:\n",
    "\n",
    "$J = \\sum \\frac{1}{2}(y-f(XW^{(1)})W^{(2)}))^2$\n",
    "\n",
    "Now we want to know, what is the rate of change for J with respect to W. I.e., how does J change when we change W, our weights.\n",
    "\n",
    "Well, remember calculus. This is a derivative. Specifically, since we just consider one weight at a time, it's a partial derivative.\n",
    "\n",
    "$\\frac{dJ}{dW}$\n",
    "\n",
    "Recall that the gradient of a function consists of a vector with all of it's partial derivatives.\n",
    "\n",
    "The gradient has another nice property -- it's the slope of steepest ascent.\n",
    "\n",
    "Therefore, if we take the -ve gradient, we will be going downhill -- descending -- as quickly as possible.\n",
    "\n",
    "So this is where __gradient descent__ comes in:\n",
    "\n",
    "1. Compute the gradient of our function\n",
    "2. Take a small step in the -gradient direction\n",
    "3. Repeat until we've minimized our function\n",
    "\n",
    "One issue is that we might hit a local minima instead of a global minima. This is one reason we square our differences in the cost function -- it tends to give us a parabola, which obviously won't have local minima.\n",
    "\n",
    "Sometimes we can just take our input in batches instead of all at once, and it won't matter if the function is convex or not -- this is stochastic gradient descent (taking input in batches). But for now we'll process all input at once."
   ]
  },
  {
   "cell_type": "markdown",
   "metadata": {
    "collapsed": true
   },
   "source": [
    "# Backpropagation\n",
    "We have 2 sets of weights -- input weights and output weights.\n",
    "\n",
    "We'll calculate the derivative of these weights indiviually.\n",
    "\n",
    "<img src=\"images/neural_net_notes/weightmatrices.jpg\" alt=\"\" style=\"width: 400px;\"/>\n",
    "\n",
    "Let's take $W^{(2)}$ first:\n",
    "\n",
    "$\\frac{\\partial{J}}{\\partial{W^{(2)}}} = \\frac{\\partial{\\sum \\frac{1}{2}(y-\\hat{y})^2}}{\\partial{W^{(2)}}}$\n",
    "\n",
    "(Recall J is the sum of all our error scores.)\n",
    "\n",
    "We can use the sum rule: the derivative of the sum == the sum of the derivatives.\n",
    "\n",
    "So move the sum outside, and just worry about the derivative of the inside expression:\n",
    "\n",
    "$\\frac{\\partial{J}}{\\partial{W^{(2)}}} = \\sum \\frac{\\partial{\\frac{1}{2}(y-\\hat{y})^2}}{\\partial{W^{(2)}}}$\n",
    "\n",
    "Crunching through the derivative with the power rule and then chain rule, we come to:\n",
    "\n",
    "$-(y-\\hat{y})\\frac{\\partial{\\hat{y}}}{\\partial{W^{(2)}}}$\n",
    "\n",
    "-- We need to take the derivative of $\\hat{y}$ with respect to W.\n",
    "\n",
    "Recall that $\\hat{y} = f(Z^{(3)})$ -- y hat is the activation function applied to z3. (z3 was our output from the hidden layer * output weights).\n",
    "\n",
    "So we apply the chain rule again:\n",
    "\n",
    "$-(y-\\hat{y})\\frac{\\partial{\\hat{y}}}{\\partial{Z^{(3)}}}\\frac{\\partial{Z^{(3)}}}{\\partial{W^{(2)}}}$\n",
    "\n",
    "To differentiate $\\hat{y}$ with respect to $Z^{(3)}$, we need need to differentiate our sigmoid function with respect to Z."
   ]
  },
  {
   "cell_type": "code",
   "execution_count": 15,
   "metadata": {
    "collapsed": true
   },
   "outputs": [],
   "source": [
    "def sigmoid_prime(z):\n",
    "    # Derivative of Sigmoid function\n",
    "    return np.exp(-z)/((1+np.exp(-z))**2)"
   ]
  },
  {
   "cell_type": "code",
   "execution_count": 20,
   "metadata": {},
   "outputs": [
    {
     "data": {
      "text/plain": [
       "<matplotlib.legend.Legend at 0x18eaa56c5c0>"
      ]
     },
     "execution_count": 20,
     "metadata": {},
     "output_type": "execute_result"
    },
    {
     "data": {
      "image/png": "[encoded data removed]",
      "text/plain": [
       "<matplotlib.figure.Figure at 0x18eaac57198>"
      ]
     },
     "metadata": {},
     "output_type": "display_data"
    }
   ],
   "source": [
    "# The derivative will be largest where our function is the steepest\n",
    "test_values = np.arange(-5, 5, 0.01)\n",
    "\n",
    "plt.plot(test_values, sigmoid(test_values), linewidth=2)\n",
    "plt.plot(test_values, sigmoid_prime(test_values), linewidth=2)\n",
    "plt.grid(1)\n",
    "plt.legend(['sigmoid', 'sigmoid_prime'])"
   ]
  },
  {
   "cell_type": "markdown",
   "metadata": {},
   "source": [
    "So we can replace to get:\n",
    "\n",
    "$-(y-\\hat{y})f'({Z^{(3)}})\\frac{\\partial{Z^{(3)}}}{\\partial{W^{(2)}}}$"
   ]
  },
  {
   "cell_type": "code",
   "execution_count": null,
   "metadata": {
    "collapsed": true
   },
   "outputs": [],
   "source": []
  }
 ],
 "metadata": {
  "kernelspec": {
   "display_name": "Python 3",
   "language": "python",
   "name": "python3"
  },
  "language_info": {
   "codemirror_mode": {
    "name": "ipython",
    "version": 3
   },
   "file_extension": ".py",
   "mimetype": "text/x-python",
   "name": "python",
   "nbconvert_exporter": "python",
   "pygments_lexer": "ipython3",
   "version": "3.6.3"
  }
 },
 "nbformat": 4,
 "nbformat_minor": 2
}
