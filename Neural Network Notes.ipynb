{
 "cells": [
  {
   "cell_type": "markdown",
   "metadata": {},
   "source": [
    "# Neural network notes"
   ]
  },
  {
   "cell_type": "markdown",
   "metadata": {},
   "source": [
    "Imagine we want to predict our score on a test (y) based on how many hours we slept and how long we studied (x).\n",
    "Let's set up some training data."
   ]
  },
  {
   "cell_type": "code",
   "execution_count": 6,
   "metadata": {
    "collapsed": true
   },
   "outputs": [],
   "source": [
    "import numpy as np\n",
    "\n",
    "# x = (hours slept/hours studied)\n",
    "X = np.array(([3,5], [5,1], [10,2]), dtype=float)\n",
    "\n",
    "# y = score on test\n",
    "y = np.array(([75], [82], [93]), dtype=float)"
   ]
  },
  {
   "cell_type": "code",
   "execution_count": 7,
   "metadata": {},
   "outputs": [
    {
     "data": {
      "text/plain": [
       "array([[  3.,   5.],\n",
       "       [  5.,   1.],\n",
       "       [ 10.,   2.]])"
      ]
     },
     "execution_count": 7,
     "metadata": {},
     "output_type": "execute_result"
    }
   ],
   "source": [
    "X"
   ]
  },
  {
   "cell_type": "code",
   "execution_count": 8,
   "metadata": {},
   "outputs": [
    {
     "data": {
      "text/plain": [
       "array([[ 75.],\n",
       "       [ 82.],\n",
       "       [ 93.]])"
      ]
     },
     "execution_count": 8,
     "metadata": {},
     "output_type": "execute_result"
    }
   ],
   "source": [
    "y"
   ]
  },
  {
   "cell_type": "markdown",
   "metadata": {},
   "source": [
    "This is called a __supervised regression__ problem.\n",
    "\n",
    "* _supervised_: examples have inputs (hours slept/hours studied) and outputs (score)\n",
    "* _regression_:  we are predicting test score, which is a _continuous_ output\n",
    "\n",
    "If we were prediciting a letter grade, it would be a __classification__ problem.\n",
    "\n",
    "Anyway, to solve this problem, we will use an __aritificial neural network__ (ANN).\n",
    "\n",
    "The first problem we have is that the input is in hours, but the output is a score of 100. To make sure our variables are on the same scale, let's divide each variable by the maximum for each variable."
   ]
  },
  {
   "cell_type": "code",
   "execution_count": 9,
   "metadata": {},
   "outputs": [],
   "source": [
    "X = X/np.amax(X, axis=0)\n",
    "y = y/100 # Max test score is 100"
   ]
  },
  {
   "cell_type": "code",
   "execution_count": 11,
   "metadata": {},
   "outputs": [
    {
     "data": {
      "text/plain": [
       "array([[ 0.3,  1. ],\n",
       "       [ 0.5,  0.2],\n",
       "       [ 1. ,  0.4]])"
      ]
     },
     "execution_count": 11,
     "metadata": {},
     "output_type": "execute_result"
    }
   ],
   "source": [
    "X"
   ]
  },
  {
   "cell_type": "code",
   "execution_count": 12,
   "metadata": {},
   "outputs": [
    {
     "data": {
      "text/plain": [
       "array([[ 0.75],\n",
       "       [ 0.82],\n",
       "       [ 0.93]])"
      ]
     },
     "execution_count": 12,
     "metadata": {},
     "output_type": "execute_result"
    }
   ],
   "source": [
    "y"
   ]
  },
  {
   "cell_type": "markdown",
   "metadata": {},
   "source": [
    " What will our network look like? We'll have 2 inputs -- hours of sleep and hours of study, and 1 output -- $\\hat{y}$.\n",
    " \n",
    "We call the output $\\hat{y}$ because it's an estimate of y, but not the same as y.\n",
    "\n",
    "The layers inbetween these inputs and outputs are __hidden layers__.\n",
    "\n",
    "We'll use 1 hidden layer with 3 neurons.\n",
    "\n",
    "![title](images/neuralnet.jpg)"
   ]
  },
  {
   "cell_type": "code",
   "execution_count": null,
   "metadata": {
    "collapsed": true
   },
   "outputs": [],
   "source": []
  }
 ],
 "metadata": {
  "kernelspec": {
   "display_name": "Python 3",
   "language": "python",
   "name": "python3"
  },
  "language_info": {
   "codemirror_mode": {
    "name": "ipython",
    "version": 3
   },
   "file_extension": ".py",
   "mimetype": "text/x-python",
   "name": "python",
   "nbconvert_exporter": "python",
   "pygments_lexer": "ipython3",
   "version": "3.6.3"
  }
 },
 "nbformat": 4,
 "nbformat_minor": 2
}
