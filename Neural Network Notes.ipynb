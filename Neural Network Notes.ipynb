{
 "cells": [
  {
   "cell_type": "markdown",
   "metadata": {},
   "source": [
    "# Neural network notes"
   ]
  },
  {
   "cell_type": "markdown",
   "metadata": {},
   "source": [
    "Imagine we want to predict our score on a test (y) based on how many hours we slept and how long we studied (x).\n",
    "Let's set up some training data."
   ]
  },
  {
   "cell_type": "code",
   "execution_count": 6,
   "metadata": {
    "collapsed": true
   },
   "outputs": [],
   "source": [
    "import numpy as np\n",
    "\n",
    "# x = (hours slept/hours studied)\n",
    "X = np.array(([3,5], [5,1], [10,2]), dtype=float)\n",
    "\n",
    "# y = score on test\n",
    "y = np.array(([75], [82], [93]), dtype=float)"
   ]
  },
  {
   "cell_type": "code",
   "execution_count": 7,
   "metadata": {},
   "outputs": [
    {
     "data": {
      "text/plain": [
       "array([[  3.,   5.],\n",
       "       [  5.,   1.],\n",
       "       [ 10.,   2.]])"
      ]
     },
     "execution_count": 7,
     "metadata": {},
     "output_type": "execute_result"
    }
   ],
   "source": [
    "X"
   ]
  },
  {
   "cell_type": "code",
   "execution_count": 8,
   "metadata": {},
   "outputs": [
    {
     "data": {
      "text/plain": [
       "array([[ 75.],\n",
       "       [ 82.],\n",
       "       [ 93.]])"
      ]
     },
     "execution_count": 8,
     "metadata": {},
     "output_type": "execute_result"
    }
   ],
   "source": [
    "y"
   ]
  },
  {
   "cell_type": "markdown",
   "metadata": {},
   "source": [
    "This is called a __supervised regression__ problem.\n",
    "\n",
    "* _supervised_: examples have inputs (hours slept/hours studied) and outputs (score)\n",
    "* _regression_:  we are predicting test score, which is a _continuous_ output\n",
    "\n",
    "If we were prediciting a letter grade, it would be a __classification__ problem.\n",
    "\n",
    "Anyway, to solve this problem, we will use an __aritificial neural network__ (ANN).\n",
    "\n",
    "The first problem we have is that the input is in hours, but the output is a score of 100. To make sure our variables are on the same scale, let's divide each variable by the maximum for each variable."
   ]
  },
  {
   "cell_type": "code",
   "execution_count": 9,
   "metadata": {
    "collapsed": true
   },
   "outputs": [],
   "source": [
    "X = X/np.amax(X, axis=0)\n",
    "y = y/100 # Max test score is 100"
   ]
  },
  {
   "cell_type": "code",
   "execution_count": 11,
   "metadata": {},
   "outputs": [
    {
     "data": {
      "text/plain": [
       "array([[ 0.3,  1. ],\n",
       "       [ 0.5,  0.2],\n",
       "       [ 1. ,  0.4]])"
      ]
     },
     "execution_count": 11,
     "metadata": {},
     "output_type": "execute_result"
    }
   ],
   "source": [
    "X"
   ]
  },
  {
   "cell_type": "code",
   "execution_count": 12,
   "metadata": {},
   "outputs": [
    {
     "data": {
      "text/plain": [
       "array([[ 0.75],\n",
       "       [ 0.82],\n",
       "       [ 0.93]])"
      ]
     },
     "execution_count": 12,
     "metadata": {},
     "output_type": "execute_result"
    }
   ],
   "source": [
    "y"
   ]
  },
  {
   "cell_type": "markdown",
   "metadata": {},
   "source": [
    " What will our network look like? We'll have 2 inputs -- hours of sleep and hours of study, and 1 output -- $\\hat{y}$.\n",
    " \n",
    "We call the output $\\hat{y}$ because it's an estimate of y, but not the same as y.\n",
    "\n",
    "The layers inbetween these inputs and outputs are __hidden layers__.\n",
    "\n",
    "We'll use 1 hidden layer with 3 neurons.\n",
    "\n",
    "<img src=\"images/neuralnet.jpg\" alt=\"\" style=\"width: 400px;\"/>"
   ]
  },
  {
   "cell_type": "code",
   "execution_count": 24,
   "metadata": {},
   "outputs": [],
   "source": [
    "# Let's create a neural network class\n",
    "class Neural_Network(object):\n",
    "    def __init__(self):\n",
    "        # Define HyperParameters\n",
    "        # HyperParameters: Define structure and behaviour of our network\n",
    "        # but are not updated as we train the network.\n",
    "        self.inputLayerSize = 2\n",
    "        self.outputLayerSize = 1\n",
    "        self.hiddenLayerSize = 3\n",
    "        \n",
    "        # Weights (parameters)\n",
    "        self.W1 = np.random.randn(self.inputLayerSize, \\\n",
    "                                  self.hiddenLayerSize)\n",
    "        \n",
    "        self.W2 = np.random.randn(self.hiddenLayerSize, \\\n",
    "                                  self.outputLayerSize)\n",
    "        \n",
    "    def forward(self, X):\n",
    "        # Propagate inputs through the network\n",
    "        # Sending through all inputs at once in a matrix is more efficient\n",
    "        self.z2 = np.dot(X, self.W1)\n",
    "        self.a2 = self.sigmoid(self.z2)\n",
    "        self.z3 = np.dot(self.a2, self.W2)\n",
    "        y_hat = self.sigmoid(self.z3)\n",
    "        return y_hat\n",
    "    \n",
    "    def sigmoid(z):\n",
    "        # Apply sigmoid activation function\n",
    "        return 1/(1+np.exp(-z))"
   ]
  },
  {
   "cell_type": "markdown",
   "metadata": {},
   "source": [
    "Now, while we're going to store all of our inputs in a matrix called X.\n",
    "\n",
    "Then we'll store all of our weights in a matrix called W<sup>(1)</sup>.\n",
    "\n",
    "Each element in matrix X gets put into the input neurons, multiplied by the weights connected to that neuron and then summed.\n",
    "\n",
    "<img src=\"images/fp1.jpg\" alt=\"\" style=\"width: 400px;\"/>\n",
    "\n",
    "-->\n",
    "\n",
    "<img src=\"images/fp2.jpg\" alt=\"\" style=\"width: 400px;\"/>\n",
    "\n",
    "Then we can just multiply all of these together to get the values for our neurons in our hidden layer. We'll call that resulting matrix Z<sup>(2)</sup>.\n",
    "\n",
    "<img src=\"images/matricesandweights.jpg\" alt=\"\" style=\"width: 400px;\"/>\n",
    "\n",
    "In Z, every entry is a sum of weighted inputs.\n",
    "Z is 3x3:\n",
    "\n",
    "* Row = 1 for each example\n",
    "* Column = 1 for each hidden unit\n",
    "\n",
    "Anyway, this gives us our first formula:\n",
    "\n",
    "__Z<sup>(2)</sup> = XW<sup>(1)</sup>__\n",
    "\n",
    "Now that we have our values for each neuron in the hidden layer, we need to apply our activation function to it."
   ]
  },
  {
   "cell_type": "code",
   "execution_count": 21,
   "metadata": {},
   "outputs": [
    {
     "data": {
      "image/png": "[encoded data removed]",
      "text/plain": [
       "<matplotlib.figure.Figure at 0x26d7c0060f0>"
      ]
     },
     "metadata": {},
     "output_type": "display_data"
    }
   ],
   "source": [
    "# For our activation function f, we'll use sigmoid\n",
    "# Reminder: sigmoid will be close to 0 when -ve, and close to 1 when +e\n",
    "%matplotlib inline\n",
    "import matplotlib.pyplot as plt\n",
    "\n",
    "\n",
    "def sigmoid(z):\n",
    "    # Apply sigmoid activation function\n",
    "    return 1/(1+np.exp(-z))\n",
    "\n",
    "test_input = np.arange(-6, 6, 0.01)\n",
    "plt.plot(test_input, sigmoid(test_input), linewidth=2)\n",
    "plt.grid(1)"
   ]
  },
  {
   "cell_type": "markdown",
   "metadata": {
    "collapsed": true
   },
   "source": [
    "This gives us our second forward propagation formula:\n",
    "\n",
    "__a<sup>(2)</sup> = f(z<sup>(2)</sup>)__, where f is our sigmoid -- acitivation -- function.\n",
    "\n",
    "a<sup>(2)</sup> will also be a 3x3 matrix -- it's just our matrix Z run through sigmoid.\n",
    "\n",
    "Now, to get our output, we need to multiply that value by our second layer weights, W<sub>(2)</sub>.\n",
    "\n",
    "This gives us our third formula:\n",
    "\n",
    "__Z<sub>(3)</sub> = a<sub>(2)</sub>W<sub>(2)</sub>__\n",
    "\n",
    "<img src=\"images/w2.jpg\" alt=\"\" style=\"width: 400px;\"/>\n",
    "\n",
    "\n",
    "W<sub>(2)</sub> is a 3x1 matrix -- one weight for each synapse.\n",
    "\n",
    "So applying it will give us another 3x1 matrix.\n",
    "\n",
    "Finally, we'll just apply our activation function to that Z<sub>(3)</sub> matrix to get our official estimate.\n",
    "\n",
    "So our last formula is:\n",
    "__$\\hat{y}$ = f(z<sub>(3)</sub>)__"
   ]
  },
  {
   "cell_type": "code",
   "execution_count": null,
   "metadata": {
    "collapsed": true
   },
   "outputs": [],
   "source": []
  }
 ],
 "metadata": {
  "kernelspec": {
   "display_name": "Python 3",
   "language": "python",
   "name": "python3"
  },
  "language_info": {
   "codemirror_mode": {
    "name": "ipython",
    "version": 3
   },
   "file_extension": ".py",
   "mimetype": "text/x-python",
   "name": "python",
   "nbconvert_exporter": "python",
   "pygments_lexer": "ipython3",
   "version": "3.6.3"
  }
 },
 "nbformat": 4,
 "nbformat_minor": 2
}
